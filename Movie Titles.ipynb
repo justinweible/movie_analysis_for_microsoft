{
 "cells": [
  {
   "cell_type": "code",
   "execution_count": 1,
   "metadata": {},
   "outputs": [],
   "source": [
    "import pandas as pd\n",
    "import numpy as np\n",
    "import matplotlib.pyplot as plt\n",
    "%matplotlib inline"
   ]
  },
  {
   "cell_type": "code",
   "execution_count": 2,
   "metadata": {},
   "outputs": [],
   "source": [
    "data_movie_gross = pd.read_csv('zippedData/bom.movie_gross.csv.gz')"
   ]
  },
  {
   "cell_type": "code",
   "execution_count": 3,
   "metadata": {},
   "outputs": [
    {
     "output_type": "execute_result",
     "data": {
      "text/plain": [
       "0       2010\n",
       "1       2010\n",
       "2       2010\n",
       "3       2010\n",
       "4       2010\n",
       "        ... \n",
       "3382    2018\n",
       "3383    2018\n",
       "3384    2018\n",
       "3385    2018\n",
       "3386    2018\n",
       "Name: year, Length: 3387, dtype: int64"
      ]
     },
     "metadata": {},
     "execution_count": 3
    }
   ],
   "source": [
    "data_movie_gross['year']"
   ]
  },
  {
   "cell_type": "code",
   "execution_count": 4,
   "metadata": {},
   "outputs": [],
   "source": [
    "data_title_ratings = pd.read_csv('zippedData/imdb.title.ratings.csv.gz')"
   ]
  },
  {
   "cell_type": "code",
   "execution_count": 5,
   "metadata": {},
   "outputs": [
    {
     "output_type": "execute_result",
     "data": {
      "text/plain": [
       "       tconst  averagerating  numvotes\n",
       "0  tt10356526            8.3        31\n",
       "1  tt10384606            8.9       559\n",
       "2   tt1042974            6.4        20\n",
       "3   tt1043726            4.2     50352\n",
       "4   tt1060240            6.5        21"
      ],
      "text/html": "<div>\n<style scoped>\n    .dataframe tbody tr th:only-of-type {\n        vertical-align: middle;\n    }\n\n    .dataframe tbody tr th {\n        vertical-align: top;\n    }\n\n    .dataframe thead th {\n        text-align: right;\n    }\n</style>\n<table border=\"1\" class=\"dataframe\">\n  <thead>\n    <tr style=\"text-align: right;\">\n      <th></th>\n      <th>tconst</th>\n      <th>averagerating</th>\n      <th>numvotes</th>\n    </tr>\n  </thead>\n  <tbody>\n    <tr>\n      <th>0</th>\n      <td>tt10356526</td>\n      <td>8.3</td>\n      <td>31</td>\n    </tr>\n    <tr>\n      <th>1</th>\n      <td>tt10384606</td>\n      <td>8.9</td>\n      <td>559</td>\n    </tr>\n    <tr>\n      <th>2</th>\n      <td>tt1042974</td>\n      <td>6.4</td>\n      <td>20</td>\n    </tr>\n    <tr>\n      <th>3</th>\n      <td>tt1043726</td>\n      <td>4.2</td>\n      <td>50352</td>\n    </tr>\n    <tr>\n      <th>4</th>\n      <td>tt1060240</td>\n      <td>6.5</td>\n      <td>21</td>\n    </tr>\n  </tbody>\n</table>\n</div>"
     },
     "metadata": {},
     "execution_count": 5
    }
   ],
   "source": [
    "data_title_ratings.head()"
   ]
  },
  {
   "cell_type": "code",
   "execution_count": 6,
   "metadata": {},
   "outputs": [],
   "source": [
    "data_title_basics = pd.read_csv('zippedData/imdb.title.basics.csv.gz')"
   ]
  },
  {
   "cell_type": "code",
   "execution_count": 7,
   "metadata": {},
   "outputs": [
    {
     "output_type": "execute_result",
     "data": {
      "text/plain": [
       "      tconst                    primary_title              original_title  \\\n",
       "0  tt0063540                        Sunghursh                   Sunghursh   \n",
       "1  tt0066787  One Day Before the Rainy Season             Ashad Ka Ek Din   \n",
       "2  tt0069049       The Other Side of the Wind  The Other Side of the Wind   \n",
       "3  tt0069204                  Sabse Bada Sukh             Sabse Bada Sukh   \n",
       "4  tt0100275         The Wandering Soap Opera       La Telenovela Errante   \n",
       "\n",
       "   start_year  runtime_minutes                genres  \n",
       "0        2013            175.0    Action,Crime,Drama  \n",
       "1        2019            114.0       Biography,Drama  \n",
       "2        2018            122.0                 Drama  \n",
       "3        2018              NaN          Comedy,Drama  \n",
       "4        2017             80.0  Comedy,Drama,Fantasy  "
      ],
      "text/html": "<div>\n<style scoped>\n    .dataframe tbody tr th:only-of-type {\n        vertical-align: middle;\n    }\n\n    .dataframe tbody tr th {\n        vertical-align: top;\n    }\n\n    .dataframe thead th {\n        text-align: right;\n    }\n</style>\n<table border=\"1\" class=\"dataframe\">\n  <thead>\n    <tr style=\"text-align: right;\">\n      <th></th>\n      <th>tconst</th>\n      <th>primary_title</th>\n      <th>original_title</th>\n      <th>start_year</th>\n      <th>runtime_minutes</th>\n      <th>genres</th>\n    </tr>\n  </thead>\n  <tbody>\n    <tr>\n      <th>0</th>\n      <td>tt0063540</td>\n      <td>Sunghursh</td>\n      <td>Sunghursh</td>\n      <td>2013</td>\n      <td>175.0</td>\n      <td>Action,Crime,Drama</td>\n    </tr>\n    <tr>\n      <th>1</th>\n      <td>tt0066787</td>\n      <td>One Day Before the Rainy Season</td>\n      <td>Ashad Ka Ek Din</td>\n      <td>2019</td>\n      <td>114.0</td>\n      <td>Biography,Drama</td>\n    </tr>\n    <tr>\n      <th>2</th>\n      <td>tt0069049</td>\n      <td>The Other Side of the Wind</td>\n      <td>The Other Side of the Wind</td>\n      <td>2018</td>\n      <td>122.0</td>\n      <td>Drama</td>\n    </tr>\n    <tr>\n      <th>3</th>\n      <td>tt0069204</td>\n      <td>Sabse Bada Sukh</td>\n      <td>Sabse Bada Sukh</td>\n      <td>2018</td>\n      <td>NaN</td>\n      <td>Comedy,Drama</td>\n    </tr>\n    <tr>\n      <th>4</th>\n      <td>tt0100275</td>\n      <td>The Wandering Soap Opera</td>\n      <td>La Telenovela Errante</td>\n      <td>2017</td>\n      <td>80.0</td>\n      <td>Comedy,Drama,Fantasy</td>\n    </tr>\n  </tbody>\n</table>\n</div>"
     },
     "metadata": {},
     "execution_count": 7
    }
   ],
   "source": [
    "data_title_basics.head()"
   ]
  },
  {
   "cell_type": "code",
   "execution_count": 8,
   "metadata": {},
   "outputs": [],
   "source": [
    "data_title_overall = pd.merge(data_title_basics, data_title_ratings, on='tconst', how='inner')"
   ]
  },
  {
   "cell_type": "code",
   "execution_count": 9,
   "metadata": {},
   "outputs": [
    {
     "output_type": "execute_result",
     "data": {
      "text/plain": [
       "      tconst                    primary_title              original_title  \\\n",
       "0  tt0063540                        Sunghursh                   Sunghursh   \n",
       "1  tt0066787  One Day Before the Rainy Season             Ashad Ka Ek Din   \n",
       "2  tt0069049       The Other Side of the Wind  The Other Side of the Wind   \n",
       "3  tt0069204                  Sabse Bada Sukh             Sabse Bada Sukh   \n",
       "4  tt0100275         The Wandering Soap Opera       La Telenovela Errante   \n",
       "\n",
       "   start_year  runtime_minutes                genres  averagerating  numvotes  \n",
       "0        2013            175.0    Action,Crime,Drama            7.0        77  \n",
       "1        2019            114.0       Biography,Drama            7.2        43  \n",
       "2        2018            122.0                 Drama            6.9      4517  \n",
       "3        2018              NaN          Comedy,Drama            6.1        13  \n",
       "4        2017             80.0  Comedy,Drama,Fantasy            6.5       119  "
      ],
      "text/html": "<div>\n<style scoped>\n    .dataframe tbody tr th:only-of-type {\n        vertical-align: middle;\n    }\n\n    .dataframe tbody tr th {\n        vertical-align: top;\n    }\n\n    .dataframe thead th {\n        text-align: right;\n    }\n</style>\n<table border=\"1\" class=\"dataframe\">\n  <thead>\n    <tr style=\"text-align: right;\">\n      <th></th>\n      <th>tconst</th>\n      <th>primary_title</th>\n      <th>original_title</th>\n      <th>start_year</th>\n      <th>runtime_minutes</th>\n      <th>genres</th>\n      <th>averagerating</th>\n      <th>numvotes</th>\n    </tr>\n  </thead>\n  <tbody>\n    <tr>\n      <th>0</th>\n      <td>tt0063540</td>\n      <td>Sunghursh</td>\n      <td>Sunghursh</td>\n      <td>2013</td>\n      <td>175.0</td>\n      <td>Action,Crime,Drama</td>\n      <td>7.0</td>\n      <td>77</td>\n    </tr>\n    <tr>\n      <th>1</th>\n      <td>tt0066787</td>\n      <td>One Day Before the Rainy Season</td>\n      <td>Ashad Ka Ek Din</td>\n      <td>2019</td>\n      <td>114.0</td>\n      <td>Biography,Drama</td>\n      <td>7.2</td>\n      <td>43</td>\n    </tr>\n    <tr>\n      <th>2</th>\n      <td>tt0069049</td>\n      <td>The Other Side of the Wind</td>\n      <td>The Other Side of the Wind</td>\n      <td>2018</td>\n      <td>122.0</td>\n      <td>Drama</td>\n      <td>6.9</td>\n      <td>4517</td>\n    </tr>\n    <tr>\n      <th>3</th>\n      <td>tt0069204</td>\n      <td>Sabse Bada Sukh</td>\n      <td>Sabse Bada Sukh</td>\n      <td>2018</td>\n      <td>NaN</td>\n      <td>Comedy,Drama</td>\n      <td>6.1</td>\n      <td>13</td>\n    </tr>\n    <tr>\n      <th>4</th>\n      <td>tt0100275</td>\n      <td>The Wandering Soap Opera</td>\n      <td>La Telenovela Errante</td>\n      <td>2017</td>\n      <td>80.0</td>\n      <td>Comedy,Drama,Fantasy</td>\n      <td>6.5</td>\n      <td>119</td>\n    </tr>\n  </tbody>\n</table>\n</div>"
     },
     "metadata": {},
     "execution_count": 9
    }
   ],
   "source": [
    "data_title_overall.head()"
   ]
  },
  {
   "cell_type": "code",
   "execution_count": 10,
   "metadata": {},
   "outputs": [],
   "source": [
    "data_title_overall = data_title_overall.rename(columns={'primary_title': 'title'})"
   ]
  },
  {
   "cell_type": "code",
   "execution_count": 11,
   "metadata": {},
   "outputs": [
    {
     "output_type": "execute_result",
     "data": {
      "text/plain": [
       "      tconst                            title              original_title  \\\n",
       "0  tt0063540                        Sunghursh                   Sunghursh   \n",
       "1  tt0066787  One Day Before the Rainy Season             Ashad Ka Ek Din   \n",
       "2  tt0069049       The Other Side of the Wind  The Other Side of the Wind   \n",
       "3  tt0069204                  Sabse Bada Sukh             Sabse Bada Sukh   \n",
       "4  tt0100275         The Wandering Soap Opera       La Telenovela Errante   \n",
       "\n",
       "   start_year  runtime_minutes                genres  averagerating  numvotes  \n",
       "0        2013            175.0    Action,Crime,Drama            7.0        77  \n",
       "1        2019            114.0       Biography,Drama            7.2        43  \n",
       "2        2018            122.0                 Drama            6.9      4517  \n",
       "3        2018              NaN          Comedy,Drama            6.1        13  \n",
       "4        2017             80.0  Comedy,Drama,Fantasy            6.5       119  "
      ],
      "text/html": "<div>\n<style scoped>\n    .dataframe tbody tr th:only-of-type {\n        vertical-align: middle;\n    }\n\n    .dataframe tbody tr th {\n        vertical-align: top;\n    }\n\n    .dataframe thead th {\n        text-align: right;\n    }\n</style>\n<table border=\"1\" class=\"dataframe\">\n  <thead>\n    <tr style=\"text-align: right;\">\n      <th></th>\n      <th>tconst</th>\n      <th>title</th>\n      <th>original_title</th>\n      <th>start_year</th>\n      <th>runtime_minutes</th>\n      <th>genres</th>\n      <th>averagerating</th>\n      <th>numvotes</th>\n    </tr>\n  </thead>\n  <tbody>\n    <tr>\n      <th>0</th>\n      <td>tt0063540</td>\n      <td>Sunghursh</td>\n      <td>Sunghursh</td>\n      <td>2013</td>\n      <td>175.0</td>\n      <td>Action,Crime,Drama</td>\n      <td>7.0</td>\n      <td>77</td>\n    </tr>\n    <tr>\n      <th>1</th>\n      <td>tt0066787</td>\n      <td>One Day Before the Rainy Season</td>\n      <td>Ashad Ka Ek Din</td>\n      <td>2019</td>\n      <td>114.0</td>\n      <td>Biography,Drama</td>\n      <td>7.2</td>\n      <td>43</td>\n    </tr>\n    <tr>\n      <th>2</th>\n      <td>tt0069049</td>\n      <td>The Other Side of the Wind</td>\n      <td>The Other Side of the Wind</td>\n      <td>2018</td>\n      <td>122.0</td>\n      <td>Drama</td>\n      <td>6.9</td>\n      <td>4517</td>\n    </tr>\n    <tr>\n      <th>3</th>\n      <td>tt0069204</td>\n      <td>Sabse Bada Sukh</td>\n      <td>Sabse Bada Sukh</td>\n      <td>2018</td>\n      <td>NaN</td>\n      <td>Comedy,Drama</td>\n      <td>6.1</td>\n      <td>13</td>\n    </tr>\n    <tr>\n      <th>4</th>\n      <td>tt0100275</td>\n      <td>The Wandering Soap Opera</td>\n      <td>La Telenovela Errante</td>\n      <td>2017</td>\n      <td>80.0</td>\n      <td>Comedy,Drama,Fantasy</td>\n      <td>6.5</td>\n      <td>119</td>\n    </tr>\n  </tbody>\n</table>\n</div>"
     },
     "metadata": {},
     "execution_count": 11
    }
   ],
   "source": [
    "data_title_overall.head()"
   ]
  },
  {
   "cell_type": "code",
   "execution_count": 12,
   "metadata": {},
   "outputs": [
    {
     "output_type": "execute_result",
     "data": {
      "text/plain": [
       "Index(['title', 'studio', 'domestic_gross', 'foreign_gross', 'year'], dtype='object')"
      ]
     },
     "metadata": {},
     "execution_count": 12
    }
   ],
   "source": [
    "data_movie_gross.columns"
   ]
  },
  {
   "cell_type": "code",
   "execution_count": 13,
   "metadata": {},
   "outputs": [],
   "source": [
    "movie_titles = pd.merge(data_movie_gross, data_title_overall, on='title', how='inner')"
   ]
  },
  {
   "cell_type": "code",
   "execution_count": 14,
   "metadata": {},
   "outputs": [
    {
     "output_type": "stream",
     "name": "stdout",
     "text": [
      "<class 'pandas.core.frame.DataFrame'>\nInt64Index: 3027 entries, 0 to 3026\nData columns (total 12 columns):\n #   Column           Non-Null Count  Dtype  \n---  ------           --------------  -----  \n 0   title            3027 non-null   object \n 1   studio           3024 non-null   object \n 2   domestic_gross   3005 non-null   float64\n 3   foreign_gross    1832 non-null   object \n 4   year             3027 non-null   int64  \n 5   tconst           3027 non-null   object \n 6   original_title   3027 non-null   object \n 7   start_year       3027 non-null   int64  \n 8   runtime_minutes  2980 non-null   float64\n 9   genres           3020 non-null   object \n 10  averagerating    3027 non-null   float64\n 11  numvotes         3027 non-null   int64  \ndtypes: float64(3), int64(3), object(6)\nmemory usage: 307.4+ KB\n"
     ]
    }
   ],
   "source": [
    "movie_titles.info()"
   ]
  },
  {
   "cell_type": "code",
   "execution_count": 15,
   "metadata": {},
   "outputs": [
    {
     "output_type": "execute_result",
     "data": {
      "text/plain": [
       "                        title studio  domestic_gross foreign_gross  year  \\\n",
       "0                 Toy Story 3     BV     415000000.0     652000000  2010   \n",
       "1                   Inception     WB     292600000.0     535700000  2010   \n",
       "2         Shrek Forever After   P/DW     238700000.0     513900000  2010   \n",
       "3  The Twilight Saga: Eclipse   Sum.     300500000.0     398000000  2010   \n",
       "4                  Iron Man 2   Par.     312400000.0     311500000  2010   \n",
       "\n",
       "      tconst              original_title  start_year  runtime_minutes  \\\n",
       "0  tt0435761                 Toy Story 3        2010            103.0   \n",
       "1  tt1375666                   Inception        2010            148.0   \n",
       "2  tt0892791         Shrek Forever After        2010             93.0   \n",
       "3  tt1325004  The Twilight Saga: Eclipse        2010            124.0   \n",
       "4  tt1228705                  Iron Man 2        2010            124.0   \n",
       "\n",
       "                       genres  averagerating  numvotes  \n",
       "0  Adventure,Animation,Comedy            8.3    682218  \n",
       "1     Action,Adventure,Sci-Fi            8.8   1841066  \n",
       "2  Adventure,Animation,Comedy            6.3    167532  \n",
       "3     Adventure,Drama,Fantasy            5.0    211733  \n",
       "4     Action,Adventure,Sci-Fi            7.0    657690  "
      ],
      "text/html": "<div>\n<style scoped>\n    .dataframe tbody tr th:only-of-type {\n        vertical-align: middle;\n    }\n\n    .dataframe tbody tr th {\n        vertical-align: top;\n    }\n\n    .dataframe thead th {\n        text-align: right;\n    }\n</style>\n<table border=\"1\" class=\"dataframe\">\n  <thead>\n    <tr style=\"text-align: right;\">\n      <th></th>\n      <th>title</th>\n      <th>studio</th>\n      <th>domestic_gross</th>\n      <th>foreign_gross</th>\n      <th>year</th>\n      <th>tconst</th>\n      <th>original_title</th>\n      <th>start_year</th>\n      <th>runtime_minutes</th>\n      <th>genres</th>\n      <th>averagerating</th>\n      <th>numvotes</th>\n    </tr>\n  </thead>\n  <tbody>\n    <tr>\n      <th>0</th>\n      <td>Toy Story 3</td>\n      <td>BV</td>\n      <td>415000000.0</td>\n      <td>652000000</td>\n      <td>2010</td>\n      <td>tt0435761</td>\n      <td>Toy Story 3</td>\n      <td>2010</td>\n      <td>103.0</td>\n      <td>Adventure,Animation,Comedy</td>\n      <td>8.3</td>\n      <td>682218</td>\n    </tr>\n    <tr>\n      <th>1</th>\n      <td>Inception</td>\n      <td>WB</td>\n      <td>292600000.0</td>\n      <td>535700000</td>\n      <td>2010</td>\n      <td>tt1375666</td>\n      <td>Inception</td>\n      <td>2010</td>\n      <td>148.0</td>\n      <td>Action,Adventure,Sci-Fi</td>\n      <td>8.8</td>\n      <td>1841066</td>\n    </tr>\n    <tr>\n      <th>2</th>\n      <td>Shrek Forever After</td>\n      <td>P/DW</td>\n      <td>238700000.0</td>\n      <td>513900000</td>\n      <td>2010</td>\n      <td>tt0892791</td>\n      <td>Shrek Forever After</td>\n      <td>2010</td>\n      <td>93.0</td>\n      <td>Adventure,Animation,Comedy</td>\n      <td>6.3</td>\n      <td>167532</td>\n    </tr>\n    <tr>\n      <th>3</th>\n      <td>The Twilight Saga: Eclipse</td>\n      <td>Sum.</td>\n      <td>300500000.0</td>\n      <td>398000000</td>\n      <td>2010</td>\n      <td>tt1325004</td>\n      <td>The Twilight Saga: Eclipse</td>\n      <td>2010</td>\n      <td>124.0</td>\n      <td>Adventure,Drama,Fantasy</td>\n      <td>5.0</td>\n      <td>211733</td>\n    </tr>\n    <tr>\n      <th>4</th>\n      <td>Iron Man 2</td>\n      <td>Par.</td>\n      <td>312400000.0</td>\n      <td>311500000</td>\n      <td>2010</td>\n      <td>tt1228705</td>\n      <td>Iron Man 2</td>\n      <td>2010</td>\n      <td>124.0</td>\n      <td>Action,Adventure,Sci-Fi</td>\n      <td>7.0</td>\n      <td>657690</td>\n    </tr>\n  </tbody>\n</table>\n</div>"
     },
     "metadata": {},
     "execution_count": 15
    }
   ],
   "source": [
    "movie_titles.head()"
   ]
  },
  {
   "cell_type": "code",
   "execution_count": 16,
   "metadata": {},
   "outputs": [
    {
     "output_type": "execute_result",
     "data": {
      "text/plain": [
       "title              2598\n",
       "studio              216\n",
       "domestic_gross     1522\n",
       "foreign_gross      1006\n",
       "year                  9\n",
       "tconst             3025\n",
       "original_title     2727\n",
       "start_year           10\n",
       "runtime_minutes     134\n",
       "genres              322\n",
       "averagerating        71\n",
       "numvotes           2742\n",
       "dtype: int64"
      ]
     },
     "metadata": {},
     "execution_count": 16
    }
   ],
   "source": [
    "movie_titles.nunique()"
   ]
  },
  {
   "cell_type": "code",
   "execution_count": 17,
   "metadata": {},
   "outputs": [
    {
     "output_type": "execute_result",
     "data": {
      "text/plain": [
       "                                                title studio  domestic_gross  \\\n",
       "0                                         Toy Story 3     BV     415000000.0   \n",
       "1                                           Inception     WB     292600000.0   \n",
       "2                                 Shrek Forever After   P/DW     238700000.0   \n",
       "3                          The Twilight Saga: Eclipse   Sum.     300500000.0   \n",
       "4                                          Iron Man 2   Par.     312400000.0   \n",
       "5                                             Tangled     BV     200800000.0   \n",
       "6                                       Despicable Me   Uni.     251500000.0   \n",
       "7                            How to Train Your Dragon   P/DW     217600000.0   \n",
       "8   The Chronicles of Narnia: The Voyage of the Da...    Fox     104400000.0   \n",
       "9                                   The King's Speech  Wein.     135500000.0   \n",
       "10                                     The Karate Kid   Sony     176600000.0   \n",
       "11                Prince of Persia: The Sands of Time     BV      90800000.0   \n",
       "12                                         Black Swan   FoxS     107000000.0   \n",
       "13                                           Megamind   P/DW     148400000.0   \n",
       "14                                         Robin Hood   Uni.     105300000.0   \n",
       "15                                         Robin Hood   Uni.     105300000.0   \n",
       "16                                         Robin Hood   Uni.     105300000.0   \n",
       "17                                         Robin Hood   Uni.     105300000.0   \n",
       "18                                 The Last Airbender   Par.     131800000.0   \n",
       "19                                     Little Fockers   Uni.     148400000.0   \n",
       "\n",
       "   foreign_gross  year     tconst  \\\n",
       "0      652000000  2010  tt0435761   \n",
       "1      535700000  2010  tt1375666   \n",
       "2      513900000  2010  tt0892791   \n",
       "3      398000000  2010  tt1325004   \n",
       "4      311500000  2010  tt1228705   \n",
       "5      391000000  2010  tt0398286   \n",
       "6      291600000  2010  tt1323594   \n",
       "7      277300000  2010  tt0892769   \n",
       "8      311300000  2010  tt0980970   \n",
       "9      275400000  2010  tt1504320   \n",
       "10     182500000  2010  tt1155076   \n",
       "11     245600000  2010  tt0473075   \n",
       "12     222400000  2010  tt0947798   \n",
       "13     173500000  2010  tt1001526   \n",
       "14     216400000  2010  tt0955308   \n",
       "15     216400000  2010  tt2363363   \n",
       "16     216400000  2010  tt4532826   \n",
       "17     216400000  2010  tt6858500   \n",
       "18     187900000  2010  tt0938283   \n",
       "19     162200000  2010  tt0970866   \n",
       "\n",
       "                                       original_title  start_year  \\\n",
       "0                                         Toy Story 3        2010   \n",
       "1                                           Inception        2010   \n",
       "2                                 Shrek Forever After        2010   \n",
       "3                          The Twilight Saga: Eclipse        2010   \n",
       "4                                          Iron Man 2        2010   \n",
       "5                                             Tangled        2010   \n",
       "6                                       Despicable Me        2010   \n",
       "7                            How to Train Your Dragon        2010   \n",
       "8   The Chronicles of Narnia: The Voyage of the Da...        2010   \n",
       "9                                   The King's Speech        2010   \n",
       "10                                     The Karate Kid        2010   \n",
       "11                Prince of Persia: The Sands of Time        2010   \n",
       "12                                         Black Swan        2010   \n",
       "13                                           Megamind        2010   \n",
       "14                                         Robin Hood        2010   \n",
       "15                                         Robin Hood        2013   \n",
       "16                                         Robin Hood        2018   \n",
       "17                                         Robin Hood        2018   \n",
       "18                                 The Last Airbender        2010   \n",
       "19                                     Little Fockers        2010   \n",
       "\n",
       "    runtime_minutes                      genres  averagerating  numvotes  \n",
       "0             103.0  Adventure,Animation,Comedy            8.3    682218  \n",
       "1             148.0     Action,Adventure,Sci-Fi            8.8   1841066  \n",
       "2              93.0  Adventure,Animation,Comedy            6.3    167532  \n",
       "3             124.0     Adventure,Drama,Fantasy            5.0    211733  \n",
       "4             124.0     Action,Adventure,Sci-Fi            7.0    657690  \n",
       "5             100.0  Adventure,Animation,Comedy            7.8    366366  \n",
       "6              95.0     Animation,Comedy,Family            7.7    464511  \n",
       "7              98.0  Action,Adventure,Animation            8.1    611299  \n",
       "8             113.0    Adventure,Family,Fantasy            6.3    129663  \n",
       "9             118.0     Biography,Drama,History            8.0    593629  \n",
       "10            140.0         Action,Drama,Family            6.2    146401  \n",
       "11            116.0    Action,Adventure,Fantasy            6.6    254975  \n",
       "12            108.0              Drama,Thriller            8.0    648854  \n",
       "13             95.0     Action,Animation,Comedy            7.3    207488  \n",
       "14            140.0      Action,Adventure,Drama            6.6    239480  \n",
       "15             92.0                Action,Drama            6.3        78  \n",
       "16            116.0   Action,Adventure,Thriller            5.3     41588  \n",
       "17              NaN                         NaN            7.6         5  \n",
       "18            103.0     Action,Adventure,Family            4.1    137734  \n",
       "19             98.0              Comedy,Romance            5.5     99222  "
      ],
      "text/html": "<div>\n<style scoped>\n    .dataframe tbody tr th:only-of-type {\n        vertical-align: middle;\n    }\n\n    .dataframe tbody tr th {\n        vertical-align: top;\n    }\n\n    .dataframe thead th {\n        text-align: right;\n    }\n</style>\n<table border=\"1\" class=\"dataframe\">\n  <thead>\n    <tr style=\"text-align: right;\">\n      <th></th>\n      <th>title</th>\n      <th>studio</th>\n      <th>domestic_gross</th>\n      <th>foreign_gross</th>\n      <th>year</th>\n      <th>tconst</th>\n      <th>original_title</th>\n      <th>start_year</th>\n      <th>runtime_minutes</th>\n      <th>genres</th>\n      <th>averagerating</th>\n      <th>numvotes</th>\n    </tr>\n  </thead>\n  <tbody>\n    <tr>\n      <th>0</th>\n      <td>Toy Story 3</td>\n      <td>BV</td>\n      <td>415000000.0</td>\n      <td>652000000</td>\n      <td>2010</td>\n      <td>tt0435761</td>\n      <td>Toy Story 3</td>\n      <td>2010</td>\n      <td>103.0</td>\n      <td>Adventure,Animation,Comedy</td>\n      <td>8.3</td>\n      <td>682218</td>\n    </tr>\n    <tr>\n      <th>1</th>\n      <td>Inception</td>\n      <td>WB</td>\n      <td>292600000.0</td>\n      <td>535700000</td>\n      <td>2010</td>\n      <td>tt1375666</td>\n      <td>Inception</td>\n      <td>2010</td>\n      <td>148.0</td>\n      <td>Action,Adventure,Sci-Fi</td>\n      <td>8.8</td>\n      <td>1841066</td>\n    </tr>\n    <tr>\n      <th>2</th>\n      <td>Shrek Forever After</td>\n      <td>P/DW</td>\n      <td>238700000.0</td>\n      <td>513900000</td>\n      <td>2010</td>\n      <td>tt0892791</td>\n      <td>Shrek Forever After</td>\n      <td>2010</td>\n      <td>93.0</td>\n      <td>Adventure,Animation,Comedy</td>\n      <td>6.3</td>\n      <td>167532</td>\n    </tr>\n    <tr>\n      <th>3</th>\n      <td>The Twilight Saga: Eclipse</td>\n      <td>Sum.</td>\n      <td>300500000.0</td>\n      <td>398000000</td>\n      <td>2010</td>\n      <td>tt1325004</td>\n      <td>The Twilight Saga: Eclipse</td>\n      <td>2010</td>\n      <td>124.0</td>\n      <td>Adventure,Drama,Fantasy</td>\n      <td>5.0</td>\n      <td>211733</td>\n    </tr>\n    <tr>\n      <th>4</th>\n      <td>Iron Man 2</td>\n      <td>Par.</td>\n      <td>312400000.0</td>\n      <td>311500000</td>\n      <td>2010</td>\n      <td>tt1228705</td>\n      <td>Iron Man 2</td>\n      <td>2010</td>\n      <td>124.0</td>\n      <td>Action,Adventure,Sci-Fi</td>\n      <td>7.0</td>\n      <td>657690</td>\n    </tr>\n    <tr>\n      <th>5</th>\n      <td>Tangled</td>\n      <td>BV</td>\n      <td>200800000.0</td>\n      <td>391000000</td>\n      <td>2010</td>\n      <td>tt0398286</td>\n      <td>Tangled</td>\n      <td>2010</td>\n      <td>100.0</td>\n      <td>Adventure,Animation,Comedy</td>\n      <td>7.8</td>\n      <td>366366</td>\n    </tr>\n    <tr>\n      <th>6</th>\n      <td>Despicable Me</td>\n      <td>Uni.</td>\n      <td>251500000.0</td>\n      <td>291600000</td>\n      <td>2010</td>\n      <td>tt1323594</td>\n      <td>Despicable Me</td>\n      <td>2010</td>\n      <td>95.0</td>\n      <td>Animation,Comedy,Family</td>\n      <td>7.7</td>\n      <td>464511</td>\n    </tr>\n    <tr>\n      <th>7</th>\n      <td>How to Train Your Dragon</td>\n      <td>P/DW</td>\n      <td>217600000.0</td>\n      <td>277300000</td>\n      <td>2010</td>\n      <td>tt0892769</td>\n      <td>How to Train Your Dragon</td>\n      <td>2010</td>\n      <td>98.0</td>\n      <td>Action,Adventure,Animation</td>\n      <td>8.1</td>\n      <td>611299</td>\n    </tr>\n    <tr>\n      <th>8</th>\n      <td>The Chronicles of Narnia: The Voyage of the Da...</td>\n      <td>Fox</td>\n      <td>104400000.0</td>\n      <td>311300000</td>\n      <td>2010</td>\n      <td>tt0980970</td>\n      <td>The Chronicles of Narnia: The Voyage of the Da...</td>\n      <td>2010</td>\n      <td>113.0</td>\n      <td>Adventure,Family,Fantasy</td>\n      <td>6.3</td>\n      <td>129663</td>\n    </tr>\n    <tr>\n      <th>9</th>\n      <td>The King's Speech</td>\n      <td>Wein.</td>\n      <td>135500000.0</td>\n      <td>275400000</td>\n      <td>2010</td>\n      <td>tt1504320</td>\n      <td>The King's Speech</td>\n      <td>2010</td>\n      <td>118.0</td>\n      <td>Biography,Drama,History</td>\n      <td>8.0</td>\n      <td>593629</td>\n    </tr>\n    <tr>\n      <th>10</th>\n      <td>The Karate Kid</td>\n      <td>Sony</td>\n      <td>176600000.0</td>\n      <td>182500000</td>\n      <td>2010</td>\n      <td>tt1155076</td>\n      <td>The Karate Kid</td>\n      <td>2010</td>\n      <td>140.0</td>\n      <td>Action,Drama,Family</td>\n      <td>6.2</td>\n      <td>146401</td>\n    </tr>\n    <tr>\n      <th>11</th>\n      <td>Prince of Persia: The Sands of Time</td>\n      <td>BV</td>\n      <td>90800000.0</td>\n      <td>245600000</td>\n      <td>2010</td>\n      <td>tt0473075</td>\n      <td>Prince of Persia: The Sands of Time</td>\n      <td>2010</td>\n      <td>116.0</td>\n      <td>Action,Adventure,Fantasy</td>\n      <td>6.6</td>\n      <td>254975</td>\n    </tr>\n    <tr>\n      <th>12</th>\n      <td>Black Swan</td>\n      <td>FoxS</td>\n      <td>107000000.0</td>\n      <td>222400000</td>\n      <td>2010</td>\n      <td>tt0947798</td>\n      <td>Black Swan</td>\n      <td>2010</td>\n      <td>108.0</td>\n      <td>Drama,Thriller</td>\n      <td>8.0</td>\n      <td>648854</td>\n    </tr>\n    <tr>\n      <th>13</th>\n      <td>Megamind</td>\n      <td>P/DW</td>\n      <td>148400000.0</td>\n      <td>173500000</td>\n      <td>2010</td>\n      <td>tt1001526</td>\n      <td>Megamind</td>\n      <td>2010</td>\n      <td>95.0</td>\n      <td>Action,Animation,Comedy</td>\n      <td>7.3</td>\n      <td>207488</td>\n    </tr>\n    <tr>\n      <th>14</th>\n      <td>Robin Hood</td>\n      <td>Uni.</td>\n      <td>105300000.0</td>\n      <td>216400000</td>\n      <td>2010</td>\n      <td>tt0955308</td>\n      <td>Robin Hood</td>\n      <td>2010</td>\n      <td>140.0</td>\n      <td>Action,Adventure,Drama</td>\n      <td>6.6</td>\n      <td>239480</td>\n    </tr>\n    <tr>\n      <th>15</th>\n      <td>Robin Hood</td>\n      <td>Uni.</td>\n      <td>105300000.0</td>\n      <td>216400000</td>\n      <td>2010</td>\n      <td>tt2363363</td>\n      <td>Robin Hood</td>\n      <td>2013</td>\n      <td>92.0</td>\n      <td>Action,Drama</td>\n      <td>6.3</td>\n      <td>78</td>\n    </tr>\n    <tr>\n      <th>16</th>\n      <td>Robin Hood</td>\n      <td>Uni.</td>\n      <td>105300000.0</td>\n      <td>216400000</td>\n      <td>2010</td>\n      <td>tt4532826</td>\n      <td>Robin Hood</td>\n      <td>2018</td>\n      <td>116.0</td>\n      <td>Action,Adventure,Thriller</td>\n      <td>5.3</td>\n      <td>41588</td>\n    </tr>\n    <tr>\n      <th>17</th>\n      <td>Robin Hood</td>\n      <td>Uni.</td>\n      <td>105300000.0</td>\n      <td>216400000</td>\n      <td>2010</td>\n      <td>tt6858500</td>\n      <td>Robin Hood</td>\n      <td>2018</td>\n      <td>NaN</td>\n      <td>NaN</td>\n      <td>7.6</td>\n      <td>5</td>\n    </tr>\n    <tr>\n      <th>18</th>\n      <td>The Last Airbender</td>\n      <td>Par.</td>\n      <td>131800000.0</td>\n      <td>187900000</td>\n      <td>2010</td>\n      <td>tt0938283</td>\n      <td>The Last Airbender</td>\n      <td>2010</td>\n      <td>103.0</td>\n      <td>Action,Adventure,Family</td>\n      <td>4.1</td>\n      <td>137734</td>\n    </tr>\n    <tr>\n      <th>19</th>\n      <td>Little Fockers</td>\n      <td>Uni.</td>\n      <td>148400000.0</td>\n      <td>162200000</td>\n      <td>2010</td>\n      <td>tt0970866</td>\n      <td>Little Fockers</td>\n      <td>2010</td>\n      <td>98.0</td>\n      <td>Comedy,Romance</td>\n      <td>5.5</td>\n      <td>99222</td>\n    </tr>\n  </tbody>\n</table>\n</div>"
     },
     "metadata": {},
     "execution_count": 17
    }
   ],
   "source": [
    "movie_titles.head(20)"
   ]
  },
  {
   "cell_type": "code",
   "execution_count": 18,
   "metadata": {},
   "outputs": [],
   "source": [
    "movie_titles = movie_titles[['title', 'studio', 'domestic_gross', 'foreign_gross', 'year']]"
   ]
  },
  {
   "cell_type": "code",
   "execution_count": 19,
   "metadata": {},
   "outputs": [],
   "source": [
    "movie_titles.dropna(axis=0, how='any', inplace=True)"
   ]
  },
  {
   "cell_type": "code",
   "execution_count": 20,
   "metadata": {},
   "outputs": [
    {
     "output_type": "execute_result",
     "data": {
      "text/plain": [
       "title             0\n",
       "studio            0\n",
       "domestic_gross    0\n",
       "foreign_gross     0\n",
       "year              0\n",
       "dtype: int64"
      ]
     },
     "metadata": {},
     "execution_count": 20
    }
   ],
   "source": [
    "movie_titles.isna().sum()"
   ]
  },
  {
   "cell_type": "code",
   "execution_count": 21,
   "metadata": {},
   "outputs": [],
   "source": [
    "movie_titles['foreign_gross'] = movie_titles.foreign_gross.str.split(',').str.join('').astype(float)"
   ]
  },
  {
   "cell_type": "code",
   "execution_count": 22,
   "metadata": {},
   "outputs": [],
   "source": [
    "is2010 = movie_titles['year'] == 2010"
   ]
  },
  {
   "cell_type": "code",
   "execution_count": 23,
   "metadata": {},
   "outputs": [],
   "source": [
    "movie_titles['total_gross'] = movie_titles['domestic_gross'] + movie_titles['foreign_gross']"
   ]
  },
  {
   "cell_type": "code",
   "execution_count": 24,
   "metadata": {},
   "outputs": [
    {
     "output_type": "execute_result",
     "data": {
      "text/plain": [
       "                        title studio  domestic_gross  foreign_gross  year  \\\n",
       "0                 Toy Story 3     BV     415000000.0    652000000.0  2010   \n",
       "1                   Inception     WB     292600000.0    535700000.0  2010   \n",
       "2         Shrek Forever After   P/DW     238700000.0    513900000.0  2010   \n",
       "3  The Twilight Saga: Eclipse   Sum.     300500000.0    398000000.0  2010   \n",
       "4                  Iron Man 2   Par.     312400000.0    311500000.0  2010   \n",
       "\n",
       "    total_gross  \n",
       "0  1.067000e+09  \n",
       "1  8.283000e+08  \n",
       "2  7.526000e+08  \n",
       "3  6.985000e+08  \n",
       "4  6.239000e+08  "
      ],
      "text/html": "<div>\n<style scoped>\n    .dataframe tbody tr th:only-of-type {\n        vertical-align: middle;\n    }\n\n    .dataframe tbody tr th {\n        vertical-align: top;\n    }\n\n    .dataframe thead th {\n        text-align: right;\n    }\n</style>\n<table border=\"1\" class=\"dataframe\">\n  <thead>\n    <tr style=\"text-align: right;\">\n      <th></th>\n      <th>title</th>\n      <th>studio</th>\n      <th>domestic_gross</th>\n      <th>foreign_gross</th>\n      <th>year</th>\n      <th>total_gross</th>\n    </tr>\n  </thead>\n  <tbody>\n    <tr>\n      <th>0</th>\n      <td>Toy Story 3</td>\n      <td>BV</td>\n      <td>415000000.0</td>\n      <td>652000000.0</td>\n      <td>2010</td>\n      <td>1.067000e+09</td>\n    </tr>\n    <tr>\n      <th>1</th>\n      <td>Inception</td>\n      <td>WB</td>\n      <td>292600000.0</td>\n      <td>535700000.0</td>\n      <td>2010</td>\n      <td>8.283000e+08</td>\n    </tr>\n    <tr>\n      <th>2</th>\n      <td>Shrek Forever After</td>\n      <td>P/DW</td>\n      <td>238700000.0</td>\n      <td>513900000.0</td>\n      <td>2010</td>\n      <td>7.526000e+08</td>\n    </tr>\n    <tr>\n      <th>3</th>\n      <td>The Twilight Saga: Eclipse</td>\n      <td>Sum.</td>\n      <td>300500000.0</td>\n      <td>398000000.0</td>\n      <td>2010</td>\n      <td>6.985000e+08</td>\n    </tr>\n    <tr>\n      <th>4</th>\n      <td>Iron Man 2</td>\n      <td>Par.</td>\n      <td>312400000.0</td>\n      <td>311500000.0</td>\n      <td>2010</td>\n      <td>6.239000e+08</td>\n    </tr>\n  </tbody>\n</table>\n</div>"
     },
     "metadata": {},
     "execution_count": 24
    }
   ],
   "source": [
    "movie_titles.head()"
   ]
  },
  {
   "cell_type": "code",
   "execution_count": 25,
   "metadata": {},
   "outputs": [],
   "source": [
    "pd.options.display.float_format = '{:.4f}'.format"
   ]
  },
  {
   "source": [
    "movie_titles.head()"
   ],
   "cell_type": "code",
   "metadata": {},
   "execution_count": 26,
   "outputs": [
    {
     "output_type": "execute_result",
     "data": {
      "text/plain": [
       "                        title studio  domestic_gross  foreign_gross  year  \\\n",
       "0                 Toy Story 3     BV  415000000.0000 652000000.0000  2010   \n",
       "1                   Inception     WB  292600000.0000 535700000.0000  2010   \n",
       "2         Shrek Forever After   P/DW  238700000.0000 513900000.0000  2010   \n",
       "3  The Twilight Saga: Eclipse   Sum.  300500000.0000 398000000.0000  2010   \n",
       "4                  Iron Man 2   Par.  312400000.0000 311500000.0000  2010   \n",
       "\n",
       "      total_gross  \n",
       "0 1067000000.0000  \n",
       "1  828300000.0000  \n",
       "2  752600000.0000  \n",
       "3  698500000.0000  \n",
       "4  623900000.0000  "
      ],
      "text/html": "<div>\n<style scoped>\n    .dataframe tbody tr th:only-of-type {\n        vertical-align: middle;\n    }\n\n    .dataframe tbody tr th {\n        vertical-align: top;\n    }\n\n    .dataframe thead th {\n        text-align: right;\n    }\n</style>\n<table border=\"1\" class=\"dataframe\">\n  <thead>\n    <tr style=\"text-align: right;\">\n      <th></th>\n      <th>title</th>\n      <th>studio</th>\n      <th>domestic_gross</th>\n      <th>foreign_gross</th>\n      <th>year</th>\n      <th>total_gross</th>\n    </tr>\n  </thead>\n  <tbody>\n    <tr>\n      <th>0</th>\n      <td>Toy Story 3</td>\n      <td>BV</td>\n      <td>415000000.0000</td>\n      <td>652000000.0000</td>\n      <td>2010</td>\n      <td>1067000000.0000</td>\n    </tr>\n    <tr>\n      <th>1</th>\n      <td>Inception</td>\n      <td>WB</td>\n      <td>292600000.0000</td>\n      <td>535700000.0000</td>\n      <td>2010</td>\n      <td>828300000.0000</td>\n    </tr>\n    <tr>\n      <th>2</th>\n      <td>Shrek Forever After</td>\n      <td>P/DW</td>\n      <td>238700000.0000</td>\n      <td>513900000.0000</td>\n      <td>2010</td>\n      <td>752600000.0000</td>\n    </tr>\n    <tr>\n      <th>3</th>\n      <td>The Twilight Saga: Eclipse</td>\n      <td>Sum.</td>\n      <td>300500000.0000</td>\n      <td>398000000.0000</td>\n      <td>2010</td>\n      <td>698500000.0000</td>\n    </tr>\n    <tr>\n      <th>4</th>\n      <td>Iron Man 2</td>\n      <td>Par.</td>\n      <td>312400000.0000</td>\n      <td>311500000.0000</td>\n      <td>2010</td>\n      <td>623900000.0000</td>\n    </tr>\n  </tbody>\n</table>\n</div>"
     },
     "metadata": {},
     "execution_count": 26
    }
   ]
  },
  {
   "cell_type": "code",
   "execution_count": 27,
   "metadata": {},
   "outputs": [],
   "source": [
    "movie_titles_2010 = movie_titles[is2010]"
   ]
  },
  {
   "cell_type": "code",
   "execution_count": 28,
   "metadata": {},
   "outputs": [
    {
     "output_type": "execute_result",
     "data": {
      "text/plain": [
       "                        title studio  domestic_gross  foreign_gross  year  \\\n",
       "0                 Toy Story 3     BV  415000000.0000 652000000.0000  2010   \n",
       "1                   Inception     WB  292600000.0000 535700000.0000  2010   \n",
       "2         Shrek Forever After   P/DW  238700000.0000 513900000.0000  2010   \n",
       "3  The Twilight Saga: Eclipse   Sum.  300500000.0000 398000000.0000  2010   \n",
       "4                  Iron Man 2   Par.  312400000.0000 311500000.0000  2010   \n",
       "\n",
       "      total_gross  \n",
       "0 1067000000.0000  \n",
       "1  828300000.0000  \n",
       "2  752600000.0000  \n",
       "3  698500000.0000  \n",
       "4  623900000.0000  "
      ],
      "text/html": "<div>\n<style scoped>\n    .dataframe tbody tr th:only-of-type {\n        vertical-align: middle;\n    }\n\n    .dataframe tbody tr th {\n        vertical-align: top;\n    }\n\n    .dataframe thead th {\n        text-align: right;\n    }\n</style>\n<table border=\"1\" class=\"dataframe\">\n  <thead>\n    <tr style=\"text-align: right;\">\n      <th></th>\n      <th>title</th>\n      <th>studio</th>\n      <th>domestic_gross</th>\n      <th>foreign_gross</th>\n      <th>year</th>\n      <th>total_gross</th>\n    </tr>\n  </thead>\n  <tbody>\n    <tr>\n      <th>0</th>\n      <td>Toy Story 3</td>\n      <td>BV</td>\n      <td>415000000.0000</td>\n      <td>652000000.0000</td>\n      <td>2010</td>\n      <td>1067000000.0000</td>\n    </tr>\n    <tr>\n      <th>1</th>\n      <td>Inception</td>\n      <td>WB</td>\n      <td>292600000.0000</td>\n      <td>535700000.0000</td>\n      <td>2010</td>\n      <td>828300000.0000</td>\n    </tr>\n    <tr>\n      <th>2</th>\n      <td>Shrek Forever After</td>\n      <td>P/DW</td>\n      <td>238700000.0000</td>\n      <td>513900000.0000</td>\n      <td>2010</td>\n      <td>752600000.0000</td>\n    </tr>\n    <tr>\n      <th>3</th>\n      <td>The Twilight Saga: Eclipse</td>\n      <td>Sum.</td>\n      <td>300500000.0000</td>\n      <td>398000000.0000</td>\n      <td>2010</td>\n      <td>698500000.0000</td>\n    </tr>\n    <tr>\n      <th>4</th>\n      <td>Iron Man 2</td>\n      <td>Par.</td>\n      <td>312400000.0000</td>\n      <td>311500000.0000</td>\n      <td>2010</td>\n      <td>623900000.0000</td>\n    </tr>\n  </tbody>\n</table>\n</div>"
     },
     "metadata": {},
     "execution_count": 28
    }
   ],
   "source": [
    "movie_titles_2010.head()"
   ]
  },
  {
   "cell_type": "code",
   "execution_count": 29,
   "metadata": {},
   "outputs": [
    {
     "output_type": "execute_result",
     "data": {
      "text/plain": [
       "                        title studio  domestic_gross  foreign_gross  year  \\\n",
       "0                 Toy Story 3     BV  415000000.0000 652000000.0000  2010   \n",
       "1                   Inception     WB  292600000.0000 535700000.0000  2010   \n",
       "2         Shrek Forever After   P/DW  238700000.0000 513900000.0000  2010   \n",
       "3  The Twilight Saga: Eclipse   Sum.  300500000.0000 398000000.0000  2010   \n",
       "4                  Iron Man 2   Par.  312400000.0000 311500000.0000  2010   \n",
       "\n",
       "      total_gross  \n",
       "0 1067000000.0000  \n",
       "1  828300000.0000  \n",
       "2  752600000.0000  \n",
       "3  698500000.0000  \n",
       "4  623900000.0000  "
      ],
      "text/html": "<div>\n<style scoped>\n    .dataframe tbody tr th:only-of-type {\n        vertical-align: middle;\n    }\n\n    .dataframe tbody tr th {\n        vertical-align: top;\n    }\n\n    .dataframe thead th {\n        text-align: right;\n    }\n</style>\n<table border=\"1\" class=\"dataframe\">\n  <thead>\n    <tr style=\"text-align: right;\">\n      <th></th>\n      <th>title</th>\n      <th>studio</th>\n      <th>domestic_gross</th>\n      <th>foreign_gross</th>\n      <th>year</th>\n      <th>total_gross</th>\n    </tr>\n  </thead>\n  <tbody>\n    <tr>\n      <th>0</th>\n      <td>Toy Story 3</td>\n      <td>BV</td>\n      <td>415000000.0000</td>\n      <td>652000000.0000</td>\n      <td>2010</td>\n      <td>1067000000.0000</td>\n    </tr>\n    <tr>\n      <th>1</th>\n      <td>Inception</td>\n      <td>WB</td>\n      <td>292600000.0000</td>\n      <td>535700000.0000</td>\n      <td>2010</td>\n      <td>828300000.0000</td>\n    </tr>\n    <tr>\n      <th>2</th>\n      <td>Shrek Forever After</td>\n      <td>P/DW</td>\n      <td>238700000.0000</td>\n      <td>513900000.0000</td>\n      <td>2010</td>\n      <td>752600000.0000</td>\n    </tr>\n    <tr>\n      <th>3</th>\n      <td>The Twilight Saga: Eclipse</td>\n      <td>Sum.</td>\n      <td>300500000.0000</td>\n      <td>398000000.0000</td>\n      <td>2010</td>\n      <td>698500000.0000</td>\n    </tr>\n    <tr>\n      <th>4</th>\n      <td>Iron Man 2</td>\n      <td>Par.</td>\n      <td>312400000.0000</td>\n      <td>311500000.0000</td>\n      <td>2010</td>\n      <td>623900000.0000</td>\n    </tr>\n  </tbody>\n</table>\n</div>"
     },
     "metadata": {},
     "execution_count": 29
    }
   ],
   "source": [
    "movie_titles_2010.head()"
   ]
  },
  {
   "cell_type": "code",
   "execution_count": null,
   "metadata": {},
   "outputs": [],
   "source": []
  },
  {
   "cell_type": "code",
   "execution_count": 30,
   "metadata": {},
   "outputs": [],
   "source": [
    "is2011 = movie_titles['year'] == 2011\n",
    "movie_titles_2011 = movie_titles[is2011]"
   ]
  },
  {
   "cell_type": "code",
   "execution_count": 31,
   "metadata": {},
   "outputs": [],
   "source": [
    "is2012 = movie_titles['year'] == 2012\n",
    "movie_titles_2012 = movie_titles[is2012]"
   ]
  },
  {
   "cell_type": "code",
   "execution_count": 32,
   "metadata": {},
   "outputs": [],
   "source": [
    "is2013 = movie_titles['year'] == 2013\n",
    "movie_titles_2013 = movie_titles[is2013]"
   ]
  },
  {
   "cell_type": "code",
   "execution_count": 33,
   "metadata": {},
   "outputs": [],
   "source": [
    "is2014 = movie_titles['year'] == 2014\n",
    "movie_titles_2014 = movie_titles[is2014]"
   ]
  },
  {
   "cell_type": "code",
   "execution_count": 34,
   "metadata": {},
   "outputs": [],
   "source": [
    "is2015 = movie_titles['year'] == 2015\n",
    "movie_titles_2015 = movie_titles[is2015]"
   ]
  },
  {
   "cell_type": "code",
   "execution_count": 35,
   "metadata": {},
   "outputs": [],
   "source": [
    "is2016 = movie_titles['year'] == 2016\n",
    "movie_titles_2016 = movie_titles[is2016]"
   ]
  },
  {
   "cell_type": "code",
   "execution_count": 36,
   "metadata": {},
   "outputs": [],
   "source": [
    "is2017 = movie_titles['year'] == 2017\n",
    "movie_titles_2017 = movie_titles[is2017]"
   ]
  },
  {
   "cell_type": "code",
   "execution_count": 37,
   "metadata": {},
   "outputs": [],
   "source": [
    "is2018 = movie_titles['year'] == 2018\n",
    "movie_titles_2018 = movie_titles[is2018]"
   ]
  },
  {
   "cell_type": "code",
   "execution_count": 38,
   "metadata": {},
   "outputs": [
    {
     "output_type": "execute_result",
     "data": {
      "text/plain": [
       "                                            title studio  domestic_gross  \\\n",
       "2751                       Avengers: Infinity War     BV  678800000.0000   \n",
       "2752                                Black Panther     BV  700100000.0000   \n",
       "2753               Jurassic World: Fallen Kingdom   Uni.  417700000.0000   \n",
       "2754                                Incredibles 2     BV  608600000.0000   \n",
       "2755                                      Aquaman     WB  335100000.0000   \n",
       "2756                            Bohemian Rhapsody    Fox  216400000.0000   \n",
       "2757                Mission: Impossible - Fallout   Par.  220200000.0000   \n",
       "2758                                   Deadpool 2    Fox  318500000.0000   \n",
       "2759  Fantastic Beasts: The Crimes of Grindelwald     WB  159600000.0000   \n",
       "2760                         Ant-Man and the Wasp     BV  216600000.0000   \n",
       "\n",
       "      foreign_gross  year     total_gross  \n",
       "2751      1369.5000  2018  678801369.5000  \n",
       "2752 646900000.0000  2018 1347000000.0000  \n",
       "2753 891800000.0000  2018 1309500000.0000  \n",
       "2754 634200000.0000  2018 1242800000.0000  \n",
       "2755 812700000.0000  2018 1147800000.0000  \n",
       "2756 687200000.0000  2018  903600000.0000  \n",
       "2757 571000000.0000  2018  791200000.0000  \n",
       "2758 460500000.0000  2018  779000000.0000  \n",
       "2759 494100000.0000  2018  653700000.0000  \n",
       "2760 406000000.0000  2018  622600000.0000  "
      ],
      "text/html": "<div>\n<style scoped>\n    .dataframe tbody tr th:only-of-type {\n        vertical-align: middle;\n    }\n\n    .dataframe tbody tr th {\n        vertical-align: top;\n    }\n\n    .dataframe thead th {\n        text-align: right;\n    }\n</style>\n<table border=\"1\" class=\"dataframe\">\n  <thead>\n    <tr style=\"text-align: right;\">\n      <th></th>\n      <th>title</th>\n      <th>studio</th>\n      <th>domestic_gross</th>\n      <th>foreign_gross</th>\n      <th>year</th>\n      <th>total_gross</th>\n    </tr>\n  </thead>\n  <tbody>\n    <tr>\n      <th>2751</th>\n      <td>Avengers: Infinity War</td>\n      <td>BV</td>\n      <td>678800000.0000</td>\n      <td>1369.5000</td>\n      <td>2018</td>\n      <td>678801369.5000</td>\n    </tr>\n    <tr>\n      <th>2752</th>\n      <td>Black Panther</td>\n      <td>BV</td>\n      <td>700100000.0000</td>\n      <td>646900000.0000</td>\n      <td>2018</td>\n      <td>1347000000.0000</td>\n    </tr>\n    <tr>\n      <th>2753</th>\n      <td>Jurassic World: Fallen Kingdom</td>\n      <td>Uni.</td>\n      <td>417700000.0000</td>\n      <td>891800000.0000</td>\n      <td>2018</td>\n      <td>1309500000.0000</td>\n    </tr>\n    <tr>\n      <th>2754</th>\n      <td>Incredibles 2</td>\n      <td>BV</td>\n      <td>608600000.0000</td>\n      <td>634200000.0000</td>\n      <td>2018</td>\n      <td>1242800000.0000</td>\n    </tr>\n    <tr>\n      <th>2755</th>\n      <td>Aquaman</td>\n      <td>WB</td>\n      <td>335100000.0000</td>\n      <td>812700000.0000</td>\n      <td>2018</td>\n      <td>1147800000.0000</td>\n    </tr>\n    <tr>\n      <th>2756</th>\n      <td>Bohemian Rhapsody</td>\n      <td>Fox</td>\n      <td>216400000.0000</td>\n      <td>687200000.0000</td>\n      <td>2018</td>\n      <td>903600000.0000</td>\n    </tr>\n    <tr>\n      <th>2757</th>\n      <td>Mission: Impossible - Fallout</td>\n      <td>Par.</td>\n      <td>220200000.0000</td>\n      <td>571000000.0000</td>\n      <td>2018</td>\n      <td>791200000.0000</td>\n    </tr>\n    <tr>\n      <th>2758</th>\n      <td>Deadpool 2</td>\n      <td>Fox</td>\n      <td>318500000.0000</td>\n      <td>460500000.0000</td>\n      <td>2018</td>\n      <td>779000000.0000</td>\n    </tr>\n    <tr>\n      <th>2759</th>\n      <td>Fantastic Beasts: The Crimes of Grindelwald</td>\n      <td>WB</td>\n      <td>159600000.0000</td>\n      <td>494100000.0000</td>\n      <td>2018</td>\n      <td>653700000.0000</td>\n    </tr>\n    <tr>\n      <th>2760</th>\n      <td>Ant-Man and the Wasp</td>\n      <td>BV</td>\n      <td>216600000.0000</td>\n      <td>406000000.0000</td>\n      <td>2018</td>\n      <td>622600000.0000</td>\n    </tr>\n  </tbody>\n</table>\n</div>"
     },
     "metadata": {},
     "execution_count": 38
    }
   ],
   "source": [
    "movie_titles_2018.head(10)"
   ]
  },
  {
   "cell_type": "code",
   "execution_count": 39,
   "metadata": {},
   "outputs": [
    {
     "output_type": "execute_result",
     "data": {
      "text/plain": [
       "                                        title      studio  domestic_gross  \\\n",
       "2752                            Black Panther          BV  700100000.0000   \n",
       "2753           Jurassic World: Fallen Kingdom        Uni.  417700000.0000   \n",
       "2754                            Incredibles 2          BV  608600000.0000   \n",
       "2755                                  Aquaman          WB  335100000.0000   \n",
       "2756                        Bohemian Rhapsody         Fox  216400000.0000   \n",
       "...                                       ...         ...             ...   \n",
       "2927               Bilal: A New Breed of Hero          VE     491000.0000   \n",
       "2930                          I Still See You         LGF       1400.0000   \n",
       "2940                    The Catcher Was a Spy         IFC     725000.0000   \n",
       "2959                               Time Freak  Grindstone      10000.0000   \n",
       "3001  Antonio Lopez 1970: Sex Fashion & Disco          FM      43200.0000   \n",
       "\n",
       "      foreign_gross  year     total_gross  \n",
       "2752 646900000.0000  2018 1347000000.0000  \n",
       "2753 891800000.0000  2018 1309500000.0000  \n",
       "2754 634200000.0000  2018 1242800000.0000  \n",
       "2755 812700000.0000  2018 1147800000.0000  \n",
       "2756 687200000.0000  2018  903600000.0000  \n",
       "...             ...   ...             ...  \n",
       "2927   1700000.0000  2018    2191000.0000  \n",
       "2930   1500000.0000  2018    1501400.0000  \n",
       "2940    229000.0000  2018     954000.0000  \n",
       "2959    256000.0000  2018     266000.0000  \n",
       "3001     30000.0000  2018      73200.0000  \n",
       "\n",
       "[160 rows x 6 columns]"
      ],
      "text/html": "<div>\n<style scoped>\n    .dataframe tbody tr th:only-of-type {\n        vertical-align: middle;\n    }\n\n    .dataframe tbody tr th {\n        vertical-align: top;\n    }\n\n    .dataframe thead th {\n        text-align: right;\n    }\n</style>\n<table border=\"1\" class=\"dataframe\">\n  <thead>\n    <tr style=\"text-align: right;\">\n      <th></th>\n      <th>title</th>\n      <th>studio</th>\n      <th>domestic_gross</th>\n      <th>foreign_gross</th>\n      <th>year</th>\n      <th>total_gross</th>\n    </tr>\n  </thead>\n  <tbody>\n    <tr>\n      <th>2752</th>\n      <td>Black Panther</td>\n      <td>BV</td>\n      <td>700100000.0000</td>\n      <td>646900000.0000</td>\n      <td>2018</td>\n      <td>1347000000.0000</td>\n    </tr>\n    <tr>\n      <th>2753</th>\n      <td>Jurassic World: Fallen Kingdom</td>\n      <td>Uni.</td>\n      <td>417700000.0000</td>\n      <td>891800000.0000</td>\n      <td>2018</td>\n      <td>1309500000.0000</td>\n    </tr>\n    <tr>\n      <th>2754</th>\n      <td>Incredibles 2</td>\n      <td>BV</td>\n      <td>608600000.0000</td>\n      <td>634200000.0000</td>\n      <td>2018</td>\n      <td>1242800000.0000</td>\n    </tr>\n    <tr>\n      <th>2755</th>\n      <td>Aquaman</td>\n      <td>WB</td>\n      <td>335100000.0000</td>\n      <td>812700000.0000</td>\n      <td>2018</td>\n      <td>1147800000.0000</td>\n    </tr>\n    <tr>\n      <th>2756</th>\n      <td>Bohemian Rhapsody</td>\n      <td>Fox</td>\n      <td>216400000.0000</td>\n      <td>687200000.0000</td>\n      <td>2018</td>\n      <td>903600000.0000</td>\n    </tr>\n    <tr>\n      <th>...</th>\n      <td>...</td>\n      <td>...</td>\n      <td>...</td>\n      <td>...</td>\n      <td>...</td>\n      <td>...</td>\n    </tr>\n    <tr>\n      <th>2927</th>\n      <td>Bilal: A New Breed of Hero</td>\n      <td>VE</td>\n      <td>491000.0000</td>\n      <td>1700000.0000</td>\n      <td>2018</td>\n      <td>2191000.0000</td>\n    </tr>\n    <tr>\n      <th>2930</th>\n      <td>I Still See You</td>\n      <td>LGF</td>\n      <td>1400.0000</td>\n      <td>1500000.0000</td>\n      <td>2018</td>\n      <td>1501400.0000</td>\n    </tr>\n    <tr>\n      <th>2940</th>\n      <td>The Catcher Was a Spy</td>\n      <td>IFC</td>\n      <td>725000.0000</td>\n      <td>229000.0000</td>\n      <td>2018</td>\n      <td>954000.0000</td>\n    </tr>\n    <tr>\n      <th>2959</th>\n      <td>Time Freak</td>\n      <td>Grindstone</td>\n      <td>10000.0000</td>\n      <td>256000.0000</td>\n      <td>2018</td>\n      <td>266000.0000</td>\n    </tr>\n    <tr>\n      <th>3001</th>\n      <td>Antonio Lopez 1970: Sex Fashion &amp; Disco</td>\n      <td>FM</td>\n      <td>43200.0000</td>\n      <td>30000.0000</td>\n      <td>2018</td>\n      <td>73200.0000</td>\n    </tr>\n  </tbody>\n</table>\n<p>160 rows × 6 columns</p>\n</div>"
     },
     "metadata": {},
     "execution_count": 39
    }
   ],
   "source": [
    "movie_titles_2018.sort_values(by='total_gross', ascending=False)"
   ]
  },
  {
   "cell_type": "code",
   "execution_count": 40,
   "metadata": {},
   "outputs": [],
   "source": [
    "top30_2018 = movie_titles_2018.sort_values(by='total_gross', ascending=False).head(30)"
   ]
  },
  {
   "cell_type": "code",
   "execution_count": 41,
   "metadata": {},
   "outputs": [
    {
     "output_type": "execute_result",
     "data": {
      "text/plain": [
       "                               title studio  domestic_gross  foreign_gross  \\\n",
       "2752                   Black Panther     BV  700100000.0000 646900000.0000   \n",
       "2753  Jurassic World: Fallen Kingdom   Uni.  417700000.0000 891800000.0000   \n",
       "2754                   Incredibles 2     BV  608600000.0000 634200000.0000   \n",
       "2755                         Aquaman     WB  335100000.0000 812700000.0000   \n",
       "2756               Bohemian Rhapsody    Fox  216400000.0000 687200000.0000   \n",
       "\n",
       "      year     total_gross  \n",
       "2752  2018 1347000000.0000  \n",
       "2753  2018 1309500000.0000  \n",
       "2754  2018 1242800000.0000  \n",
       "2755  2018 1147800000.0000  \n",
       "2756  2018  903600000.0000  "
      ],
      "text/html": "<div>\n<style scoped>\n    .dataframe tbody tr th:only-of-type {\n        vertical-align: middle;\n    }\n\n    .dataframe tbody tr th {\n        vertical-align: top;\n    }\n\n    .dataframe thead th {\n        text-align: right;\n    }\n</style>\n<table border=\"1\" class=\"dataframe\">\n  <thead>\n    <tr style=\"text-align: right;\">\n      <th></th>\n      <th>title</th>\n      <th>studio</th>\n      <th>domestic_gross</th>\n      <th>foreign_gross</th>\n      <th>year</th>\n      <th>total_gross</th>\n    </tr>\n  </thead>\n  <tbody>\n    <tr>\n      <th>2752</th>\n      <td>Black Panther</td>\n      <td>BV</td>\n      <td>700100000.0000</td>\n      <td>646900000.0000</td>\n      <td>2018</td>\n      <td>1347000000.0000</td>\n    </tr>\n    <tr>\n      <th>2753</th>\n      <td>Jurassic World: Fallen Kingdom</td>\n      <td>Uni.</td>\n      <td>417700000.0000</td>\n      <td>891800000.0000</td>\n      <td>2018</td>\n      <td>1309500000.0000</td>\n    </tr>\n    <tr>\n      <th>2754</th>\n      <td>Incredibles 2</td>\n      <td>BV</td>\n      <td>608600000.0000</td>\n      <td>634200000.0000</td>\n      <td>2018</td>\n      <td>1242800000.0000</td>\n    </tr>\n    <tr>\n      <th>2755</th>\n      <td>Aquaman</td>\n      <td>WB</td>\n      <td>335100000.0000</td>\n      <td>812700000.0000</td>\n      <td>2018</td>\n      <td>1147800000.0000</td>\n    </tr>\n    <tr>\n      <th>2756</th>\n      <td>Bohemian Rhapsody</td>\n      <td>Fox</td>\n      <td>216400000.0000</td>\n      <td>687200000.0000</td>\n      <td>2018</td>\n      <td>903600000.0000</td>\n    </tr>\n  </tbody>\n</table>\n</div>"
     },
     "metadata": {},
     "execution_count": 41
    }
   ],
   "source": [
    "top30_2018.head()"
   ]
  },
  {
   "cell_type": "code",
   "execution_count": 42,
   "metadata": {},
   "outputs": [],
   "source": [
    "top30_2010 = movie_titles_2010.sort_values(by='total_gross', ascending=False).head(30)"
   ]
  },
  {
   "cell_type": "code",
   "execution_count": 43,
   "metadata": {},
   "outputs": [],
   "source": [
    "top30_2011 = movie_titles_2011.sort_values(by='total_gross', ascending=False).head(30)"
   ]
  },
  {
   "cell_type": "code",
   "execution_count": 44,
   "metadata": {},
   "outputs": [],
   "source": [
    "top30_2012 = movie_titles_2012.sort_values(by='total_gross', ascending=False).head(30)"
   ]
  },
  {
   "cell_type": "code",
   "execution_count": 45,
   "metadata": {},
   "outputs": [],
   "source": [
    "top30_2013 = movie_titles_2013.sort_values(by='total_gross', ascending=False).head(30)"
   ]
  },
  {
   "cell_type": "code",
   "execution_count": 46,
   "metadata": {},
   "outputs": [],
   "source": [
    "top30_2014 = movie_titles_2014.sort_values(by='total_gross', ascending=False).head(30)"
   ]
  },
  {
   "cell_type": "code",
   "execution_count": 47,
   "metadata": {},
   "outputs": [],
   "source": [
    "top30_2015 = movie_titles_2015.sort_values(by='total_gross', ascending=False).head(30)"
   ]
  },
  {
   "cell_type": "code",
   "execution_count": 48,
   "metadata": {},
   "outputs": [],
   "source": [
    "top30_2016 = movie_titles_2016.sort_values(by='total_gross', ascending=False).head(30)"
   ]
  },
  {
   "cell_type": "code",
   "execution_count": 49,
   "metadata": {},
   "outputs": [],
   "source": [
    "top30_2017 = movie_titles_2017.sort_values(by='total_gross', ascending=False).head(30)"
   ]
  },
  {
   "cell_type": "code",
   "execution_count": 50,
   "metadata": {},
   "outputs": [
    {
     "output_type": "execute_result",
     "data": {
      "text/plain": [
       "                               title studio  domestic_gross  foreign_gross  \\\n",
       "2435        Star Wars: The Last Jedi     BV  620200000.0000 712400000.0000   \n",
       "2437                 Despicable Me 3   Uni.  264600000.0000 770200000.0000   \n",
       "2438  Jumanji: Welcome to the Jungle   Sony  404500000.0000 557600000.0000   \n",
       "2439          Spider-Man: Homecoming   Sony  334200000.0000 546000000.0000   \n",
       "2440                  Wolf Warrior 2     HC    2700000.0000 867600000.0000   \n",
       "\n",
       "      year     total_gross  \n",
       "2435  2017 1332600000.0000  \n",
       "2437  2017 1034800000.0000  \n",
       "2438  2017  962100000.0000  \n",
       "2439  2017  880200000.0000  \n",
       "2440  2017  870300000.0000  "
      ],
      "text/html": "<div>\n<style scoped>\n    .dataframe tbody tr th:only-of-type {\n        vertical-align: middle;\n    }\n\n    .dataframe tbody tr th {\n        vertical-align: top;\n    }\n\n    .dataframe thead th {\n        text-align: right;\n    }\n</style>\n<table border=\"1\" class=\"dataframe\">\n  <thead>\n    <tr style=\"text-align: right;\">\n      <th></th>\n      <th>title</th>\n      <th>studio</th>\n      <th>domestic_gross</th>\n      <th>foreign_gross</th>\n      <th>year</th>\n      <th>total_gross</th>\n    </tr>\n  </thead>\n  <tbody>\n    <tr>\n      <th>2435</th>\n      <td>Star Wars: The Last Jedi</td>\n      <td>BV</td>\n      <td>620200000.0000</td>\n      <td>712400000.0000</td>\n      <td>2017</td>\n      <td>1332600000.0000</td>\n    </tr>\n    <tr>\n      <th>2437</th>\n      <td>Despicable Me 3</td>\n      <td>Uni.</td>\n      <td>264600000.0000</td>\n      <td>770200000.0000</td>\n      <td>2017</td>\n      <td>1034800000.0000</td>\n    </tr>\n    <tr>\n      <th>2438</th>\n      <td>Jumanji: Welcome to the Jungle</td>\n      <td>Sony</td>\n      <td>404500000.0000</td>\n      <td>557600000.0000</td>\n      <td>2017</td>\n      <td>962100000.0000</td>\n    </tr>\n    <tr>\n      <th>2439</th>\n      <td>Spider-Man: Homecoming</td>\n      <td>Sony</td>\n      <td>334200000.0000</td>\n      <td>546000000.0000</td>\n      <td>2017</td>\n      <td>880200000.0000</td>\n    </tr>\n    <tr>\n      <th>2440</th>\n      <td>Wolf Warrior 2</td>\n      <td>HC</td>\n      <td>2700000.0000</td>\n      <td>867600000.0000</td>\n      <td>2017</td>\n      <td>870300000.0000</td>\n    </tr>\n  </tbody>\n</table>\n</div>"
     },
     "metadata": {},
     "execution_count": 50
    }
   ],
   "source": [
    "top30_2017.head()"
   ]
  },
  {
   "cell_type": "code",
   "execution_count": 51,
   "metadata": {},
   "outputs": [
    {
     "output_type": "execute_result",
     "data": {
      "text/plain": [
       "Text(0.5, 1.0, 'Top 30 Movies of 2017')"
      ]
     },
     "metadata": {},
     "execution_count": 51
    },
    {
     "output_type": "display_data",
     "data": {
      "text/plain": "<Figure size 720x720 with 1 Axes>",
      "image/svg+xml": "<?xml version=\"1.0\" encoding=\"utf-8\" standalone=\"no\"?>\n<!DOCTYPE svg PUBLIC \"-//W3C//DTD SVG 1.1//EN\"\n  \"http://www.w3.org/Graphics/SVG/1.1/DTD/svg11.dtd\">\n<!-- Created with matplotlib (https://matplotlib.org/) -->\n<svg height=\"603.474375pt\" version=\"1.1\" viewBox=\"0 0 835.234375 603.474375\" width=\"835.234375pt\" xmlns=\"http://www.w3.org/2000/svg\" xmlns:xlink=\"http://www.w3.org/1999/xlink\">\n <metadata>\n  <rdf:RDF xmlns:cc=\"http://creativecommons.org/ns#\" xmlns:dc=\"http://purl.org/dc/elements/1.1/\" xmlns:rdf=\"http://www.w3.org/1999/02/22-rdf-syntax-ns#\">\n   <cc:Work>\n    <dc:type rdf:resource=\"http://purl.org/dc/dcmitype/StillImage\"/>\n    <dc:date>2021-06-07T12:02:49.397655</dc:date>\n    <dc:format>image/svg+xml</dc:format>\n    <dc:creator>\n     <cc:Agent>\n      <dc:title>Matplotlib v3.3.4, https://matplotlib.org/</dc:title>\n     </cc:Agent>\n    </dc:creator>\n   </cc:Work>\n  </rdf:RDF>\n </metadata>\n <defs>\n  <style type=\"text/css\">*{stroke-linecap:butt;stroke-linejoin:round;}</style>\n </defs>\n <g id=\"figure_1\">\n  <g id=\"patch_1\">\n   <path d=\"M 0 603.474375 \nL 835.234375 603.474375 \nL 835.234375 0 \nL 0 0 \nz\n\" style=\"fill:none;\"/>\n  </g>\n  <g id=\"axes_1\">\n   <g id=\"patch_2\">\n    <path d=\"M 270.034375 565.918125 \nL 828.034375 565.918125 \nL 828.034375 22.318125 \nL 270.034375 22.318125 \nz\n\" style=\"fill:#ffffff;\"/>\n   </g>\n   <g id=\"patch_3\">\n    <path clip-path=\"url(#pe7001d09db)\" d=\"M 270.034375 541.209034 \nL 801.462946 541.209034 \nL 801.462946 525.885567 \nL 270.034375 525.885567 \nz\n\" style=\"fill:#1f77b4;\"/>\n   </g>\n   <g id=\"patch_4\">\n    <path clip-path=\"url(#pe7001d09db)\" d=\"M 270.034375 522.0547 \nL 682.703057 522.0547 \nL 682.703057 506.731233 \nL 270.034375 506.731233 \nz\n\" style=\"fill:#1f77b4;\"/>\n   </g>\n   <g id=\"patch_5\">\n    <path clip-path=\"url(#pe7001d09db)\" d=\"M 270.034375 502.900366 \nL 653.710969 502.900366 \nL 653.710969 487.576899 \nL 270.034375 487.576899 \nz\n\" style=\"fill:#1f77b4;\"/>\n   </g>\n   <g id=\"patch_6\">\n    <path clip-path=\"url(#pe7001d09db)\" d=\"M 270.034375 483.746032 \nL 621.050005 483.746032 \nL 621.050005 468.422565 \nL 270.034375 468.422565 \nz\n\" style=\"fill:#1f77b4;\"/>\n   </g>\n   <g id=\"patch_7\">\n    <path clip-path=\"url(#pe7001d09db)\" d=\"M 270.034375 464.591698 \nL 617.101976 464.591698 \nL 617.101976 449.268231 \nL 270.034375 449.268231 \nz\n\" style=\"fill:#1f77b4;\"/>\n   </g>\n   <g id=\"patch_8\">\n    <path clip-path=\"url(#pe7001d09db)\" d=\"M 270.034375 445.437364 \nL 614.469957 445.437364 \nL 614.469957 430.113897 \nL 270.034375 430.113897 \nz\n\" style=\"fill:#1f77b4;\"/>\n   </g>\n   <g id=\"patch_9\">\n    <path clip-path=\"url(#pe7001d09db)\" d=\"M 270.034375 426.28303 \nL 610.601687 426.28303 \nL 610.601687 410.959563 \nL 270.034375 410.959563 \nz\n\" style=\"fill:#1f77b4;\"/>\n   </g>\n   <g id=\"patch_10\">\n    <path clip-path=\"url(#pe7001d09db)\" d=\"M 270.034375 407.128696 \nL 597.800504 407.128696 \nL 597.800504 391.805229 \nL 270.034375 391.805229 \nz\n\" style=\"fill:#1f77b4;\"/>\n   </g>\n   <g id=\"patch_11\">\n    <path clip-path=\"url(#pe7001d09db)\" d=\"M 270.034375 407.128696 \nL 597.800504 407.128696 \nL 597.800504 391.805229 \nL 270.034375 391.805229 \nz\n\" style=\"fill:#1f77b4;\"/>\n   </g>\n   <g id=\"patch_12\">\n    <path clip-path=\"url(#pe7001d09db)\" d=\"M 270.034375 407.128696 \nL 597.800504 407.128696 \nL 597.800504 391.805229 \nL 270.034375 391.805229 \nz\n\" style=\"fill:#1f77b4;\"/>\n   </g>\n   <g id=\"patch_13\">\n    <path clip-path=\"url(#pe7001d09db)\" d=\"M 270.034375 387.974362 \nL 591.8984 387.974362 \nL 591.8984 372.650895 \nL 270.034375 372.650895 \nz\n\" style=\"fill:#1f77b4;\"/>\n   </g>\n   <g id=\"patch_14\">\n    <path clip-path=\"url(#pe7001d09db)\" d=\"M 270.034375 387.974362 \nL 591.8984 387.974362 \nL 591.8984 372.650895 \nL 270.034375 372.650895 \nz\n\" style=\"fill:#1f77b4;\"/>\n   </g>\n   <g id=\"patch_15\">\n    <path clip-path=\"url(#pe7001d09db)\" d=\"M 270.034375 368.820028 \nL 587.033153 368.820028 \nL 587.033153 353.496561 \nL 270.034375 353.496561 \nz\n\" style=\"fill:#1f77b4;\"/>\n   </g>\n   <g id=\"patch_16\">\n    <path clip-path=\"url(#pe7001d09db)\" d=\"M 270.034375 349.665694 \nL 549.347426 349.665694 \nL 549.347426 334.342226 \nL 270.034375 334.342226 \nz\n\" style=\"fill:#1f77b4;\"/>\n   </g>\n   <g id=\"patch_17\">\n    <path clip-path=\"url(#pe7001d09db)\" d=\"M 270.034375 330.51136 \nL 532.398818 330.51136 \nL 532.398818 315.187892 \nL 270.034375 315.187892 \nz\n\" style=\"fill:#1f77b4;\"/>\n   </g>\n   <g id=\"patch_18\">\n    <path clip-path=\"url(#pe7001d09db)\" d=\"M 270.034375 311.357026 \nL 511.502182 311.357026 \nL 511.502182 296.033558 \nL 270.034375 296.033558 \nz\n\" style=\"fill:#1f77b4;\"/>\n   </g>\n   <g id=\"patch_19\">\n    <path clip-path=\"url(#pe7001d09db)\" d=\"M 270.034375 292.202692 \nL 496.029101 292.202692 \nL 496.029101 276.879224 \nL 270.034375 276.879224 \nz\n\" style=\"fill:#1f77b4;\"/>\n   </g>\n   <g id=\"patch_20\">\n    <path clip-path=\"url(#pe7001d09db)\" d=\"M 270.034375 273.048358 \nL 480.595898 273.048358 \nL 480.595898 257.72489 \nL 270.034375 257.72489 \nz\n\" style=\"fill:#1f77b4;\"/>\n   </g>\n   <g id=\"patch_21\">\n    <path clip-path=\"url(#pe7001d09db)\" d=\"M 270.034375 253.894024 \nL 479.479284 253.894024 \nL 479.479284 238.570556 \nL 270.034375 238.570556 \nz\n\" style=\"fill:#1f77b4;\"/>\n   </g>\n   <g id=\"patch_22\">\n    <path clip-path=\"url(#pe7001d09db)\" d=\"M 270.034375 234.739689 \nL 465.721003 234.739689 \nL 465.721003 219.416222 \nL 270.034375 219.416222 \nz\n\" style=\"fill:#1f77b4;\"/>\n   </g>\n   <g id=\"patch_23\">\n    <path clip-path=\"url(#pe7001d09db)\" d=\"M 270.034375 215.585355 \nL 443.508357 215.585355 \nL 443.508357 200.261888 \nL 270.034375 200.261888 \nz\n\" style=\"fill:#1f77b4;\"/>\n   </g>\n   <g id=\"patch_24\">\n    <path clip-path=\"url(#pe7001d09db)\" d=\"M 270.034375 196.431021 \nL 433.8975 196.431021 \nL 433.8975 181.107554 \nL 270.034375 181.107554 \nz\n\" style=\"fill:#1f77b4;\"/>\n   </g>\n   <g id=\"patch_25\">\n    <path clip-path=\"url(#pe7001d09db)\" d=\"M 270.034375 177.276687 \nL 423.130149 177.276687 \nL 423.130149 161.95322 \nL 270.034375 161.95322 \nz\n\" style=\"fill:#1f77b4;\"/>\n   </g>\n   <g id=\"patch_26\">\n    <path clip-path=\"url(#pe7001d09db)\" d=\"M 270.034375 158.122353 \nL 422.21293 158.122353 \nL 422.21293 142.798886 \nL 270.034375 142.798886 \nz\n\" style=\"fill:#1f77b4;\"/>\n   </g>\n   <g id=\"patch_27\">\n    <path clip-path=\"url(#pe7001d09db)\" d=\"M 270.034375 138.968019 \nL 412.801468 138.968019 \nL 412.801468 123.644552 \nL 270.034375 123.644552 \nz\n\" style=\"fill:#1f77b4;\"/>\n   </g>\n   <g id=\"patch_28\">\n    <path clip-path=\"url(#pe7001d09db)\" d=\"M 270.034375 119.813685 \nL 403.589402 119.813685 \nL 403.589402 104.490218 \nL 270.034375 104.490218 \nz\n\" style=\"fill:#1f77b4;\"/>\n   </g>\n   <g id=\"patch_29\">\n    <path clip-path=\"url(#pe7001d09db)\" d=\"M 270.034375 119.813685 \nL 403.589402 119.813685 \nL 403.589402 104.490218 \nL 270.034375 104.490218 \nz\n\" style=\"fill:#1f77b4;\"/>\n   </g>\n   <g id=\"patch_30\">\n    <path clip-path=\"url(#pe7001d09db)\" d=\"M 270.034375 100.659351 \nL 394.536851 100.659351 \nL 394.536851 85.335884 \nL 270.034375 85.335884 \nz\n\" style=\"fill:#1f77b4;\"/>\n   </g>\n   <g id=\"patch_31\">\n    <path clip-path=\"url(#pe7001d09db)\" d=\"M 270.034375 81.505017 \nL 392.263744 81.505017 \nL 392.263744 66.18155 \nL 270.034375 66.18155 \nz\n\" style=\"fill:#1f77b4;\"/>\n   </g>\n   <g id=\"patch_32\">\n    <path clip-path=\"url(#pe7001d09db)\" d=\"M 270.034375 62.350683 \nL 392.02447 62.350683 \nL 392.02447 47.027216 \nL 270.034375 47.027216 \nz\n\" style=\"fill:#1f77b4;\"/>\n   </g>\n   <g id=\"matplotlib.axis_1\">\n    <g id=\"xtick_1\">\n     <g id=\"line2d_1\">\n      <defs>\n       <path d=\"M 0 0 \nL 0 3.5 \n\" id=\"m462037294b\" style=\"stroke:#000000;stroke-width:0.8;\"/>\n      </defs>\n      <g>\n       <use style=\"stroke:#000000;stroke-width:0.8;\" x=\"270.034375\" xlink:href=\"#m462037294b\" y=\"565.918125\"/>\n      </g>\n     </g>\n     <g id=\"text_1\">\n      <!-- 0.0 -->\n      <g transform=\"translate(262.082812 580.516562)scale(0.1 -0.1)\">\n       <defs>\n        <path d=\"M 31.78125 66.40625 \nQ 24.171875 66.40625 20.328125 58.90625 \nQ 16.5 51.421875 16.5 36.375 \nQ 16.5 21.390625 20.328125 13.890625 \nQ 24.171875 6.390625 31.78125 6.390625 \nQ 39.453125 6.390625 43.28125 13.890625 \nQ 47.125 21.390625 47.125 36.375 \nQ 47.125 51.421875 43.28125 58.90625 \nQ 39.453125 66.40625 31.78125 66.40625 \nz\nM 31.78125 74.21875 \nQ 44.046875 74.21875 50.515625 64.515625 \nQ 56.984375 54.828125 56.984375 36.375 \nQ 56.984375 17.96875 50.515625 8.265625 \nQ 44.046875 -1.421875 31.78125 -1.421875 \nQ 19.53125 -1.421875 13.0625 8.265625 \nQ 6.59375 17.96875 6.59375 36.375 \nQ 6.59375 54.828125 13.0625 64.515625 \nQ 19.53125 74.21875 31.78125 74.21875 \nz\n\" id=\"DejaVuSans-48\"/>\n        <path d=\"M 10.6875 12.40625 \nL 21 12.40625 \nL 21 0 \nL 10.6875 0 \nz\n\" id=\"DejaVuSans-46\"/>\n       </defs>\n       <use xlink:href=\"#DejaVuSans-48\"/>\n       <use x=\"63.623047\" xlink:href=\"#DejaVuSans-46\"/>\n       <use x=\"95.410156\" xlink:href=\"#DejaVuSans-48\"/>\n      </g>\n     </g>\n    </g>\n    <g id=\"xtick_2\">\n     <g id=\"line2d_2\">\n      <g>\n       <use style=\"stroke:#000000;stroke-width:0.8;\" x=\"349.792528\" xlink:href=\"#m462037294b\" y=\"565.918125\"/>\n      </g>\n     </g>\n     <g id=\"text_2\">\n      <!-- 0.2 -->\n      <g transform=\"translate(341.840965 580.516562)scale(0.1 -0.1)\">\n       <defs>\n        <path d=\"M 19.1875 8.296875 \nL 53.609375 8.296875 \nL 53.609375 0 \nL 7.328125 0 \nL 7.328125 8.296875 \nQ 12.9375 14.109375 22.625 23.890625 \nQ 32.328125 33.6875 34.8125 36.53125 \nQ 39.546875 41.84375 41.421875 45.53125 \nQ 43.3125 49.21875 43.3125 52.78125 \nQ 43.3125 58.59375 39.234375 62.25 \nQ 35.15625 65.921875 28.609375 65.921875 \nQ 23.96875 65.921875 18.8125 64.3125 \nQ 13.671875 62.703125 7.8125 59.421875 \nL 7.8125 69.390625 \nQ 13.765625 71.78125 18.9375 73 \nQ 24.125 74.21875 28.421875 74.21875 \nQ 39.75 74.21875 46.484375 68.546875 \nQ 53.21875 62.890625 53.21875 53.421875 \nQ 53.21875 48.921875 51.53125 44.890625 \nQ 49.859375 40.875 45.40625 35.40625 \nQ 44.1875 33.984375 37.640625 27.21875 \nQ 31.109375 20.453125 19.1875 8.296875 \nz\n\" id=\"DejaVuSans-50\"/>\n       </defs>\n       <use xlink:href=\"#DejaVuSans-48\"/>\n       <use x=\"63.623047\" xlink:href=\"#DejaVuSans-46\"/>\n       <use x=\"95.410156\" xlink:href=\"#DejaVuSans-50\"/>\n      </g>\n     </g>\n    </g>\n    <g id=\"xtick_3\">\n     <g id=\"line2d_3\">\n      <g>\n       <use style=\"stroke:#000000;stroke-width:0.8;\" x=\"429.55068\" xlink:href=\"#m462037294b\" y=\"565.918125\"/>\n      </g>\n     </g>\n     <g id=\"text_3\">\n      <!-- 0.4 -->\n      <g transform=\"translate(421.599118 580.516562)scale(0.1 -0.1)\">\n       <defs>\n        <path d=\"M 37.796875 64.3125 \nL 12.890625 25.390625 \nL 37.796875 25.390625 \nz\nM 35.203125 72.90625 \nL 47.609375 72.90625 \nL 47.609375 25.390625 \nL 58.015625 25.390625 \nL 58.015625 17.1875 \nL 47.609375 17.1875 \nL 47.609375 0 \nL 37.796875 0 \nL 37.796875 17.1875 \nL 4.890625 17.1875 \nL 4.890625 26.703125 \nz\n\" id=\"DejaVuSans-52\"/>\n       </defs>\n       <use xlink:href=\"#DejaVuSans-48\"/>\n       <use x=\"63.623047\" xlink:href=\"#DejaVuSans-46\"/>\n       <use x=\"95.410156\" xlink:href=\"#DejaVuSans-52\"/>\n      </g>\n     </g>\n    </g>\n    <g id=\"xtick_4\">\n     <g id=\"line2d_4\">\n      <g>\n       <use style=\"stroke:#000000;stroke-width:0.8;\" x=\"509.308833\" xlink:href=\"#m462037294b\" y=\"565.918125\"/>\n      </g>\n     </g>\n     <g id=\"text_4\">\n      <!-- 0.6 -->\n      <g transform=\"translate(501.357271 580.516562)scale(0.1 -0.1)\">\n       <defs>\n        <path d=\"M 33.015625 40.375 \nQ 26.375 40.375 22.484375 35.828125 \nQ 18.609375 31.296875 18.609375 23.390625 \nQ 18.609375 15.53125 22.484375 10.953125 \nQ 26.375 6.390625 33.015625 6.390625 \nQ 39.65625 6.390625 43.53125 10.953125 \nQ 47.40625 15.53125 47.40625 23.390625 \nQ 47.40625 31.296875 43.53125 35.828125 \nQ 39.65625 40.375 33.015625 40.375 \nz\nM 52.59375 71.296875 \nL 52.59375 62.3125 \nQ 48.875 64.0625 45.09375 64.984375 \nQ 41.3125 65.921875 37.59375 65.921875 \nQ 27.828125 65.921875 22.671875 59.328125 \nQ 17.53125 52.734375 16.796875 39.40625 \nQ 19.671875 43.65625 24.015625 45.921875 \nQ 28.375 48.1875 33.59375 48.1875 \nQ 44.578125 48.1875 50.953125 41.515625 \nQ 57.328125 34.859375 57.328125 23.390625 \nQ 57.328125 12.15625 50.6875 5.359375 \nQ 44.046875 -1.421875 33.015625 -1.421875 \nQ 20.359375 -1.421875 13.671875 8.265625 \nQ 6.984375 17.96875 6.984375 36.375 \nQ 6.984375 53.65625 15.1875 63.9375 \nQ 23.390625 74.21875 37.203125 74.21875 \nQ 40.921875 74.21875 44.703125 73.484375 \nQ 48.484375 72.75 52.59375 71.296875 \nz\n\" id=\"DejaVuSans-54\"/>\n       </defs>\n       <use xlink:href=\"#DejaVuSans-48\"/>\n       <use x=\"63.623047\" xlink:href=\"#DejaVuSans-46\"/>\n       <use x=\"95.410156\" xlink:href=\"#DejaVuSans-54\"/>\n      </g>\n     </g>\n    </g>\n    <g id=\"xtick_5\">\n     <g id=\"line2d_5\">\n      <g>\n       <use style=\"stroke:#000000;stroke-width:0.8;\" x=\"589.066986\" xlink:href=\"#m462037294b\" y=\"565.918125\"/>\n      </g>\n     </g>\n     <g id=\"text_5\">\n      <!-- 0.8 -->\n      <g transform=\"translate(581.115423 580.516562)scale(0.1 -0.1)\">\n       <defs>\n        <path d=\"M 31.78125 34.625 \nQ 24.75 34.625 20.71875 30.859375 \nQ 16.703125 27.09375 16.703125 20.515625 \nQ 16.703125 13.921875 20.71875 10.15625 \nQ 24.75 6.390625 31.78125 6.390625 \nQ 38.8125 6.390625 42.859375 10.171875 \nQ 46.921875 13.96875 46.921875 20.515625 \nQ 46.921875 27.09375 42.890625 30.859375 \nQ 38.875 34.625 31.78125 34.625 \nz\nM 21.921875 38.8125 \nQ 15.578125 40.375 12.03125 44.71875 \nQ 8.5 49.078125 8.5 55.328125 \nQ 8.5 64.0625 14.71875 69.140625 \nQ 20.953125 74.21875 31.78125 74.21875 \nQ 42.671875 74.21875 48.875 69.140625 \nQ 55.078125 64.0625 55.078125 55.328125 \nQ 55.078125 49.078125 51.53125 44.71875 \nQ 48 40.375 41.703125 38.8125 \nQ 48.828125 37.15625 52.796875 32.3125 \nQ 56.78125 27.484375 56.78125 20.515625 \nQ 56.78125 9.90625 50.3125 4.234375 \nQ 43.84375 -1.421875 31.78125 -1.421875 \nQ 19.734375 -1.421875 13.25 4.234375 \nQ 6.78125 9.90625 6.78125 20.515625 \nQ 6.78125 27.484375 10.78125 32.3125 \nQ 14.796875 37.15625 21.921875 38.8125 \nz\nM 18.3125 54.390625 \nQ 18.3125 48.734375 21.84375 45.5625 \nQ 25.390625 42.390625 31.78125 42.390625 \nQ 38.140625 42.390625 41.71875 45.5625 \nQ 45.3125 48.734375 45.3125 54.390625 \nQ 45.3125 60.0625 41.71875 63.234375 \nQ 38.140625 66.40625 31.78125 66.40625 \nQ 25.390625 66.40625 21.84375 63.234375 \nQ 18.3125 60.0625 18.3125 54.390625 \nz\n\" id=\"DejaVuSans-56\"/>\n       </defs>\n       <use xlink:href=\"#DejaVuSans-48\"/>\n       <use x=\"63.623047\" xlink:href=\"#DejaVuSans-46\"/>\n       <use x=\"95.410156\" xlink:href=\"#DejaVuSans-56\"/>\n      </g>\n     </g>\n    </g>\n    <g id=\"xtick_6\">\n     <g id=\"line2d_6\">\n      <g>\n       <use style=\"stroke:#000000;stroke-width:0.8;\" x=\"668.825138\" xlink:href=\"#m462037294b\" y=\"565.918125\"/>\n      </g>\n     </g>\n     <g id=\"text_6\">\n      <!-- 1.0 -->\n      <g transform=\"translate(660.873576 580.516562)scale(0.1 -0.1)\">\n       <defs>\n        <path d=\"M 12.40625 8.296875 \nL 28.515625 8.296875 \nL 28.515625 63.921875 \nL 10.984375 60.40625 \nL 10.984375 69.390625 \nL 28.421875 72.90625 \nL 38.28125 72.90625 \nL 38.28125 8.296875 \nL 54.390625 8.296875 \nL 54.390625 0 \nL 12.40625 0 \nz\n\" id=\"DejaVuSans-49\"/>\n       </defs>\n       <use xlink:href=\"#DejaVuSans-49\"/>\n       <use x=\"63.623047\" xlink:href=\"#DejaVuSans-46\"/>\n       <use x=\"95.410156\" xlink:href=\"#DejaVuSans-48\"/>\n      </g>\n     </g>\n    </g>\n    <g id=\"xtick_7\">\n     <g id=\"line2d_7\">\n      <g>\n       <use style=\"stroke:#000000;stroke-width:0.8;\" x=\"748.583291\" xlink:href=\"#m462037294b\" y=\"565.918125\"/>\n      </g>\n     </g>\n     <g id=\"text_7\">\n      <!-- 1.2 -->\n      <g transform=\"translate(740.631729 580.516562)scale(0.1 -0.1)\">\n       <use xlink:href=\"#DejaVuSans-49\"/>\n       <use x=\"63.623047\" xlink:href=\"#DejaVuSans-46\"/>\n       <use x=\"95.410156\" xlink:href=\"#DejaVuSans-50\"/>\n      </g>\n     </g>\n    </g>\n    <g id=\"text_8\">\n     <!-- Total Gross (in billions) -->\n     <g transform=\"translate(492.482031 594.194687)scale(0.1 -0.1)\">\n      <defs>\n       <path d=\"M -0.296875 72.90625 \nL 61.375 72.90625 \nL 61.375 64.59375 \nL 35.5 64.59375 \nL 35.5 0 \nL 25.59375 0 \nL 25.59375 64.59375 \nL -0.296875 64.59375 \nz\n\" id=\"DejaVuSans-84\"/>\n       <path d=\"M 30.609375 48.390625 \nQ 23.390625 48.390625 19.1875 42.75 \nQ 14.984375 37.109375 14.984375 27.296875 \nQ 14.984375 17.484375 19.15625 11.84375 \nQ 23.34375 6.203125 30.609375 6.203125 \nQ 37.796875 6.203125 41.984375 11.859375 \nQ 46.1875 17.53125 46.1875 27.296875 \nQ 46.1875 37.015625 41.984375 42.703125 \nQ 37.796875 48.390625 30.609375 48.390625 \nz\nM 30.609375 56 \nQ 42.328125 56 49.015625 48.375 \nQ 55.71875 40.765625 55.71875 27.296875 \nQ 55.71875 13.875 49.015625 6.21875 \nQ 42.328125 -1.421875 30.609375 -1.421875 \nQ 18.84375 -1.421875 12.171875 6.21875 \nQ 5.515625 13.875 5.515625 27.296875 \nQ 5.515625 40.765625 12.171875 48.375 \nQ 18.84375 56 30.609375 56 \nz\n\" id=\"DejaVuSans-111\"/>\n       <path d=\"M 18.3125 70.21875 \nL 18.3125 54.6875 \nL 36.8125 54.6875 \nL 36.8125 47.703125 \nL 18.3125 47.703125 \nL 18.3125 18.015625 \nQ 18.3125 11.328125 20.140625 9.421875 \nQ 21.96875 7.515625 27.59375 7.515625 \nL 36.8125 7.515625 \nL 36.8125 0 \nL 27.59375 0 \nQ 17.1875 0 13.234375 3.875 \nQ 9.28125 7.765625 9.28125 18.015625 \nL 9.28125 47.703125 \nL 2.6875 47.703125 \nL 2.6875 54.6875 \nL 9.28125 54.6875 \nL 9.28125 70.21875 \nz\n\" id=\"DejaVuSans-116\"/>\n       <path d=\"M 34.28125 27.484375 \nQ 23.390625 27.484375 19.1875 25 \nQ 14.984375 22.515625 14.984375 16.5 \nQ 14.984375 11.71875 18.140625 8.90625 \nQ 21.296875 6.109375 26.703125 6.109375 \nQ 34.1875 6.109375 38.703125 11.40625 \nQ 43.21875 16.703125 43.21875 25.484375 \nL 43.21875 27.484375 \nz\nM 52.203125 31.203125 \nL 52.203125 0 \nL 43.21875 0 \nL 43.21875 8.296875 \nQ 40.140625 3.328125 35.546875 0.953125 \nQ 30.953125 -1.421875 24.3125 -1.421875 \nQ 15.921875 -1.421875 10.953125 3.296875 \nQ 6 8.015625 6 15.921875 \nQ 6 25.140625 12.171875 29.828125 \nQ 18.359375 34.515625 30.609375 34.515625 \nL 43.21875 34.515625 \nL 43.21875 35.40625 \nQ 43.21875 41.609375 39.140625 45 \nQ 35.0625 48.390625 27.6875 48.390625 \nQ 23 48.390625 18.546875 47.265625 \nQ 14.109375 46.140625 10.015625 43.890625 \nL 10.015625 52.203125 \nQ 14.9375 54.109375 19.578125 55.046875 \nQ 24.21875 56 28.609375 56 \nQ 40.484375 56 46.34375 49.84375 \nQ 52.203125 43.703125 52.203125 31.203125 \nz\n\" id=\"DejaVuSans-97\"/>\n       <path d=\"M 9.421875 75.984375 \nL 18.40625 75.984375 \nL 18.40625 0 \nL 9.421875 0 \nz\n\" id=\"DejaVuSans-108\"/>\n       <path id=\"DejaVuSans-32\"/>\n       <path d=\"M 59.515625 10.40625 \nL 59.515625 29.984375 \nL 43.40625 29.984375 \nL 43.40625 38.09375 \nL 69.28125 38.09375 \nL 69.28125 6.78125 \nQ 63.578125 2.734375 56.6875 0.65625 \nQ 49.8125 -1.421875 42 -1.421875 \nQ 24.90625 -1.421875 15.25 8.5625 \nQ 5.609375 18.5625 5.609375 36.375 \nQ 5.609375 54.25 15.25 64.234375 \nQ 24.90625 74.21875 42 74.21875 \nQ 49.125 74.21875 55.546875 72.453125 \nQ 61.96875 70.703125 67.390625 67.28125 \nL 67.390625 56.78125 \nQ 61.921875 61.421875 55.765625 63.765625 \nQ 49.609375 66.109375 42.828125 66.109375 \nQ 29.4375 66.109375 22.71875 58.640625 \nQ 16.015625 51.171875 16.015625 36.375 \nQ 16.015625 21.625 22.71875 14.15625 \nQ 29.4375 6.6875 42.828125 6.6875 \nQ 48.046875 6.6875 52.140625 7.59375 \nQ 56.25 8.5 59.515625 10.40625 \nz\n\" id=\"DejaVuSans-71\"/>\n       <path d=\"M 41.109375 46.296875 \nQ 39.59375 47.171875 37.8125 47.578125 \nQ 36.03125 48 33.890625 48 \nQ 26.265625 48 22.1875 43.046875 \nQ 18.109375 38.09375 18.109375 28.8125 \nL 18.109375 0 \nL 9.078125 0 \nL 9.078125 54.6875 \nL 18.109375 54.6875 \nL 18.109375 46.1875 \nQ 20.953125 51.171875 25.484375 53.578125 \nQ 30.03125 56 36.53125 56 \nQ 37.453125 56 38.578125 55.875 \nQ 39.703125 55.765625 41.0625 55.515625 \nz\n\" id=\"DejaVuSans-114\"/>\n       <path d=\"M 44.28125 53.078125 \nL 44.28125 44.578125 \nQ 40.484375 46.53125 36.375 47.5 \nQ 32.28125 48.484375 27.875 48.484375 \nQ 21.1875 48.484375 17.84375 46.4375 \nQ 14.5 44.390625 14.5 40.28125 \nQ 14.5 37.15625 16.890625 35.375 \nQ 19.28125 33.59375 26.515625 31.984375 \nL 29.59375 31.296875 \nQ 39.15625 29.25 43.1875 25.515625 \nQ 47.21875 21.78125 47.21875 15.09375 \nQ 47.21875 7.46875 41.1875 3.015625 \nQ 35.15625 -1.421875 24.609375 -1.421875 \nQ 20.21875 -1.421875 15.453125 -0.5625 \nQ 10.6875 0.296875 5.421875 2 \nL 5.421875 11.28125 \nQ 10.40625 8.6875 15.234375 7.390625 \nQ 20.0625 6.109375 24.8125 6.109375 \nQ 31.15625 6.109375 34.5625 8.28125 \nQ 37.984375 10.453125 37.984375 14.40625 \nQ 37.984375 18.0625 35.515625 20.015625 \nQ 33.0625 21.96875 24.703125 23.78125 \nL 21.578125 24.515625 \nQ 13.234375 26.265625 9.515625 29.90625 \nQ 5.8125 33.546875 5.8125 39.890625 \nQ 5.8125 47.609375 11.28125 51.796875 \nQ 16.75 56 26.8125 56 \nQ 31.78125 56 36.171875 55.265625 \nQ 40.578125 54.546875 44.28125 53.078125 \nz\n\" id=\"DejaVuSans-115\"/>\n       <path d=\"M 31 75.875 \nQ 24.46875 64.65625 21.28125 53.65625 \nQ 18.109375 42.671875 18.109375 31.390625 \nQ 18.109375 20.125 21.3125 9.0625 \nQ 24.515625 -2 31 -13.1875 \nL 23.1875 -13.1875 \nQ 15.875 -1.703125 12.234375 9.375 \nQ 8.59375 20.453125 8.59375 31.390625 \nQ 8.59375 42.28125 12.203125 53.3125 \nQ 15.828125 64.359375 23.1875 75.875 \nz\n\" id=\"DejaVuSans-40\"/>\n       <path d=\"M 9.421875 54.6875 \nL 18.40625 54.6875 \nL 18.40625 0 \nL 9.421875 0 \nz\nM 9.421875 75.984375 \nL 18.40625 75.984375 \nL 18.40625 64.59375 \nL 9.421875 64.59375 \nz\n\" id=\"DejaVuSans-105\"/>\n       <path d=\"M 54.890625 33.015625 \nL 54.890625 0 \nL 45.90625 0 \nL 45.90625 32.71875 \nQ 45.90625 40.484375 42.875 44.328125 \nQ 39.84375 48.1875 33.796875 48.1875 \nQ 26.515625 48.1875 22.3125 43.546875 \nQ 18.109375 38.921875 18.109375 30.90625 \nL 18.109375 0 \nL 9.078125 0 \nL 9.078125 54.6875 \nL 18.109375 54.6875 \nL 18.109375 46.1875 \nQ 21.34375 51.125 25.703125 53.5625 \nQ 30.078125 56 35.796875 56 \nQ 45.21875 56 50.046875 50.171875 \nQ 54.890625 44.34375 54.890625 33.015625 \nz\n\" id=\"DejaVuSans-110\"/>\n       <path d=\"M 48.6875 27.296875 \nQ 48.6875 37.203125 44.609375 42.84375 \nQ 40.53125 48.484375 33.40625 48.484375 \nQ 26.265625 48.484375 22.1875 42.84375 \nQ 18.109375 37.203125 18.109375 27.296875 \nQ 18.109375 17.390625 22.1875 11.75 \nQ 26.265625 6.109375 33.40625 6.109375 \nQ 40.53125 6.109375 44.609375 11.75 \nQ 48.6875 17.390625 48.6875 27.296875 \nz\nM 18.109375 46.390625 \nQ 20.953125 51.265625 25.265625 53.625 \nQ 29.59375 56 35.59375 56 \nQ 45.5625 56 51.78125 48.09375 \nQ 58.015625 40.1875 58.015625 27.296875 \nQ 58.015625 14.40625 51.78125 6.484375 \nQ 45.5625 -1.421875 35.59375 -1.421875 \nQ 29.59375 -1.421875 25.265625 0.953125 \nQ 20.953125 3.328125 18.109375 8.203125 \nL 18.109375 0 \nL 9.078125 0 \nL 9.078125 75.984375 \nL 18.109375 75.984375 \nz\n\" id=\"DejaVuSans-98\"/>\n       <path d=\"M 8.015625 75.875 \nL 15.828125 75.875 \nQ 23.140625 64.359375 26.78125 53.3125 \nQ 30.421875 42.28125 30.421875 31.390625 \nQ 30.421875 20.453125 26.78125 9.375 \nQ 23.140625 -1.703125 15.828125 -13.1875 \nL 8.015625 -13.1875 \nQ 14.5 -2 17.703125 9.0625 \nQ 20.90625 20.125 20.90625 31.390625 \nQ 20.90625 42.671875 17.703125 53.65625 \nQ 14.5 64.65625 8.015625 75.875 \nz\n\" id=\"DejaVuSans-41\"/>\n      </defs>\n      <use xlink:href=\"#DejaVuSans-84\"/>\n      <use x=\"44.083984\" xlink:href=\"#DejaVuSans-111\"/>\n      <use x=\"105.265625\" xlink:href=\"#DejaVuSans-116\"/>\n      <use x=\"144.474609\" xlink:href=\"#DejaVuSans-97\"/>\n      <use x=\"205.753906\" xlink:href=\"#DejaVuSans-108\"/>\n      <use x=\"233.537109\" xlink:href=\"#DejaVuSans-32\"/>\n      <use x=\"265.324219\" xlink:href=\"#DejaVuSans-71\"/>\n      <use x=\"342.814453\" xlink:href=\"#DejaVuSans-114\"/>\n      <use x=\"381.677734\" xlink:href=\"#DejaVuSans-111\"/>\n      <use x=\"442.859375\" xlink:href=\"#DejaVuSans-115\"/>\n      <use x=\"494.958984\" xlink:href=\"#DejaVuSans-115\"/>\n      <use x=\"547.058594\" xlink:href=\"#DejaVuSans-32\"/>\n      <use x=\"578.845703\" xlink:href=\"#DejaVuSans-40\"/>\n      <use x=\"617.859375\" xlink:href=\"#DejaVuSans-105\"/>\n      <use x=\"645.642578\" xlink:href=\"#DejaVuSans-110\"/>\n      <use x=\"709.021484\" xlink:href=\"#DejaVuSans-32\"/>\n      <use x=\"740.808594\" xlink:href=\"#DejaVuSans-98\"/>\n      <use x=\"804.285156\" xlink:href=\"#DejaVuSans-105\"/>\n      <use x=\"832.068359\" xlink:href=\"#DejaVuSans-108\"/>\n      <use x=\"859.851562\" xlink:href=\"#DejaVuSans-108\"/>\n      <use x=\"887.634766\" xlink:href=\"#DejaVuSans-105\"/>\n      <use x=\"915.417969\" xlink:href=\"#DejaVuSans-111\"/>\n      <use x=\"976.599609\" xlink:href=\"#DejaVuSans-110\"/>\n      <use x=\"1039.978516\" xlink:href=\"#DejaVuSans-115\"/>\n      <use x=\"1092.078125\" xlink:href=\"#DejaVuSans-41\"/>\n     </g>\n    </g>\n    <g id=\"text_9\">\n     <!-- 1e9 -->\n     <g transform=\"translate(809.15625 593.194687)scale(0.1 -0.1)\">\n      <defs>\n       <path d=\"M 56.203125 29.59375 \nL 56.203125 25.203125 \nL 14.890625 25.203125 \nQ 15.484375 15.921875 20.484375 11.0625 \nQ 25.484375 6.203125 34.421875 6.203125 \nQ 39.59375 6.203125 44.453125 7.46875 \nQ 49.3125 8.734375 54.109375 11.28125 \nL 54.109375 2.78125 \nQ 49.265625 0.734375 44.1875 -0.34375 \nQ 39.109375 -1.421875 33.890625 -1.421875 \nQ 20.796875 -1.421875 13.15625 6.1875 \nQ 5.515625 13.8125 5.515625 26.8125 \nQ 5.515625 40.234375 12.765625 48.109375 \nQ 20.015625 56 32.328125 56 \nQ 43.359375 56 49.78125 48.890625 \nQ 56.203125 41.796875 56.203125 29.59375 \nz\nM 47.21875 32.234375 \nQ 47.125 39.59375 43.09375 43.984375 \nQ 39.0625 48.390625 32.421875 48.390625 \nQ 24.90625 48.390625 20.390625 44.140625 \nQ 15.875 39.890625 15.1875 32.171875 \nz\n\" id=\"DejaVuSans-101\"/>\n       <path d=\"M 10.984375 1.515625 \nL 10.984375 10.5 \nQ 14.703125 8.734375 18.5 7.8125 \nQ 22.3125 6.890625 25.984375 6.890625 \nQ 35.75 6.890625 40.890625 13.453125 \nQ 46.046875 20.015625 46.78125 33.40625 \nQ 43.953125 29.203125 39.59375 26.953125 \nQ 35.25 24.703125 29.984375 24.703125 \nQ 19.046875 24.703125 12.671875 31.3125 \nQ 6.296875 37.9375 6.296875 49.421875 \nQ 6.296875 60.640625 12.9375 67.421875 \nQ 19.578125 74.21875 30.609375 74.21875 \nQ 43.265625 74.21875 49.921875 64.515625 \nQ 56.59375 54.828125 56.59375 36.375 \nQ 56.59375 19.140625 48.40625 8.859375 \nQ 40.234375 -1.421875 26.421875 -1.421875 \nQ 22.703125 -1.421875 18.890625 -0.6875 \nQ 15.09375 0.046875 10.984375 1.515625 \nz\nM 30.609375 32.421875 \nQ 37.25 32.421875 41.125 36.953125 \nQ 45.015625 41.5 45.015625 49.421875 \nQ 45.015625 57.28125 41.125 61.84375 \nQ 37.25 66.40625 30.609375 66.40625 \nQ 23.96875 66.40625 20.09375 61.84375 \nQ 16.21875 57.28125 16.21875 49.421875 \nQ 16.21875 41.5 20.09375 36.953125 \nQ 23.96875 32.421875 30.609375 32.421875 \nz\n\" id=\"DejaVuSans-57\"/>\n      </defs>\n      <use xlink:href=\"#DejaVuSans-49\"/>\n      <use x=\"63.623047\" xlink:href=\"#DejaVuSans-101\"/>\n      <use x=\"125.146484\" xlink:href=\"#DejaVuSans-57\"/>\n     </g>\n    </g>\n   </g>\n   <g id=\"matplotlib.axis_2\">\n    <g id=\"ytick_1\">\n     <g id=\"line2d_8\">\n      <defs>\n       <path d=\"M 0 0 \nL -3.5 0 \n\" id=\"m92cfa79057\" style=\"stroke:#000000;stroke-width:0.8;\"/>\n      </defs>\n      <g>\n       <use style=\"stroke:#000000;stroke-width:0.8;\" x=\"270.034375\" xlink:href=\"#m92cfa79057\" y=\"533.5473\"/>\n      </g>\n     </g>\n     <g id=\"text_10\">\n      <!-- Star Wars: The Last Jedi -->\n      <g transform=\"translate(144.089062 537.346519)scale(0.1 -0.1)\">\n       <defs>\n        <path d=\"M 53.515625 70.515625 \nL 53.515625 60.890625 \nQ 47.90625 63.578125 42.921875 64.890625 \nQ 37.9375 66.21875 33.296875 66.21875 \nQ 25.25 66.21875 20.875 63.09375 \nQ 16.5 59.96875 16.5 54.203125 \nQ 16.5 49.359375 19.40625 46.890625 \nQ 22.3125 44.4375 30.421875 42.921875 \nL 36.375 41.703125 \nQ 47.40625 39.59375 52.65625 34.296875 \nQ 57.90625 29 57.90625 20.125 \nQ 57.90625 9.515625 50.796875 4.046875 \nQ 43.703125 -1.421875 29.984375 -1.421875 \nQ 24.8125 -1.421875 18.96875 -0.25 \nQ 13.140625 0.921875 6.890625 3.21875 \nL 6.890625 13.375 \nQ 12.890625 10.015625 18.65625 8.296875 \nQ 24.421875 6.59375 29.984375 6.59375 \nQ 38.421875 6.59375 43.015625 9.90625 \nQ 47.609375 13.234375 47.609375 19.390625 \nQ 47.609375 24.75 44.3125 27.78125 \nQ 41.015625 30.8125 33.5 32.328125 \nL 27.484375 33.5 \nQ 16.453125 35.6875 11.515625 40.375 \nQ 6.59375 45.0625 6.59375 53.421875 \nQ 6.59375 63.09375 13.40625 68.65625 \nQ 20.21875 74.21875 32.171875 74.21875 \nQ 37.3125 74.21875 42.625 73.28125 \nQ 47.953125 72.359375 53.515625 70.515625 \nz\n\" id=\"DejaVuSans-83\"/>\n        <path d=\"M 3.328125 72.90625 \nL 13.28125 72.90625 \nL 28.609375 11.28125 \nL 43.890625 72.90625 \nL 54.984375 72.90625 \nL 70.3125 11.28125 \nL 85.59375 72.90625 \nL 95.609375 72.90625 \nL 77.296875 0 \nL 64.890625 0 \nL 49.515625 63.28125 \nL 33.984375 0 \nL 21.578125 0 \nz\n\" id=\"DejaVuSans-87\"/>\n        <path d=\"M 11.71875 12.40625 \nL 22.015625 12.40625 \nL 22.015625 0 \nL 11.71875 0 \nz\nM 11.71875 51.703125 \nL 22.015625 51.703125 \nL 22.015625 39.3125 \nL 11.71875 39.3125 \nz\n\" id=\"DejaVuSans-58\"/>\n        <path d=\"M 54.890625 33.015625 \nL 54.890625 0 \nL 45.90625 0 \nL 45.90625 32.71875 \nQ 45.90625 40.484375 42.875 44.328125 \nQ 39.84375 48.1875 33.796875 48.1875 \nQ 26.515625 48.1875 22.3125 43.546875 \nQ 18.109375 38.921875 18.109375 30.90625 \nL 18.109375 0 \nL 9.078125 0 \nL 9.078125 75.984375 \nL 18.109375 75.984375 \nL 18.109375 46.1875 \nQ 21.34375 51.125 25.703125 53.5625 \nQ 30.078125 56 35.796875 56 \nQ 45.21875 56 50.046875 50.171875 \nQ 54.890625 44.34375 54.890625 33.015625 \nz\n\" id=\"DejaVuSans-104\"/>\n        <path d=\"M 9.8125 72.90625 \nL 19.671875 72.90625 \nL 19.671875 8.296875 \nL 55.171875 8.296875 \nL 55.171875 0 \nL 9.8125 0 \nz\n\" id=\"DejaVuSans-76\"/>\n        <path d=\"M 9.8125 72.90625 \nL 19.671875 72.90625 \nL 19.671875 5.078125 \nQ 19.671875 -8.109375 14.671875 -14.0625 \nQ 9.671875 -20.015625 -1.421875 -20.015625 \nL -5.171875 -20.015625 \nL -5.171875 -11.71875 \nL -2.09375 -11.71875 \nQ 4.4375 -11.71875 7.125 -8.046875 \nQ 9.8125 -4.390625 9.8125 5.078125 \nz\n\" id=\"DejaVuSans-74\"/>\n        <path d=\"M 45.40625 46.390625 \nL 45.40625 75.984375 \nL 54.390625 75.984375 \nL 54.390625 0 \nL 45.40625 0 \nL 45.40625 8.203125 \nQ 42.578125 3.328125 38.25 0.953125 \nQ 33.9375 -1.421875 27.875 -1.421875 \nQ 17.96875 -1.421875 11.734375 6.484375 \nQ 5.515625 14.40625 5.515625 27.296875 \nQ 5.515625 40.1875 11.734375 48.09375 \nQ 17.96875 56 27.875 56 \nQ 33.9375 56 38.25 53.625 \nQ 42.578125 51.265625 45.40625 46.390625 \nz\nM 14.796875 27.296875 \nQ 14.796875 17.390625 18.875 11.75 \nQ 22.953125 6.109375 30.078125 6.109375 \nQ 37.203125 6.109375 41.296875 11.75 \nQ 45.40625 17.390625 45.40625 27.296875 \nQ 45.40625 37.203125 41.296875 42.84375 \nQ 37.203125 48.484375 30.078125 48.484375 \nQ 22.953125 48.484375 18.875 42.84375 \nQ 14.796875 37.203125 14.796875 27.296875 \nz\n\" id=\"DejaVuSans-100\"/>\n       </defs>\n       <use xlink:href=\"#DejaVuSans-83\"/>\n       <use x=\"63.476562\" xlink:href=\"#DejaVuSans-116\"/>\n       <use x=\"102.685547\" xlink:href=\"#DejaVuSans-97\"/>\n       <use x=\"163.964844\" xlink:href=\"#DejaVuSans-114\"/>\n       <use x=\"205.078125\" xlink:href=\"#DejaVuSans-32\"/>\n       <use x=\"236.865234\" xlink:href=\"#DejaVuSans-87\"/>\n       <use x=\"329.367188\" xlink:href=\"#DejaVuSans-97\"/>\n       <use x=\"390.646484\" xlink:href=\"#DejaVuSans-114\"/>\n       <use x=\"431.759766\" xlink:href=\"#DejaVuSans-115\"/>\n       <use x=\"483.859375\" xlink:href=\"#DejaVuSans-58\"/>\n       <use x=\"517.550781\" xlink:href=\"#DejaVuSans-32\"/>\n       <use x=\"549.337891\" xlink:href=\"#DejaVuSans-84\"/>\n       <use x=\"610.421875\" xlink:href=\"#DejaVuSans-104\"/>\n       <use x=\"673.800781\" xlink:href=\"#DejaVuSans-101\"/>\n       <use x=\"735.324219\" xlink:href=\"#DejaVuSans-32\"/>\n       <use x=\"767.111328\" xlink:href=\"#DejaVuSans-76\"/>\n       <use x=\"822.824219\" xlink:href=\"#DejaVuSans-97\"/>\n       <use x=\"884.103516\" xlink:href=\"#DejaVuSans-115\"/>\n       <use x=\"936.203125\" xlink:href=\"#DejaVuSans-116\"/>\n       <use x=\"975.412109\" xlink:href=\"#DejaVuSans-32\"/>\n       <use x=\"1007.199219\" xlink:href=\"#DejaVuSans-74\"/>\n       <use x=\"1036.691406\" xlink:href=\"#DejaVuSans-101\"/>\n       <use x=\"1098.214844\" xlink:href=\"#DejaVuSans-100\"/>\n       <use x=\"1161.691406\" xlink:href=\"#DejaVuSans-105\"/>\n      </g>\n     </g>\n    </g>\n    <g id=\"ytick_2\">\n     <g id=\"line2d_9\">\n      <g>\n       <use style=\"stroke:#000000;stroke-width:0.8;\" x=\"270.034375\" xlink:href=\"#m92cfa79057\" y=\"514.392966\"/>\n      </g>\n     </g>\n     <g id=\"text_11\">\n      <!-- Despicable Me 3 -->\n      <g transform=\"translate(180.439062 518.192185)scale(0.1 -0.1)\">\n       <defs>\n        <path d=\"M 19.671875 64.796875 \nL 19.671875 8.109375 \nL 31.59375 8.109375 \nQ 46.6875 8.109375 53.6875 14.9375 \nQ 60.6875 21.78125 60.6875 36.53125 \nQ 60.6875 51.171875 53.6875 57.984375 \nQ 46.6875 64.796875 31.59375 64.796875 \nz\nM 9.8125 72.90625 \nL 30.078125 72.90625 \nQ 51.265625 72.90625 61.171875 64.09375 \nQ 71.09375 55.28125 71.09375 36.53125 \nQ 71.09375 17.671875 61.125 8.828125 \nQ 51.171875 0 30.078125 0 \nL 9.8125 0 \nz\n\" id=\"DejaVuSans-68\"/>\n        <path d=\"M 18.109375 8.203125 \nL 18.109375 -20.796875 \nL 9.078125 -20.796875 \nL 9.078125 54.6875 \nL 18.109375 54.6875 \nL 18.109375 46.390625 \nQ 20.953125 51.265625 25.265625 53.625 \nQ 29.59375 56 35.59375 56 \nQ 45.5625 56 51.78125 48.09375 \nQ 58.015625 40.1875 58.015625 27.296875 \nQ 58.015625 14.40625 51.78125 6.484375 \nQ 45.5625 -1.421875 35.59375 -1.421875 \nQ 29.59375 -1.421875 25.265625 0.953125 \nQ 20.953125 3.328125 18.109375 8.203125 \nz\nM 48.6875 27.296875 \nQ 48.6875 37.203125 44.609375 42.84375 \nQ 40.53125 48.484375 33.40625 48.484375 \nQ 26.265625 48.484375 22.1875 42.84375 \nQ 18.109375 37.203125 18.109375 27.296875 \nQ 18.109375 17.390625 22.1875 11.75 \nQ 26.265625 6.109375 33.40625 6.109375 \nQ 40.53125 6.109375 44.609375 11.75 \nQ 48.6875 17.390625 48.6875 27.296875 \nz\n\" id=\"DejaVuSans-112\"/>\n        <path d=\"M 48.78125 52.59375 \nL 48.78125 44.1875 \nQ 44.96875 46.296875 41.140625 47.34375 \nQ 37.3125 48.390625 33.40625 48.390625 \nQ 24.65625 48.390625 19.8125 42.84375 \nQ 14.984375 37.3125 14.984375 27.296875 \nQ 14.984375 17.28125 19.8125 11.734375 \nQ 24.65625 6.203125 33.40625 6.203125 \nQ 37.3125 6.203125 41.140625 7.25 \nQ 44.96875 8.296875 48.78125 10.40625 \nL 48.78125 2.09375 \nQ 45.015625 0.34375 40.984375 -0.53125 \nQ 36.96875 -1.421875 32.421875 -1.421875 \nQ 20.0625 -1.421875 12.78125 6.34375 \nQ 5.515625 14.109375 5.515625 27.296875 \nQ 5.515625 40.671875 12.859375 48.328125 \nQ 20.21875 56 33.015625 56 \nQ 37.15625 56 41.109375 55.140625 \nQ 45.0625 54.296875 48.78125 52.59375 \nz\n\" id=\"DejaVuSans-99\"/>\n        <path d=\"M 9.8125 72.90625 \nL 24.515625 72.90625 \nL 43.109375 23.296875 \nL 61.8125 72.90625 \nL 76.515625 72.90625 \nL 76.515625 0 \nL 66.890625 0 \nL 66.890625 64.015625 \nL 48.09375 14.015625 \nL 38.1875 14.015625 \nL 19.390625 64.015625 \nL 19.390625 0 \nL 9.8125 0 \nz\n\" id=\"DejaVuSans-77\"/>\n        <path d=\"M 40.578125 39.3125 \nQ 47.65625 37.796875 51.625 33 \nQ 55.609375 28.21875 55.609375 21.1875 \nQ 55.609375 10.40625 48.1875 4.484375 \nQ 40.765625 -1.421875 27.09375 -1.421875 \nQ 22.515625 -1.421875 17.65625 -0.515625 \nQ 12.796875 0.390625 7.625 2.203125 \nL 7.625 11.71875 \nQ 11.71875 9.328125 16.59375 8.109375 \nQ 21.484375 6.890625 26.8125 6.890625 \nQ 36.078125 6.890625 40.9375 10.546875 \nQ 45.796875 14.203125 45.796875 21.1875 \nQ 45.796875 27.640625 41.28125 31.265625 \nQ 36.765625 34.90625 28.71875 34.90625 \nL 20.21875 34.90625 \nL 20.21875 43.015625 \nL 29.109375 43.015625 \nQ 36.375 43.015625 40.234375 45.921875 \nQ 44.09375 48.828125 44.09375 54.296875 \nQ 44.09375 59.90625 40.109375 62.90625 \nQ 36.140625 65.921875 28.71875 65.921875 \nQ 24.65625 65.921875 20.015625 65.03125 \nQ 15.375 64.15625 9.8125 62.3125 \nL 9.8125 71.09375 \nQ 15.4375 72.65625 20.34375 73.4375 \nQ 25.25 74.21875 29.59375 74.21875 \nQ 40.828125 74.21875 47.359375 69.109375 \nQ 53.90625 64.015625 53.90625 55.328125 \nQ 53.90625 49.265625 50.4375 45.09375 \nQ 46.96875 40.921875 40.578125 39.3125 \nz\n\" id=\"DejaVuSans-51\"/>\n       </defs>\n       <use xlink:href=\"#DejaVuSans-68\"/>\n       <use x=\"77.001953\" xlink:href=\"#DejaVuSans-101\"/>\n       <use x=\"138.525391\" xlink:href=\"#DejaVuSans-115\"/>\n       <use x=\"190.625\" xlink:href=\"#DejaVuSans-112\"/>\n       <use x=\"254.101562\" xlink:href=\"#DejaVuSans-105\"/>\n       <use x=\"281.884766\" xlink:href=\"#DejaVuSans-99\"/>\n       <use x=\"336.865234\" xlink:href=\"#DejaVuSans-97\"/>\n       <use x=\"398.144531\" xlink:href=\"#DejaVuSans-98\"/>\n       <use x=\"461.621094\" xlink:href=\"#DejaVuSans-108\"/>\n       <use x=\"489.404297\" xlink:href=\"#DejaVuSans-101\"/>\n       <use x=\"550.927734\" xlink:href=\"#DejaVuSans-32\"/>\n       <use x=\"582.714844\" xlink:href=\"#DejaVuSans-77\"/>\n       <use x=\"668.994141\" xlink:href=\"#DejaVuSans-101\"/>\n       <use x=\"730.517578\" xlink:href=\"#DejaVuSans-32\"/>\n       <use x=\"762.304688\" xlink:href=\"#DejaVuSans-51\"/>\n      </g>\n     </g>\n    </g>\n    <g id=\"ytick_3\">\n     <g id=\"line2d_10\">\n      <g>\n       <use style=\"stroke:#000000;stroke-width:0.8;\" x=\"270.034375\" xlink:href=\"#m92cfa79057\" y=\"495.238632\"/>\n      </g>\n     </g>\n     <g id=\"text_12\">\n      <!-- Jumanji: Welcome to the Jungle -->\n      <g transform=\"translate(106.80625 499.037851)scale(0.1 -0.1)\">\n       <defs>\n        <path d=\"M 8.5 21.578125 \nL 8.5 54.6875 \nL 17.484375 54.6875 \nL 17.484375 21.921875 \nQ 17.484375 14.15625 20.5 10.265625 \nQ 23.53125 6.390625 29.59375 6.390625 \nQ 36.859375 6.390625 41.078125 11.03125 \nQ 45.3125 15.671875 45.3125 23.6875 \nL 45.3125 54.6875 \nL 54.296875 54.6875 \nL 54.296875 0 \nL 45.3125 0 \nL 45.3125 8.40625 \nQ 42.046875 3.421875 37.71875 1 \nQ 33.40625 -1.421875 27.6875 -1.421875 \nQ 18.265625 -1.421875 13.375 4.4375 \nQ 8.5 10.296875 8.5 21.578125 \nz\nM 31.109375 56 \nz\n\" id=\"DejaVuSans-117\"/>\n        <path d=\"M 52 44.1875 \nQ 55.375 50.25 60.0625 53.125 \nQ 64.75 56 71.09375 56 \nQ 79.640625 56 84.28125 50.015625 \nQ 88.921875 44.046875 88.921875 33.015625 \nL 88.921875 0 \nL 79.890625 0 \nL 79.890625 32.71875 \nQ 79.890625 40.578125 77.09375 44.375 \nQ 74.3125 48.1875 68.609375 48.1875 \nQ 61.625 48.1875 57.5625 43.546875 \nQ 53.515625 38.921875 53.515625 30.90625 \nL 53.515625 0 \nL 44.484375 0 \nL 44.484375 32.71875 \nQ 44.484375 40.625 41.703125 44.40625 \nQ 38.921875 48.1875 33.109375 48.1875 \nQ 26.21875 48.1875 22.15625 43.53125 \nQ 18.109375 38.875 18.109375 30.90625 \nL 18.109375 0 \nL 9.078125 0 \nL 9.078125 54.6875 \nL 18.109375 54.6875 \nL 18.109375 46.1875 \nQ 21.1875 51.21875 25.484375 53.609375 \nQ 29.78125 56 35.6875 56 \nQ 41.65625 56 45.828125 52.96875 \nQ 50 49.953125 52 44.1875 \nz\n\" id=\"DejaVuSans-109\"/>\n        <path d=\"M 9.421875 54.6875 \nL 18.40625 54.6875 \nL 18.40625 -0.984375 \nQ 18.40625 -11.421875 14.421875 -16.109375 \nQ 10.453125 -20.796875 1.609375 -20.796875 \nL -1.8125 -20.796875 \nL -1.8125 -13.1875 \nL 0.59375 -13.1875 \nQ 5.71875 -13.1875 7.5625 -10.8125 \nQ 9.421875 -8.453125 9.421875 -0.984375 \nz\nM 9.421875 75.984375 \nL 18.40625 75.984375 \nL 18.40625 64.59375 \nL 9.421875 64.59375 \nz\n\" id=\"DejaVuSans-106\"/>\n        <path d=\"M 45.40625 27.984375 \nQ 45.40625 37.75 41.375 43.109375 \nQ 37.359375 48.484375 30.078125 48.484375 \nQ 22.859375 48.484375 18.828125 43.109375 \nQ 14.796875 37.75 14.796875 27.984375 \nQ 14.796875 18.265625 18.828125 12.890625 \nQ 22.859375 7.515625 30.078125 7.515625 \nQ 37.359375 7.515625 41.375 12.890625 \nQ 45.40625 18.265625 45.40625 27.984375 \nz\nM 54.390625 6.78125 \nQ 54.390625 -7.171875 48.1875 -13.984375 \nQ 42 -20.796875 29.203125 -20.796875 \nQ 24.46875 -20.796875 20.265625 -20.09375 \nQ 16.0625 -19.390625 12.109375 -17.921875 \nL 12.109375 -9.1875 \nQ 16.0625 -11.328125 19.921875 -12.34375 \nQ 23.78125 -13.375 27.78125 -13.375 \nQ 36.625 -13.375 41.015625 -8.765625 \nQ 45.40625 -4.15625 45.40625 5.171875 \nL 45.40625 9.625 \nQ 42.625 4.78125 38.28125 2.390625 \nQ 33.9375 0 27.875 0 \nQ 17.828125 0 11.671875 7.65625 \nQ 5.515625 15.328125 5.515625 27.984375 \nQ 5.515625 40.671875 11.671875 48.328125 \nQ 17.828125 56 27.875 56 \nQ 33.9375 56 38.28125 53.609375 \nQ 42.625 51.21875 45.40625 46.390625 \nL 45.40625 54.6875 \nL 54.390625 54.6875 \nz\n\" id=\"DejaVuSans-103\"/>\n       </defs>\n       <use xlink:href=\"#DejaVuSans-74\"/>\n       <use x=\"29.492188\" xlink:href=\"#DejaVuSans-117\"/>\n       <use x=\"92.871094\" xlink:href=\"#DejaVuSans-109\"/>\n       <use x=\"190.283203\" xlink:href=\"#DejaVuSans-97\"/>\n       <use x=\"251.5625\" xlink:href=\"#DejaVuSans-110\"/>\n       <use x=\"314.941406\" xlink:href=\"#DejaVuSans-106\"/>\n       <use x=\"342.724609\" xlink:href=\"#DejaVuSans-105\"/>\n       <use x=\"370.507812\" xlink:href=\"#DejaVuSans-58\"/>\n       <use x=\"404.199219\" xlink:href=\"#DejaVuSans-32\"/>\n       <use x=\"435.986328\" xlink:href=\"#DejaVuSans-87\"/>\n       <use x=\"528.988281\" xlink:href=\"#DejaVuSans-101\"/>\n       <use x=\"590.511719\" xlink:href=\"#DejaVuSans-108\"/>\n       <use x=\"618.294922\" xlink:href=\"#DejaVuSans-99\"/>\n       <use x=\"673.275391\" xlink:href=\"#DejaVuSans-111\"/>\n       <use x=\"734.457031\" xlink:href=\"#DejaVuSans-109\"/>\n       <use x=\"831.869141\" xlink:href=\"#DejaVuSans-101\"/>\n       <use x=\"893.392578\" xlink:href=\"#DejaVuSans-32\"/>\n       <use x=\"925.179688\" xlink:href=\"#DejaVuSans-116\"/>\n       <use x=\"964.388672\" xlink:href=\"#DejaVuSans-111\"/>\n       <use x=\"1025.570312\" xlink:href=\"#DejaVuSans-32\"/>\n       <use x=\"1057.357422\" xlink:href=\"#DejaVuSans-116\"/>\n       <use x=\"1096.566406\" xlink:href=\"#DejaVuSans-104\"/>\n       <use x=\"1159.945312\" xlink:href=\"#DejaVuSans-101\"/>\n       <use x=\"1221.46875\" xlink:href=\"#DejaVuSans-32\"/>\n       <use x=\"1253.255859\" xlink:href=\"#DejaVuSans-74\"/>\n       <use x=\"1282.748047\" xlink:href=\"#DejaVuSans-117\"/>\n       <use x=\"1346.126953\" xlink:href=\"#DejaVuSans-110\"/>\n       <use x=\"1409.505859\" xlink:href=\"#DejaVuSans-103\"/>\n       <use x=\"1472.982422\" xlink:href=\"#DejaVuSans-108\"/>\n       <use x=\"1500.765625\" xlink:href=\"#DejaVuSans-101\"/>\n      </g>\n     </g>\n    </g>\n    <g id=\"ytick_4\">\n     <g id=\"line2d_11\">\n      <g>\n       <use style=\"stroke:#000000;stroke-width:0.8;\" x=\"270.034375\" xlink:href=\"#m92cfa79057\" y=\"476.084298\"/>\n      </g>\n     </g>\n     <g id=\"text_13\">\n      <!-- Spider-Man: Homecoming -->\n      <g transform=\"translate(133.98125 479.883517)scale(0.1 -0.1)\">\n       <defs>\n        <path d=\"M 4.890625 31.390625 \nL 31.203125 31.390625 \nL 31.203125 23.390625 \nL 4.890625 23.390625 \nz\n\" id=\"DejaVuSans-45\"/>\n        <path d=\"M 9.8125 72.90625 \nL 19.671875 72.90625 \nL 19.671875 43.015625 \nL 55.515625 43.015625 \nL 55.515625 72.90625 \nL 65.375 72.90625 \nL 65.375 0 \nL 55.515625 0 \nL 55.515625 34.71875 \nL 19.671875 34.71875 \nL 19.671875 0 \nL 9.8125 0 \nz\n\" id=\"DejaVuSans-72\"/>\n       </defs>\n       <use xlink:href=\"#DejaVuSans-83\"/>\n       <use x=\"63.476562\" xlink:href=\"#DejaVuSans-112\"/>\n       <use x=\"126.953125\" xlink:href=\"#DejaVuSans-105\"/>\n       <use x=\"154.736328\" xlink:href=\"#DejaVuSans-100\"/>\n       <use x=\"218.212891\" xlink:href=\"#DejaVuSans-101\"/>\n       <use x=\"279.736328\" xlink:href=\"#DejaVuSans-114\"/>\n       <use x=\"314.474609\" xlink:href=\"#DejaVuSans-45\"/>\n       <use x=\"350.558594\" xlink:href=\"#DejaVuSans-77\"/>\n       <use x=\"436.837891\" xlink:href=\"#DejaVuSans-97\"/>\n       <use x=\"498.117188\" xlink:href=\"#DejaVuSans-110\"/>\n       <use x=\"561.496094\" xlink:href=\"#DejaVuSans-58\"/>\n       <use x=\"595.1875\" xlink:href=\"#DejaVuSans-32\"/>\n       <use x=\"626.974609\" xlink:href=\"#DejaVuSans-72\"/>\n       <use x=\"702.169922\" xlink:href=\"#DejaVuSans-111\"/>\n       <use x=\"763.351562\" xlink:href=\"#DejaVuSans-109\"/>\n       <use x=\"860.763672\" xlink:href=\"#DejaVuSans-101\"/>\n       <use x=\"922.287109\" xlink:href=\"#DejaVuSans-99\"/>\n       <use x=\"977.267578\" xlink:href=\"#DejaVuSans-111\"/>\n       <use x=\"1038.449219\" xlink:href=\"#DejaVuSans-109\"/>\n       <use x=\"1135.861328\" xlink:href=\"#DejaVuSans-105\"/>\n       <use x=\"1163.644531\" xlink:href=\"#DejaVuSans-110\"/>\n       <use x=\"1227.023438\" xlink:href=\"#DejaVuSans-103\"/>\n      </g>\n     </g>\n    </g>\n    <g id=\"ytick_5\">\n     <g id=\"line2d_12\">\n      <g>\n       <use style=\"stroke:#000000;stroke-width:0.8;\" x=\"270.034375\" xlink:href=\"#m92cfa79057\" y=\"456.929964\"/>\n      </g>\n     </g>\n     <g id=\"text_14\">\n      <!-- Wolf Warrior 2 -->\n      <g transform=\"translate(192.165625 460.729183)scale(0.1 -0.1)\">\n       <defs>\n        <path d=\"M 37.109375 75.984375 \nL 37.109375 68.5 \nL 28.515625 68.5 \nQ 23.6875 68.5 21.796875 66.546875 \nQ 19.921875 64.59375 19.921875 59.515625 \nL 19.921875 54.6875 \nL 34.71875 54.6875 \nL 34.71875 47.703125 \nL 19.921875 47.703125 \nL 19.921875 0 \nL 10.890625 0 \nL 10.890625 47.703125 \nL 2.296875 47.703125 \nL 2.296875 54.6875 \nL 10.890625 54.6875 \nL 10.890625 58.5 \nQ 10.890625 67.625 15.140625 71.796875 \nQ 19.390625 75.984375 28.609375 75.984375 \nz\n\" id=\"DejaVuSans-102\"/>\n       </defs>\n       <use xlink:href=\"#DejaVuSans-87\"/>\n       <use x=\"93.001953\" xlink:href=\"#DejaVuSans-111\"/>\n       <use x=\"154.183594\" xlink:href=\"#DejaVuSans-108\"/>\n       <use x=\"181.966797\" xlink:href=\"#DejaVuSans-102\"/>\n       <use x=\"217.171875\" xlink:href=\"#DejaVuSans-32\"/>\n       <use x=\"248.958984\" xlink:href=\"#DejaVuSans-87\"/>\n       <use x=\"341.460938\" xlink:href=\"#DejaVuSans-97\"/>\n       <use x=\"402.740234\" xlink:href=\"#DejaVuSans-114\"/>\n       <use x=\"442.103516\" xlink:href=\"#DejaVuSans-114\"/>\n       <use x=\"483.216797\" xlink:href=\"#DejaVuSans-105\"/>\n       <use x=\"511\" xlink:href=\"#DejaVuSans-111\"/>\n       <use x=\"572.181641\" xlink:href=\"#DejaVuSans-114\"/>\n       <use x=\"613.294922\" xlink:href=\"#DejaVuSans-32\"/>\n       <use x=\"645.082031\" xlink:href=\"#DejaVuSans-50\"/>\n      </g>\n     </g>\n    </g>\n    <g id=\"ytick_6\">\n     <g id=\"line2d_13\">\n      <g>\n       <use style=\"stroke:#000000;stroke-width:0.8;\" x=\"270.034375\" xlink:href=\"#m92cfa79057\" y=\"437.77563\"/>\n      </g>\n     </g>\n     <g id=\"text_15\">\n      <!-- Guardians of the Galaxy Vol. 2 -->\n      <g transform=\"translate(111.01875 441.574849)scale(0.1 -0.1)\">\n       <defs>\n        <path d=\"M 54.890625 54.6875 \nL 35.109375 28.078125 \nL 55.90625 0 \nL 45.3125 0 \nL 29.390625 21.484375 \nL 13.484375 0 \nL 2.875 0 \nL 24.125 28.609375 \nL 4.6875 54.6875 \nL 15.28125 54.6875 \nL 29.78125 35.203125 \nL 44.28125 54.6875 \nz\n\" id=\"DejaVuSans-120\"/>\n        <path d=\"M 32.171875 -5.078125 \nQ 28.375 -14.84375 24.75 -17.8125 \nQ 21.140625 -20.796875 15.09375 -20.796875 \nL 7.90625 -20.796875 \nL 7.90625 -13.28125 \nL 13.1875 -13.28125 \nQ 16.890625 -13.28125 18.9375 -11.515625 \nQ 21 -9.765625 23.484375 -3.21875 \nL 25.09375 0.875 \nL 2.984375 54.6875 \nL 12.5 54.6875 \nL 29.59375 11.921875 \nL 46.6875 54.6875 \nL 56.203125 54.6875 \nz\n\" id=\"DejaVuSans-121\"/>\n        <path d=\"M 28.609375 0 \nL 0.78125 72.90625 \nL 11.078125 72.90625 \nL 34.1875 11.53125 \nL 57.328125 72.90625 \nL 67.578125 72.90625 \nL 39.796875 0 \nz\n\" id=\"DejaVuSans-86\"/>\n       </defs>\n       <use xlink:href=\"#DejaVuSans-71\"/>\n       <use x=\"77.490234\" xlink:href=\"#DejaVuSans-117\"/>\n       <use x=\"140.869141\" xlink:href=\"#DejaVuSans-97\"/>\n       <use x=\"202.148438\" xlink:href=\"#DejaVuSans-114\"/>\n       <use x=\"241.511719\" xlink:href=\"#DejaVuSans-100\"/>\n       <use x=\"304.988281\" xlink:href=\"#DejaVuSans-105\"/>\n       <use x=\"332.771484\" xlink:href=\"#DejaVuSans-97\"/>\n       <use x=\"394.050781\" xlink:href=\"#DejaVuSans-110\"/>\n       <use x=\"457.429688\" xlink:href=\"#DejaVuSans-115\"/>\n       <use x=\"509.529297\" xlink:href=\"#DejaVuSans-32\"/>\n       <use x=\"541.316406\" xlink:href=\"#DejaVuSans-111\"/>\n       <use x=\"602.498047\" xlink:href=\"#DejaVuSans-102\"/>\n       <use x=\"637.703125\" xlink:href=\"#DejaVuSans-32\"/>\n       <use x=\"669.490234\" xlink:href=\"#DejaVuSans-116\"/>\n       <use x=\"708.699219\" xlink:href=\"#DejaVuSans-104\"/>\n       <use x=\"772.078125\" xlink:href=\"#DejaVuSans-101\"/>\n       <use x=\"833.601562\" xlink:href=\"#DejaVuSans-32\"/>\n       <use x=\"865.388672\" xlink:href=\"#DejaVuSans-71\"/>\n       <use x=\"942.878906\" xlink:href=\"#DejaVuSans-97\"/>\n       <use x=\"1004.158203\" xlink:href=\"#DejaVuSans-108\"/>\n       <use x=\"1031.941406\" xlink:href=\"#DejaVuSans-97\"/>\n       <use x=\"1093.220703\" xlink:href=\"#DejaVuSans-120\"/>\n       <use x=\"1152.400391\" xlink:href=\"#DejaVuSans-121\"/>\n       <use x=\"1211.580078\" xlink:href=\"#DejaVuSans-32\"/>\n       <use x=\"1243.367188\" xlink:href=\"#DejaVuSans-86\"/>\n       <use x=\"1304.025391\" xlink:href=\"#DejaVuSans-111\"/>\n       <use x=\"1365.207031\" xlink:href=\"#DejaVuSans-108\"/>\n       <use x=\"1392.990234\" xlink:href=\"#DejaVuSans-46\"/>\n       <use x=\"1424.777344\" xlink:href=\"#DejaVuSans-32\"/>\n       <use x=\"1456.564453\" xlink:href=\"#DejaVuSans-50\"/>\n      </g>\n     </g>\n    </g>\n    <g id=\"ytick_7\">\n     <g id=\"line2d_14\">\n      <g>\n       <use style=\"stroke:#000000;stroke-width:0.8;\" x=\"270.034375\" xlink:href=\"#m92cfa79057\" y=\"418.621296\"/>\n      </g>\n     </g>\n     <g id=\"text_16\">\n      <!-- Thor: Ragnarok -->\n      <g transform=\"translate(186.526562 422.420515)scale(0.1 -0.1)\">\n       <defs>\n        <path d=\"M 44.390625 34.1875 \nQ 47.5625 33.109375 50.5625 29.59375 \nQ 53.5625 26.078125 56.59375 19.921875 \nL 66.609375 0 \nL 56 0 \nL 46.6875 18.703125 \nQ 43.0625 26.03125 39.671875 28.421875 \nQ 36.28125 30.8125 30.421875 30.8125 \nL 19.671875 30.8125 \nL 19.671875 0 \nL 9.8125 0 \nL 9.8125 72.90625 \nL 32.078125 72.90625 \nQ 44.578125 72.90625 50.734375 67.671875 \nQ 56.890625 62.453125 56.890625 51.90625 \nQ 56.890625 45.015625 53.6875 40.46875 \nQ 50.484375 35.9375 44.390625 34.1875 \nz\nM 19.671875 64.796875 \nL 19.671875 38.921875 \nL 32.078125 38.921875 \nQ 39.203125 38.921875 42.84375 42.21875 \nQ 46.484375 45.515625 46.484375 51.90625 \nQ 46.484375 58.296875 42.84375 61.546875 \nQ 39.203125 64.796875 32.078125 64.796875 \nz\n\" id=\"DejaVuSans-82\"/>\n        <path d=\"M 9.078125 75.984375 \nL 18.109375 75.984375 \nL 18.109375 31.109375 \nL 44.921875 54.6875 \nL 56.390625 54.6875 \nL 27.390625 29.109375 \nL 57.625 0 \nL 45.90625 0 \nL 18.109375 26.703125 \nL 18.109375 0 \nL 9.078125 0 \nz\n\" id=\"DejaVuSans-107\"/>\n       </defs>\n       <use xlink:href=\"#DejaVuSans-84\"/>\n       <use x=\"61.083984\" xlink:href=\"#DejaVuSans-104\"/>\n       <use x=\"124.462891\" xlink:href=\"#DejaVuSans-111\"/>\n       <use x=\"185.644531\" xlink:href=\"#DejaVuSans-114\"/>\n       <use x=\"225.007812\" xlink:href=\"#DejaVuSans-58\"/>\n       <use x=\"258.699219\" xlink:href=\"#DejaVuSans-32\"/>\n       <use x=\"290.486328\" xlink:href=\"#DejaVuSans-82\"/>\n       <use x=\"357.71875\" xlink:href=\"#DejaVuSans-97\"/>\n       <use x=\"418.998047\" xlink:href=\"#DejaVuSans-103\"/>\n       <use x=\"482.474609\" xlink:href=\"#DejaVuSans-110\"/>\n       <use x=\"545.853516\" xlink:href=\"#DejaVuSans-97\"/>\n       <use x=\"607.132812\" xlink:href=\"#DejaVuSans-114\"/>\n       <use x=\"645.996094\" xlink:href=\"#DejaVuSans-111\"/>\n       <use x=\"707.177734\" xlink:href=\"#DejaVuSans-107\"/>\n      </g>\n     </g>\n    </g>\n    <g id=\"ytick_8\">\n     <g id=\"line2d_15\">\n      <g>\n       <use style=\"stroke:#000000;stroke-width:0.8;\" x=\"270.034375\" xlink:href=\"#m92cfa79057\" y=\"399.466962\"/>\n      </g>\n     </g>\n     <g id=\"text_17\">\n      <!-- Wonder Woman -->\n      <g transform=\"translate(183.8625 403.266181)scale(0.1 -0.1)\">\n       <use xlink:href=\"#DejaVuSans-87\"/>\n       <use x=\"93.001953\" xlink:href=\"#DejaVuSans-111\"/>\n       <use x=\"154.183594\" xlink:href=\"#DejaVuSans-110\"/>\n       <use x=\"217.5625\" xlink:href=\"#DejaVuSans-100\"/>\n       <use x=\"281.039062\" xlink:href=\"#DejaVuSans-101\"/>\n       <use x=\"342.5625\" xlink:href=\"#DejaVuSans-114\"/>\n       <use x=\"383.675781\" xlink:href=\"#DejaVuSans-32\"/>\n       <use x=\"415.462891\" xlink:href=\"#DejaVuSans-87\"/>\n       <use x=\"508.464844\" xlink:href=\"#DejaVuSans-111\"/>\n       <use x=\"569.646484\" xlink:href=\"#DejaVuSans-109\"/>\n       <use x=\"667.058594\" xlink:href=\"#DejaVuSans-97\"/>\n       <use x=\"728.337891\" xlink:href=\"#DejaVuSans-110\"/>\n      </g>\n     </g>\n    </g>\n    <g id=\"ytick_9\">\n     <g id=\"line2d_16\">\n      <g>\n       <use style=\"stroke:#000000;stroke-width:0.8;\" x=\"270.034375\" xlink:href=\"#m92cfa79057\" y=\"380.312628\"/>\n      </g>\n     </g>\n     <g id=\"text_18\">\n      <!-- Coco -->\n      <g transform=\"translate(238.315625 384.111847)scale(0.1 -0.1)\">\n       <defs>\n        <path d=\"M 64.40625 67.28125 \nL 64.40625 56.890625 \nQ 59.421875 61.53125 53.78125 63.8125 \nQ 48.140625 66.109375 41.796875 66.109375 \nQ 29.296875 66.109375 22.65625 58.46875 \nQ 16.015625 50.828125 16.015625 36.375 \nQ 16.015625 21.96875 22.65625 14.328125 \nQ 29.296875 6.6875 41.796875 6.6875 \nQ 48.140625 6.6875 53.78125 8.984375 \nQ 59.421875 11.28125 64.40625 15.921875 \nL 64.40625 5.609375 \nQ 59.234375 2.09375 53.4375 0.328125 \nQ 47.65625 -1.421875 41.21875 -1.421875 \nQ 24.65625 -1.421875 15.125 8.703125 \nQ 5.609375 18.84375 5.609375 36.375 \nQ 5.609375 53.953125 15.125 64.078125 \nQ 24.65625 74.21875 41.21875 74.21875 \nQ 47.75 74.21875 53.53125 72.484375 \nQ 59.328125 70.75 64.40625 67.28125 \nz\n\" id=\"DejaVuSans-67\"/>\n       </defs>\n       <use xlink:href=\"#DejaVuSans-67\"/>\n       <use x=\"69.824219\" xlink:href=\"#DejaVuSans-111\"/>\n       <use x=\"131.005859\" xlink:href=\"#DejaVuSans-99\"/>\n       <use x=\"185.986328\" xlink:href=\"#DejaVuSans-111\"/>\n      </g>\n     </g>\n    </g>\n    <g id=\"ytick_10\">\n     <g id=\"line2d_17\">\n      <g>\n       <use style=\"stroke:#000000;stroke-width:0.8;\" x=\"270.034375\" xlink:href=\"#m92cfa79057\" y=\"361.158294\"/>\n      </g>\n     </g>\n     <g id=\"text_19\">\n      <!-- Pirates of the Caribbean: Dead Men Tell No Tales -->\n      <g transform=\"translate(20.878125 364.957513)scale(0.1 -0.1)\">\n       <defs>\n        <path d=\"M 19.671875 64.796875 \nL 19.671875 37.40625 \nL 32.078125 37.40625 \nQ 38.96875 37.40625 42.71875 40.96875 \nQ 46.484375 44.53125 46.484375 51.125 \nQ 46.484375 57.671875 42.71875 61.234375 \nQ 38.96875 64.796875 32.078125 64.796875 \nz\nM 9.8125 72.90625 \nL 32.078125 72.90625 \nQ 44.34375 72.90625 50.609375 67.359375 \nQ 56.890625 61.8125 56.890625 51.125 \nQ 56.890625 40.328125 50.609375 34.8125 \nQ 44.34375 29.296875 32.078125 29.296875 \nL 19.671875 29.296875 \nL 19.671875 0 \nL 9.8125 0 \nz\n\" id=\"DejaVuSans-80\"/>\n        <path d=\"M 9.8125 72.90625 \nL 23.09375 72.90625 \nL 55.421875 11.921875 \nL 55.421875 72.90625 \nL 64.984375 72.90625 \nL 64.984375 0 \nL 51.703125 0 \nL 19.390625 60.984375 \nL 19.390625 0 \nL 9.8125 0 \nz\n\" id=\"DejaVuSans-78\"/>\n       </defs>\n       <use xlink:href=\"#DejaVuSans-80\"/>\n       <use x=\"58.052734\" xlink:href=\"#DejaVuSans-105\"/>\n       <use x=\"85.835938\" xlink:href=\"#DejaVuSans-114\"/>\n       <use x=\"126.949219\" xlink:href=\"#DejaVuSans-97\"/>\n       <use x=\"188.228516\" xlink:href=\"#DejaVuSans-116\"/>\n       <use x=\"227.4375\" xlink:href=\"#DejaVuSans-101\"/>\n       <use x=\"288.960938\" xlink:href=\"#DejaVuSans-115\"/>\n       <use x=\"341.060547\" xlink:href=\"#DejaVuSans-32\"/>\n       <use x=\"372.847656\" xlink:href=\"#DejaVuSans-111\"/>\n       <use x=\"434.029297\" xlink:href=\"#DejaVuSans-102\"/>\n       <use x=\"469.234375\" xlink:href=\"#DejaVuSans-32\"/>\n       <use x=\"501.021484\" xlink:href=\"#DejaVuSans-116\"/>\n       <use x=\"540.230469\" xlink:href=\"#DejaVuSans-104\"/>\n       <use x=\"603.609375\" xlink:href=\"#DejaVuSans-101\"/>\n       <use x=\"665.132812\" xlink:href=\"#DejaVuSans-32\"/>\n       <use x=\"696.919922\" xlink:href=\"#DejaVuSans-67\"/>\n       <use x=\"766.744141\" xlink:href=\"#DejaVuSans-97\"/>\n       <use x=\"828.023438\" xlink:href=\"#DejaVuSans-114\"/>\n       <use x=\"869.136719\" xlink:href=\"#DejaVuSans-105\"/>\n       <use x=\"896.919922\" xlink:href=\"#DejaVuSans-98\"/>\n       <use x=\"960.396484\" xlink:href=\"#DejaVuSans-98\"/>\n       <use x=\"1023.873047\" xlink:href=\"#DejaVuSans-101\"/>\n       <use x=\"1085.396484\" xlink:href=\"#DejaVuSans-97\"/>\n       <use x=\"1146.675781\" xlink:href=\"#DejaVuSans-110\"/>\n       <use x=\"1210.054688\" xlink:href=\"#DejaVuSans-58\"/>\n       <use x=\"1243.746094\" xlink:href=\"#DejaVuSans-32\"/>\n       <use x=\"1275.533203\" xlink:href=\"#DejaVuSans-68\"/>\n       <use x=\"1352.535156\" xlink:href=\"#DejaVuSans-101\"/>\n       <use x=\"1414.058594\" xlink:href=\"#DejaVuSans-97\"/>\n       <use x=\"1475.337891\" xlink:href=\"#DejaVuSans-100\"/>\n       <use x=\"1538.814453\" xlink:href=\"#DejaVuSans-32\"/>\n       <use x=\"1570.601562\" xlink:href=\"#DejaVuSans-77\"/>\n       <use x=\"1656.880859\" xlink:href=\"#DejaVuSans-101\"/>\n       <use x=\"1718.404297\" xlink:href=\"#DejaVuSans-110\"/>\n       <use x=\"1781.783203\" xlink:href=\"#DejaVuSans-32\"/>\n       <use x=\"1813.570312\" xlink:href=\"#DejaVuSans-84\"/>\n       <use x=\"1857.654297\" xlink:href=\"#DejaVuSans-101\"/>\n       <use x=\"1919.177734\" xlink:href=\"#DejaVuSans-108\"/>\n       <use x=\"1946.960938\" xlink:href=\"#DejaVuSans-108\"/>\n       <use x=\"1974.744141\" xlink:href=\"#DejaVuSans-32\"/>\n       <use x=\"2006.53125\" xlink:href=\"#DejaVuSans-78\"/>\n       <use x=\"2081.335938\" xlink:href=\"#DejaVuSans-111\"/>\n       <use x=\"2142.517578\" xlink:href=\"#DejaVuSans-32\"/>\n       <use x=\"2174.304688\" xlink:href=\"#DejaVuSans-84\"/>\n       <use x=\"2218.888672\" xlink:href=\"#DejaVuSans-97\"/>\n       <use x=\"2280.167969\" xlink:href=\"#DejaVuSans-108\"/>\n       <use x=\"2307.951172\" xlink:href=\"#DejaVuSans-101\"/>\n       <use x=\"2369.474609\" xlink:href=\"#DejaVuSans-115\"/>\n      </g>\n     </g>\n    </g>\n    <g id=\"ytick_11\">\n     <g id=\"line2d_18\">\n      <g>\n       <use style=\"stroke:#000000;stroke-width:0.8;\" x=\"270.034375\" xlink:href=\"#m92cfa79057\" y=\"342.00396\"/>\n      </g>\n     </g>\n     <g id=\"text_20\">\n      <!-- It -->\n      <g transform=\"translate(256.164062 345.803179)scale(0.1 -0.1)\">\n       <defs>\n        <path d=\"M 9.8125 72.90625 \nL 19.671875 72.90625 \nL 19.671875 0 \nL 9.8125 0 \nz\n\" id=\"DejaVuSans-73\"/>\n       </defs>\n       <use xlink:href=\"#DejaVuSans-73\"/>\n       <use x=\"29.492188\" xlink:href=\"#DejaVuSans-116\"/>\n      </g>\n     </g>\n    </g>\n    <g id=\"ytick_12\">\n     <g id=\"line2d_19\">\n      <g>\n       <use style=\"stroke:#000000;stroke-width:0.8;\" x=\"270.034375\" xlink:href=\"#m92cfa79057\" y=\"322.849626\"/>\n      </g>\n     </g>\n     <g id=\"text_21\">\n      <!-- Justice League -->\n      <g transform=\"translate(190.492187 326.648845)scale(0.1 -0.1)\">\n       <use xlink:href=\"#DejaVuSans-74\"/>\n       <use x=\"29.492188\" xlink:href=\"#DejaVuSans-117\"/>\n       <use x=\"92.871094\" xlink:href=\"#DejaVuSans-115\"/>\n       <use x=\"144.970703\" xlink:href=\"#DejaVuSans-116\"/>\n       <use x=\"184.179688\" xlink:href=\"#DejaVuSans-105\"/>\n       <use x=\"211.962891\" xlink:href=\"#DejaVuSans-99\"/>\n       <use x=\"266.943359\" xlink:href=\"#DejaVuSans-101\"/>\n       <use x=\"328.466797\" xlink:href=\"#DejaVuSans-32\"/>\n       <use x=\"360.253906\" xlink:href=\"#DejaVuSans-76\"/>\n       <use x=\"414.216797\" xlink:href=\"#DejaVuSans-101\"/>\n       <use x=\"475.740234\" xlink:href=\"#DejaVuSans-97\"/>\n       <use x=\"537.019531\" xlink:href=\"#DejaVuSans-103\"/>\n       <use x=\"600.496094\" xlink:href=\"#DejaVuSans-117\"/>\n       <use x=\"663.875\" xlink:href=\"#DejaVuSans-101\"/>\n      </g>\n     </g>\n    </g>\n    <g id=\"ytick_13\">\n     <g id=\"line2d_20\">\n      <g>\n       <use style=\"stroke:#000000;stroke-width:0.8;\" x=\"270.034375\" xlink:href=\"#m92cfa79057\" y=\"303.695292\"/>\n      </g>\n     </g>\n     <g id=\"text_22\">\n      <!-- Transformers: The Last Knight -->\n      <g transform=\"translate(113.215625 307.494511)scale(0.1 -0.1)\">\n       <defs>\n        <path d=\"M 9.8125 72.90625 \nL 19.671875 72.90625 \nL 19.671875 42.09375 \nL 52.390625 72.90625 \nL 65.09375 72.90625 \nL 28.90625 38.921875 \nL 67.671875 0 \nL 54.6875 0 \nL 19.671875 35.109375 \nL 19.671875 0 \nL 9.8125 0 \nz\n\" id=\"DejaVuSans-75\"/>\n       </defs>\n       <use xlink:href=\"#DejaVuSans-84\"/>\n       <use x=\"46.333984\" xlink:href=\"#DejaVuSans-114\"/>\n       <use x=\"87.447266\" xlink:href=\"#DejaVuSans-97\"/>\n       <use x=\"148.726562\" xlink:href=\"#DejaVuSans-110\"/>\n       <use x=\"212.105469\" xlink:href=\"#DejaVuSans-115\"/>\n       <use x=\"264.205078\" xlink:href=\"#DejaVuSans-102\"/>\n       <use x=\"299.410156\" xlink:href=\"#DejaVuSans-111\"/>\n       <use x=\"360.591797\" xlink:href=\"#DejaVuSans-114\"/>\n       <use x=\"399.955078\" xlink:href=\"#DejaVuSans-109\"/>\n       <use x=\"497.367188\" xlink:href=\"#DejaVuSans-101\"/>\n       <use x=\"558.890625\" xlink:href=\"#DejaVuSans-114\"/>\n       <use x=\"600.003906\" xlink:href=\"#DejaVuSans-115\"/>\n       <use x=\"652.103516\" xlink:href=\"#DejaVuSans-58\"/>\n       <use x=\"685.794922\" xlink:href=\"#DejaVuSans-32\"/>\n       <use x=\"717.582031\" xlink:href=\"#DejaVuSans-84\"/>\n       <use x=\"778.666016\" xlink:href=\"#DejaVuSans-104\"/>\n       <use x=\"842.044922\" xlink:href=\"#DejaVuSans-101\"/>\n       <use x=\"903.568359\" xlink:href=\"#DejaVuSans-32\"/>\n       <use x=\"935.355469\" xlink:href=\"#DejaVuSans-76\"/>\n       <use x=\"991.068359\" xlink:href=\"#DejaVuSans-97\"/>\n       <use x=\"1052.347656\" xlink:href=\"#DejaVuSans-115\"/>\n       <use x=\"1104.447266\" xlink:href=\"#DejaVuSans-116\"/>\n       <use x=\"1143.65625\" xlink:href=\"#DejaVuSans-32\"/>\n       <use x=\"1175.443359\" xlink:href=\"#DejaVuSans-75\"/>\n       <use x=\"1241.019531\" xlink:href=\"#DejaVuSans-110\"/>\n       <use x=\"1304.398438\" xlink:href=\"#DejaVuSans-105\"/>\n       <use x=\"1332.181641\" xlink:href=\"#DejaVuSans-103\"/>\n       <use x=\"1395.658203\" xlink:href=\"#DejaVuSans-104\"/>\n       <use x=\"1459.037109\" xlink:href=\"#DejaVuSans-116\"/>\n      </g>\n     </g>\n    </g>\n    <g id=\"ytick_14\">\n     <g id=\"line2d_21\">\n      <g>\n       <use style=\"stroke:#000000;stroke-width:0.8;\" x=\"270.034375\" xlink:href=\"#m92cfa79057\" y=\"284.540958\"/>\n      </g>\n     </g>\n     <g id=\"text_23\">\n      <!-- Kong: Skull Island -->\n      <g transform=\"translate(174.975 288.340177)scale(0.1 -0.1)\">\n       <use xlink:href=\"#DejaVuSans-75\"/>\n       <use x=\"60.576172\" xlink:href=\"#DejaVuSans-111\"/>\n       <use x=\"121.757812\" xlink:href=\"#DejaVuSans-110\"/>\n       <use x=\"185.136719\" xlink:href=\"#DejaVuSans-103\"/>\n       <use x=\"248.613281\" xlink:href=\"#DejaVuSans-58\"/>\n       <use x=\"282.304688\" xlink:href=\"#DejaVuSans-32\"/>\n       <use x=\"314.091797\" xlink:href=\"#DejaVuSans-83\"/>\n       <use x=\"377.568359\" xlink:href=\"#DejaVuSans-107\"/>\n       <use x=\"432.353516\" xlink:href=\"#DejaVuSans-117\"/>\n       <use x=\"495.732422\" xlink:href=\"#DejaVuSans-108\"/>\n       <use x=\"523.515625\" xlink:href=\"#DejaVuSans-108\"/>\n       <use x=\"551.298828\" xlink:href=\"#DejaVuSans-32\"/>\n       <use x=\"583.085938\" xlink:href=\"#DejaVuSans-73\"/>\n       <use x=\"612.578125\" xlink:href=\"#DejaVuSans-115\"/>\n       <use x=\"664.677734\" xlink:href=\"#DejaVuSans-108\"/>\n       <use x=\"692.460938\" xlink:href=\"#DejaVuSans-97\"/>\n       <use x=\"753.740234\" xlink:href=\"#DejaVuSans-110\"/>\n       <use x=\"817.119141\" xlink:href=\"#DejaVuSans-100\"/>\n      </g>\n     </g>\n    </g>\n    <g id=\"ytick_15\">\n     <g id=\"line2d_22\">\n      <g>\n       <use style=\"stroke:#000000;stroke-width:0.8;\" x=\"270.034375\" xlink:href=\"#m92cfa79057\" y=\"265.386624\"/>\n      </g>\n     </g>\n     <g id=\"text_24\">\n      <!-- The Boss Baby -->\n      <g transform=\"translate(189.425 269.185843)scale(0.1 -0.1)\">\n       <defs>\n        <path d=\"M 19.671875 34.8125 \nL 19.671875 8.109375 \nL 35.5 8.109375 \nQ 43.453125 8.109375 47.28125 11.40625 \nQ 51.125 14.703125 51.125 21.484375 \nQ 51.125 28.328125 47.28125 31.5625 \nQ 43.453125 34.8125 35.5 34.8125 \nz\nM 19.671875 64.796875 \nL 19.671875 42.828125 \nL 34.28125 42.828125 \nQ 41.5 42.828125 45.03125 45.53125 \nQ 48.578125 48.25 48.578125 53.8125 \nQ 48.578125 59.328125 45.03125 62.0625 \nQ 41.5 64.796875 34.28125 64.796875 \nz\nM 9.8125 72.90625 \nL 35.015625 72.90625 \nQ 46.296875 72.90625 52.390625 68.21875 \nQ 58.5 63.53125 58.5 54.890625 \nQ 58.5 48.1875 55.375 44.234375 \nQ 52.25 40.28125 46.1875 39.3125 \nQ 53.46875 37.75 57.5 32.78125 \nQ 61.53125 27.828125 61.53125 20.40625 \nQ 61.53125 10.640625 54.890625 5.3125 \nQ 48.25 0 35.984375 0 \nL 9.8125 0 \nz\n\" id=\"DejaVuSans-66\"/>\n       </defs>\n       <use xlink:href=\"#DejaVuSans-84\"/>\n       <use x=\"61.083984\" xlink:href=\"#DejaVuSans-104\"/>\n       <use x=\"124.462891\" xlink:href=\"#DejaVuSans-101\"/>\n       <use x=\"185.986328\" xlink:href=\"#DejaVuSans-32\"/>\n       <use x=\"217.773438\" xlink:href=\"#DejaVuSans-66\"/>\n       <use x=\"286.376953\" xlink:href=\"#DejaVuSans-111\"/>\n       <use x=\"347.558594\" xlink:href=\"#DejaVuSans-115\"/>\n       <use x=\"399.658203\" xlink:href=\"#DejaVuSans-115\"/>\n       <use x=\"451.757812\" xlink:href=\"#DejaVuSans-32\"/>\n       <use x=\"483.544922\" xlink:href=\"#DejaVuSans-66\"/>\n       <use x=\"552.148438\" xlink:href=\"#DejaVuSans-97\"/>\n       <use x=\"613.427734\" xlink:href=\"#DejaVuSans-98\"/>\n       <use x=\"676.904297\" xlink:href=\"#DejaVuSans-121\"/>\n      </g>\n     </g>\n    </g>\n    <g id=\"ytick_16\">\n     <g id=\"line2d_23\">\n      <g>\n       <use style=\"stroke:#000000;stroke-width:0.8;\" x=\"270.034375\" xlink:href=\"#m92cfa79057\" y=\"246.23229\"/>\n      </g>\n     </g>\n     <g id=\"text_25\">\n      <!-- Dunkirk -->\n      <g transform=\"translate(224.189062 250.031509)scale(0.1 -0.1)\">\n       <use xlink:href=\"#DejaVuSans-68\"/>\n       <use x=\"77.001953\" xlink:href=\"#DejaVuSans-117\"/>\n       <use x=\"140.380859\" xlink:href=\"#DejaVuSans-110\"/>\n       <use x=\"203.759766\" xlink:href=\"#DejaVuSans-107\"/>\n       <use x=\"261.669922\" xlink:href=\"#DejaVuSans-105\"/>\n       <use x=\"289.453125\" xlink:href=\"#DejaVuSans-114\"/>\n       <use x=\"330.566406\" xlink:href=\"#DejaVuSans-107\"/>\n      </g>\n     </g>\n    </g>\n    <g id=\"ytick_17\">\n     <g id=\"line2d_24\">\n      <g>\n       <use style=\"stroke:#000000;stroke-width:0.8;\" x=\"270.034375\" xlink:href=\"#m92cfa79057\" y=\"227.077956\"/>\n      </g>\n     </g>\n     <g id=\"text_26\">\n      <!-- War for the Planet of the Apes -->\n      <g transform=\"translate(112.367187 230.877175)scale(0.1 -0.1)\">\n       <defs>\n        <path d=\"M 34.1875 63.1875 \nL 20.796875 26.90625 \nL 47.609375 26.90625 \nz\nM 28.609375 72.90625 \nL 39.796875 72.90625 \nL 67.578125 0 \nL 57.328125 0 \nL 50.6875 18.703125 \nL 17.828125 18.703125 \nL 11.1875 0 \nL 0.78125 0 \nz\n\" id=\"DejaVuSans-65\"/>\n       </defs>\n       <use xlink:href=\"#DejaVuSans-87\"/>\n       <use x=\"92.501953\" xlink:href=\"#DejaVuSans-97\"/>\n       <use x=\"153.78125\" xlink:href=\"#DejaVuSans-114\"/>\n       <use x=\"194.894531\" xlink:href=\"#DejaVuSans-32\"/>\n       <use x=\"226.681641\" xlink:href=\"#DejaVuSans-102\"/>\n       <use x=\"261.886719\" xlink:href=\"#DejaVuSans-111\"/>\n       <use x=\"323.068359\" xlink:href=\"#DejaVuSans-114\"/>\n       <use x=\"364.181641\" xlink:href=\"#DejaVuSans-32\"/>\n       <use x=\"395.96875\" xlink:href=\"#DejaVuSans-116\"/>\n       <use x=\"435.177734\" xlink:href=\"#DejaVuSans-104\"/>\n       <use x=\"498.556641\" xlink:href=\"#DejaVuSans-101\"/>\n       <use x=\"560.080078\" xlink:href=\"#DejaVuSans-32\"/>\n       <use x=\"591.867188\" xlink:href=\"#DejaVuSans-80\"/>\n       <use x=\"652.169922\" xlink:href=\"#DejaVuSans-108\"/>\n       <use x=\"679.953125\" xlink:href=\"#DejaVuSans-97\"/>\n       <use x=\"741.232422\" xlink:href=\"#DejaVuSans-110\"/>\n       <use x=\"804.611328\" xlink:href=\"#DejaVuSans-101\"/>\n       <use x=\"866.134766\" xlink:href=\"#DejaVuSans-116\"/>\n       <use x=\"905.34375\" xlink:href=\"#DejaVuSans-32\"/>\n       <use x=\"937.130859\" xlink:href=\"#DejaVuSans-111\"/>\n       <use x=\"998.3125\" xlink:href=\"#DejaVuSans-102\"/>\n       <use x=\"1033.517578\" xlink:href=\"#DejaVuSans-32\"/>\n       <use x=\"1065.304688\" xlink:href=\"#DejaVuSans-116\"/>\n       <use x=\"1104.513672\" xlink:href=\"#DejaVuSans-104\"/>\n       <use x=\"1167.892578\" xlink:href=\"#DejaVuSans-101\"/>\n       <use x=\"1229.416016\" xlink:href=\"#DejaVuSans-32\"/>\n       <use x=\"1261.203125\" xlink:href=\"#DejaVuSans-65\"/>\n       <use x=\"1329.611328\" xlink:href=\"#DejaVuSans-112\"/>\n       <use x=\"1393.087891\" xlink:href=\"#DejaVuSans-101\"/>\n       <use x=\"1454.611328\" xlink:href=\"#DejaVuSans-115\"/>\n      </g>\n     </g>\n    </g>\n    <g id=\"ytick_18\">\n     <g id=\"line2d_25\">\n      <g>\n       <use style=\"stroke:#000000;stroke-width:0.8;\" x=\"270.034375\" xlink:href=\"#m92cfa79057\" y=\"207.923622\"/>\n      </g>\n     </g>\n     <g id=\"text_27\">\n      <!-- The Greatest Showman -->\n      <g transform=\"translate(145.771875 211.722841)scale(0.1 -0.1)\">\n       <defs>\n        <path d=\"M 4.203125 54.6875 \nL 13.1875 54.6875 \nL 24.421875 12.015625 \nL 35.59375 54.6875 \nL 46.1875 54.6875 \nL 57.421875 12.015625 \nL 68.609375 54.6875 \nL 77.59375 54.6875 \nL 63.28125 0 \nL 52.6875 0 \nL 40.921875 44.828125 \nL 29.109375 0 \nL 18.5 0 \nz\n\" id=\"DejaVuSans-119\"/>\n       </defs>\n       <use xlink:href=\"#DejaVuSans-84\"/>\n       <use x=\"61.083984\" xlink:href=\"#DejaVuSans-104\"/>\n       <use x=\"124.462891\" xlink:href=\"#DejaVuSans-101\"/>\n       <use x=\"185.986328\" xlink:href=\"#DejaVuSans-32\"/>\n       <use x=\"217.773438\" xlink:href=\"#DejaVuSans-71\"/>\n       <use x=\"295.263672\" xlink:href=\"#DejaVuSans-114\"/>\n       <use x=\"334.126953\" xlink:href=\"#DejaVuSans-101\"/>\n       <use x=\"395.650391\" xlink:href=\"#DejaVuSans-97\"/>\n       <use x=\"456.929688\" xlink:href=\"#DejaVuSans-116\"/>\n       <use x=\"496.138672\" xlink:href=\"#DejaVuSans-101\"/>\n       <use x=\"557.662109\" xlink:href=\"#DejaVuSans-115\"/>\n       <use x=\"609.761719\" xlink:href=\"#DejaVuSans-116\"/>\n       <use x=\"648.970703\" xlink:href=\"#DejaVuSans-32\"/>\n       <use x=\"680.757812\" xlink:href=\"#DejaVuSans-83\"/>\n       <use x=\"744.234375\" xlink:href=\"#DejaVuSans-104\"/>\n       <use x=\"807.613281\" xlink:href=\"#DejaVuSans-111\"/>\n       <use x=\"868.794922\" xlink:href=\"#DejaVuSans-119\"/>\n       <use x=\"950.582031\" xlink:href=\"#DejaVuSans-109\"/>\n       <use x=\"1047.994141\" xlink:href=\"#DejaVuSans-97\"/>\n       <use x=\"1109.273438\" xlink:href=\"#DejaVuSans-110\"/>\n      </g>\n     </g>\n    </g>\n    <g id=\"ytick_19\">\n     <g id=\"line2d_26\">\n      <g>\n       <use style=\"stroke:#000000;stroke-width:0.8;\" x=\"270.034375\" xlink:href=\"#m92cfa79057\" y=\"188.769288\"/>\n      </g>\n     </g>\n     <g id=\"text_28\">\n      <!-- Kingsman: The Golden Circle -->\n      <g transform=\"translate(118.534375 192.568507)scale(0.1 -0.1)\">\n       <use xlink:href=\"#DejaVuSans-75\"/>\n       <use x=\"65.576172\" xlink:href=\"#DejaVuSans-105\"/>\n       <use x=\"93.359375\" xlink:href=\"#DejaVuSans-110\"/>\n       <use x=\"156.738281\" xlink:href=\"#DejaVuSans-103\"/>\n       <use x=\"220.214844\" xlink:href=\"#DejaVuSans-115\"/>\n       <use x=\"272.314453\" xlink:href=\"#DejaVuSans-109\"/>\n       <use x=\"369.726562\" xlink:href=\"#DejaVuSans-97\"/>\n       <use x=\"431.005859\" xlink:href=\"#DejaVuSans-110\"/>\n       <use x=\"494.384766\" xlink:href=\"#DejaVuSans-58\"/>\n       <use x=\"528.076172\" xlink:href=\"#DejaVuSans-32\"/>\n       <use x=\"559.863281\" xlink:href=\"#DejaVuSans-84\"/>\n       <use x=\"620.947266\" xlink:href=\"#DejaVuSans-104\"/>\n       <use x=\"684.326172\" xlink:href=\"#DejaVuSans-101\"/>\n       <use x=\"745.849609\" xlink:href=\"#DejaVuSans-32\"/>\n       <use x=\"777.636719\" xlink:href=\"#DejaVuSans-71\"/>\n       <use x=\"855.126953\" xlink:href=\"#DejaVuSans-111\"/>\n       <use x=\"916.308594\" xlink:href=\"#DejaVuSans-108\"/>\n       <use x=\"944.091797\" xlink:href=\"#DejaVuSans-100\"/>\n       <use x=\"1007.568359\" xlink:href=\"#DejaVuSans-101\"/>\n       <use x=\"1069.091797\" xlink:href=\"#DejaVuSans-110\"/>\n       <use x=\"1132.470703\" xlink:href=\"#DejaVuSans-32\"/>\n       <use x=\"1164.257812\" xlink:href=\"#DejaVuSans-67\"/>\n       <use x=\"1234.082031\" xlink:href=\"#DejaVuSans-105\"/>\n       <use x=\"1261.865234\" xlink:href=\"#DejaVuSans-114\"/>\n       <use x=\"1300.728516\" xlink:href=\"#DejaVuSans-99\"/>\n       <use x=\"1355.708984\" xlink:href=\"#DejaVuSans-108\"/>\n       <use x=\"1383.492188\" xlink:href=\"#DejaVuSans-101\"/>\n      </g>\n     </g>\n    </g>\n    <g id=\"ytick_20\">\n     <g id=\"line2d_27\">\n      <g>\n       <use style=\"stroke:#000000;stroke-width:0.8;\" x=\"270.034375\" xlink:href=\"#m92cfa79057\" y=\"169.614954\"/>\n      </g>\n     </g>\n     <g id=\"text_29\">\n      <!-- Cars 3 -->\n      <g transform=\"translate(231.0625 173.414173)scale(0.1 -0.1)\">\n       <use xlink:href=\"#DejaVuSans-67\"/>\n       <use x=\"69.824219\" xlink:href=\"#DejaVuSans-97\"/>\n       <use x=\"131.103516\" xlink:href=\"#DejaVuSans-114\"/>\n       <use x=\"172.216797\" xlink:href=\"#DejaVuSans-115\"/>\n       <use x=\"224.316406\" xlink:href=\"#DejaVuSans-32\"/>\n       <use x=\"256.103516\" xlink:href=\"#DejaVuSans-51\"/>\n      </g>\n     </g>\n    </g>\n    <g id=\"ytick_21\">\n     <g id=\"line2d_28\">\n      <g>\n       <use style=\"stroke:#000000;stroke-width:0.8;\" x=\"270.034375\" xlink:href=\"#m92cfa79057\" y=\"150.46062\"/>\n      </g>\n     </g>\n     <g id=\"text_30\">\n      <!-- Fifty Shades Darker -->\n      <g transform=\"translate(165.532812 154.259838)scale(0.1 -0.1)\">\n       <defs>\n        <path d=\"M 9.8125 72.90625 \nL 51.703125 72.90625 \nL 51.703125 64.59375 \nL 19.671875 64.59375 \nL 19.671875 43.109375 \nL 48.578125 43.109375 \nL 48.578125 34.8125 \nL 19.671875 34.8125 \nL 19.671875 0 \nL 9.8125 0 \nz\n\" id=\"DejaVuSans-70\"/>\n       </defs>\n       <use xlink:href=\"#DejaVuSans-70\"/>\n       <use x=\"50.269531\" xlink:href=\"#DejaVuSans-105\"/>\n       <use x=\"78.052734\" xlink:href=\"#DejaVuSans-102\"/>\n       <use x=\"111.507812\" xlink:href=\"#DejaVuSans-116\"/>\n       <use x=\"150.716797\" xlink:href=\"#DejaVuSans-121\"/>\n       <use x=\"209.896484\" xlink:href=\"#DejaVuSans-32\"/>\n       <use x=\"241.683594\" xlink:href=\"#DejaVuSans-83\"/>\n       <use x=\"305.160156\" xlink:href=\"#DejaVuSans-104\"/>\n       <use x=\"368.539062\" xlink:href=\"#DejaVuSans-97\"/>\n       <use x=\"429.818359\" xlink:href=\"#DejaVuSans-100\"/>\n       <use x=\"493.294922\" xlink:href=\"#DejaVuSans-101\"/>\n       <use x=\"554.818359\" xlink:href=\"#DejaVuSans-115\"/>\n       <use x=\"606.917969\" xlink:href=\"#DejaVuSans-32\"/>\n       <use x=\"638.705078\" xlink:href=\"#DejaVuSans-68\"/>\n       <use x=\"715.707031\" xlink:href=\"#DejaVuSans-97\"/>\n       <use x=\"776.986328\" xlink:href=\"#DejaVuSans-114\"/>\n       <use x=\"818.099609\" xlink:href=\"#DejaVuSans-107\"/>\n       <use x=\"872.384766\" xlink:href=\"#DejaVuSans-101\"/>\n       <use x=\"933.908203\" xlink:href=\"#DejaVuSans-114\"/>\n      </g>\n     </g>\n    </g>\n    <g id=\"ytick_22\">\n     <g id=\"line2d_29\">\n      <g>\n       <use style=\"stroke:#000000;stroke-width:0.8;\" x=\"270.034375\" xlink:href=\"#m92cfa79057\" y=\"131.306286\"/>\n      </g>\n     </g>\n     <g id=\"text_31\">\n      <!-- Your Name. -->\n      <g transform=\"translate(205.825 135.105504)scale(0.1 -0.1)\">\n       <defs>\n        <path d=\"M -0.203125 72.90625 \nL 10.40625 72.90625 \nL 30.609375 42.921875 \nL 50.6875 72.90625 \nL 61.28125 72.90625 \nL 35.5 34.71875 \nL 35.5 0 \nL 25.59375 0 \nL 25.59375 34.71875 \nz\n\" id=\"DejaVuSans-89\"/>\n       </defs>\n       <use xlink:href=\"#DejaVuSans-89\"/>\n       <use x=\"47.833984\" xlink:href=\"#DejaVuSans-111\"/>\n       <use x=\"109.015625\" xlink:href=\"#DejaVuSans-117\"/>\n       <use x=\"172.394531\" xlink:href=\"#DejaVuSans-114\"/>\n       <use x=\"213.507812\" xlink:href=\"#DejaVuSans-32\"/>\n       <use x=\"245.294922\" xlink:href=\"#DejaVuSans-78\"/>\n       <use x=\"320.099609\" xlink:href=\"#DejaVuSans-97\"/>\n       <use x=\"381.378906\" xlink:href=\"#DejaVuSans-109\"/>\n       <use x=\"478.791016\" xlink:href=\"#DejaVuSans-101\"/>\n       <use x=\"540.314453\" xlink:href=\"#DejaVuSans-46\"/>\n      </g>\n     </g>\n    </g>\n    <g id=\"ytick_23\">\n     <g id=\"line2d_30\">\n      <g>\n       <use style=\"stroke:#000000;stroke-width:0.8;\" x=\"270.034375\" xlink:href=\"#m92cfa79057\" y=\"112.151952\"/>\n      </g>\n     </g>\n     <g id=\"text_32\">\n      <!-- The Great Wall -->\n      <g transform=\"translate(189.309375 115.95117)scale(0.1 -0.1)\">\n       <use xlink:href=\"#DejaVuSans-84\"/>\n       <use x=\"61.083984\" xlink:href=\"#DejaVuSans-104\"/>\n       <use x=\"124.462891\" xlink:href=\"#DejaVuSans-101\"/>\n       <use x=\"185.986328\" xlink:href=\"#DejaVuSans-32\"/>\n       <use x=\"217.773438\" xlink:href=\"#DejaVuSans-71\"/>\n       <use x=\"295.263672\" xlink:href=\"#DejaVuSans-114\"/>\n       <use x=\"334.126953\" xlink:href=\"#DejaVuSans-101\"/>\n       <use x=\"395.650391\" xlink:href=\"#DejaVuSans-97\"/>\n       <use x=\"456.929688\" xlink:href=\"#DejaVuSans-116\"/>\n       <use x=\"496.138672\" xlink:href=\"#DejaVuSans-32\"/>\n       <use x=\"527.925781\" xlink:href=\"#DejaVuSans-87\"/>\n       <use x=\"620.427734\" xlink:href=\"#DejaVuSans-97\"/>\n       <use x=\"681.707031\" xlink:href=\"#DejaVuSans-108\"/>\n       <use x=\"709.490234\" xlink:href=\"#DejaVuSans-108\"/>\n      </g>\n     </g>\n    </g>\n    <g id=\"ytick_24\">\n     <g id=\"line2d_31\">\n      <g>\n       <use style=\"stroke:#000000;stroke-width:0.8;\" x=\"270.034375\" xlink:href=\"#m92cfa79057\" y=\"92.997618\"/>\n      </g>\n     </g>\n     <g id=\"text_33\">\n      <!-- Resident Evil: The Final Chapter -->\n      <g transform=\"translate(104.132812 96.796836)scale(0.1 -0.1)\">\n       <defs>\n        <path d=\"M 9.8125 72.90625 \nL 55.90625 72.90625 \nL 55.90625 64.59375 \nL 19.671875 64.59375 \nL 19.671875 43.015625 \nL 54.390625 43.015625 \nL 54.390625 34.71875 \nL 19.671875 34.71875 \nL 19.671875 8.296875 \nL 56.78125 8.296875 \nL 56.78125 0 \nL 9.8125 0 \nz\n\" id=\"DejaVuSans-69\"/>\n        <path d=\"M 2.984375 54.6875 \nL 12.5 54.6875 \nL 29.59375 8.796875 \nL 46.6875 54.6875 \nL 56.203125 54.6875 \nL 35.6875 0 \nL 23.484375 0 \nz\n\" id=\"DejaVuSans-118\"/>\n       </defs>\n       <use xlink:href=\"#DejaVuSans-82\"/>\n       <use x=\"64.982422\" xlink:href=\"#DejaVuSans-101\"/>\n       <use x=\"126.505859\" xlink:href=\"#DejaVuSans-115\"/>\n       <use x=\"178.605469\" xlink:href=\"#DejaVuSans-105\"/>\n       <use x=\"206.388672\" xlink:href=\"#DejaVuSans-100\"/>\n       <use x=\"269.865234\" xlink:href=\"#DejaVuSans-101\"/>\n       <use x=\"331.388672\" xlink:href=\"#DejaVuSans-110\"/>\n       <use x=\"394.767578\" xlink:href=\"#DejaVuSans-116\"/>\n       <use x=\"433.976562\" xlink:href=\"#DejaVuSans-32\"/>\n       <use x=\"465.763672\" xlink:href=\"#DejaVuSans-69\"/>\n       <use x=\"528.947266\" xlink:href=\"#DejaVuSans-118\"/>\n       <use x=\"588.126953\" xlink:href=\"#DejaVuSans-105\"/>\n       <use x=\"615.910156\" xlink:href=\"#DejaVuSans-108\"/>\n       <use x=\"643.693359\" xlink:href=\"#DejaVuSans-58\"/>\n       <use x=\"677.384766\" xlink:href=\"#DejaVuSans-32\"/>\n       <use x=\"709.171875\" xlink:href=\"#DejaVuSans-84\"/>\n       <use x=\"770.255859\" xlink:href=\"#DejaVuSans-104\"/>\n       <use x=\"833.634766\" xlink:href=\"#DejaVuSans-101\"/>\n       <use x=\"895.158203\" xlink:href=\"#DejaVuSans-32\"/>\n       <use x=\"926.945312\" xlink:href=\"#DejaVuSans-70\"/>\n       <use x=\"977.214844\" xlink:href=\"#DejaVuSans-105\"/>\n       <use x=\"1004.998047\" xlink:href=\"#DejaVuSans-110\"/>\n       <use x=\"1068.376953\" xlink:href=\"#DejaVuSans-97\"/>\n       <use x=\"1129.65625\" xlink:href=\"#DejaVuSans-108\"/>\n       <use x=\"1157.439453\" xlink:href=\"#DejaVuSans-32\"/>\n       <use x=\"1189.226562\" xlink:href=\"#DejaVuSans-67\"/>\n       <use x=\"1259.050781\" xlink:href=\"#DejaVuSans-104\"/>\n       <use x=\"1322.429688\" xlink:href=\"#DejaVuSans-97\"/>\n       <use x=\"1383.708984\" xlink:href=\"#DejaVuSans-112\"/>\n       <use x=\"1447.185547\" xlink:href=\"#DejaVuSans-116\"/>\n       <use x=\"1486.394531\" xlink:href=\"#DejaVuSans-101\"/>\n       <use x=\"1547.917969\" xlink:href=\"#DejaVuSans-114\"/>\n      </g>\n     </g>\n    </g>\n    <g id=\"ytick_25\">\n     <g id=\"line2d_32\">\n      <g>\n       <use style=\"stroke:#000000;stroke-width:0.8;\" x=\"270.034375\" xlink:href=\"#m92cfa79057\" y=\"73.843284\"/>\n      </g>\n     </g>\n     <g id=\"text_34\">\n      <!-- Annabelle: Creation -->\n      <g transform=\"translate(164.328125 77.642502)scale(0.1 -0.1)\">\n       <use xlink:href=\"#DejaVuSans-65\"/>\n       <use x=\"68.408203\" xlink:href=\"#DejaVuSans-110\"/>\n       <use x=\"131.787109\" xlink:href=\"#DejaVuSans-110\"/>\n       <use x=\"195.166016\" xlink:href=\"#DejaVuSans-97\"/>\n       <use x=\"256.445312\" xlink:href=\"#DejaVuSans-98\"/>\n       <use x=\"319.921875\" xlink:href=\"#DejaVuSans-101\"/>\n       <use x=\"381.445312\" xlink:href=\"#DejaVuSans-108\"/>\n       <use x=\"409.228516\" xlink:href=\"#DejaVuSans-108\"/>\n       <use x=\"437.011719\" xlink:href=\"#DejaVuSans-101\"/>\n       <use x=\"498.535156\" xlink:href=\"#DejaVuSans-58\"/>\n       <use x=\"532.226562\" xlink:href=\"#DejaVuSans-32\"/>\n       <use x=\"564.013672\" xlink:href=\"#DejaVuSans-67\"/>\n       <use x=\"633.837891\" xlink:href=\"#DejaVuSans-114\"/>\n       <use x=\"672.701172\" xlink:href=\"#DejaVuSans-101\"/>\n       <use x=\"734.224609\" xlink:href=\"#DejaVuSans-97\"/>\n       <use x=\"795.503906\" xlink:href=\"#DejaVuSans-116\"/>\n       <use x=\"834.712891\" xlink:href=\"#DejaVuSans-105\"/>\n       <use x=\"862.496094\" xlink:href=\"#DejaVuSans-111\"/>\n       <use x=\"923.677734\" xlink:href=\"#DejaVuSans-110\"/>\n      </g>\n     </g>\n    </g>\n    <g id=\"ytick_26\">\n     <g id=\"line2d_33\">\n      <g>\n       <use style=\"stroke:#000000;stroke-width:0.8;\" x=\"270.034375\" xlink:href=\"#m92cfa79057\" y=\"54.68895\"/>\n      </g>\n     </g>\n     <g id=\"text_35\">\n      <!-- Wonder -->\n      <g transform=\"translate(224.665625 58.488168)scale(0.1 -0.1)\">\n       <use xlink:href=\"#DejaVuSans-87\"/>\n       <use x=\"93.001953\" xlink:href=\"#DejaVuSans-111\"/>\n       <use x=\"154.183594\" xlink:href=\"#DejaVuSans-110\"/>\n       <use x=\"217.5625\" xlink:href=\"#DejaVuSans-100\"/>\n       <use x=\"281.039062\" xlink:href=\"#DejaVuSans-101\"/>\n       <use x=\"342.5625\" xlink:href=\"#DejaVuSans-114\"/>\n      </g>\n     </g>\n    </g>\n    <g id=\"text_36\">\n     <!-- Movie Title -->\n     <g transform=\"translate(14.798437 321.218125)rotate(-90)scale(0.1 -0.1)\">\n      <use xlink:href=\"#DejaVuSans-77\"/>\n      <use x=\"86.279297\" xlink:href=\"#DejaVuSans-111\"/>\n      <use x=\"147.460938\" xlink:href=\"#DejaVuSans-118\"/>\n      <use x=\"206.640625\" xlink:href=\"#DejaVuSans-105\"/>\n      <use x=\"234.423828\" xlink:href=\"#DejaVuSans-101\"/>\n      <use x=\"295.947266\" xlink:href=\"#DejaVuSans-32\"/>\n      <use x=\"327.734375\" xlink:href=\"#DejaVuSans-84\"/>\n      <use x=\"385.693359\" xlink:href=\"#DejaVuSans-105\"/>\n      <use x=\"413.476562\" xlink:href=\"#DejaVuSans-116\"/>\n      <use x=\"452.685547\" xlink:href=\"#DejaVuSans-108\"/>\n      <use x=\"480.46875\" xlink:href=\"#DejaVuSans-101\"/>\n     </g>\n    </g>\n   </g>\n   <g id=\"patch_33\">\n    <path d=\"M 270.034375 565.918125 \nL 270.034375 22.318125 \n\" style=\"fill:none;stroke:#000000;stroke-linecap:square;stroke-linejoin:miter;stroke-width:0.8;\"/>\n   </g>\n   <g id=\"patch_34\">\n    <path d=\"M 828.034375 565.918125 \nL 828.034375 22.318125 \n\" style=\"fill:none;stroke:#000000;stroke-linecap:square;stroke-linejoin:miter;stroke-width:0.8;\"/>\n   </g>\n   <g id=\"patch_35\">\n    <path d=\"M 270.034375 565.918125 \nL 828.034375 565.918125 \n\" style=\"fill:none;stroke:#000000;stroke-linecap:square;stroke-linejoin:miter;stroke-width:0.8;\"/>\n   </g>\n   <g id=\"patch_36\">\n    <path d=\"M 270.034375 22.318125 \nL 828.034375 22.318125 \n\" style=\"fill:none;stroke:#000000;stroke-linecap:square;stroke-linejoin:miter;stroke-width:0.8;\"/>\n   </g>\n   <g id=\"text_37\">\n    <!-- Top 30 Movies of 2017 -->\n    <g transform=\"translate(481.709687 16.318125)scale(0.12 -0.12)\">\n     <defs>\n      <path d=\"M 8.203125 72.90625 \nL 55.078125 72.90625 \nL 55.078125 68.703125 \nL 28.609375 0 \nL 18.3125 0 \nL 43.21875 64.59375 \nL 8.203125 64.59375 \nz\n\" id=\"DejaVuSans-55\"/>\n     </defs>\n     <use xlink:href=\"#DejaVuSans-84\"/>\n     <use x=\"44.083984\" xlink:href=\"#DejaVuSans-111\"/>\n     <use x=\"105.265625\" xlink:href=\"#DejaVuSans-112\"/>\n     <use x=\"168.742188\" xlink:href=\"#DejaVuSans-32\"/>\n     <use x=\"200.529297\" xlink:href=\"#DejaVuSans-51\"/>\n     <use x=\"264.152344\" xlink:href=\"#DejaVuSans-48\"/>\n     <use x=\"327.775391\" xlink:href=\"#DejaVuSans-32\"/>\n     <use x=\"359.5625\" xlink:href=\"#DejaVuSans-77\"/>\n     <use x=\"445.841797\" xlink:href=\"#DejaVuSans-111\"/>\n     <use x=\"507.023438\" xlink:href=\"#DejaVuSans-118\"/>\n     <use x=\"566.203125\" xlink:href=\"#DejaVuSans-105\"/>\n     <use x=\"593.986328\" xlink:href=\"#DejaVuSans-101\"/>\n     <use x=\"655.509766\" xlink:href=\"#DejaVuSans-115\"/>\n     <use x=\"707.609375\" xlink:href=\"#DejaVuSans-32\"/>\n     <use x=\"739.396484\" xlink:href=\"#DejaVuSans-111\"/>\n     <use x=\"800.578125\" xlink:href=\"#DejaVuSans-102\"/>\n     <use x=\"835.783203\" xlink:href=\"#DejaVuSans-32\"/>\n     <use x=\"867.570312\" xlink:href=\"#DejaVuSans-50\"/>\n     <use x=\"931.193359\" xlink:href=\"#DejaVuSans-48\"/>\n     <use x=\"994.816406\" xlink:href=\"#DejaVuSans-49\"/>\n     <use x=\"1058.439453\" xlink:href=\"#DejaVuSans-55\"/>\n    </g>\n   </g>\n  </g>\n </g>\n <defs>\n  <clipPath id=\"pe7001d09db\">\n   <rect height=\"543.6\" width=\"558\" x=\"270.034375\" y=\"22.318125\"/>\n  </clipPath>\n </defs>\n</svg>\n",
      "image/png": "[encoded data removed]"
     },
     "metadata": {
      "needs_background": "light"
     }
    }
   ],
   "source": [
    "plt.figure(figsize=(10,10))\n",
    "plt.barh(top30_2017['title'], top30_2017['total_gross'])\n",
    "plt.xlabel('Total Gross (in billions)')\n",
    "plt.ylabel('Movie Title')\n",
    "plt.title('Top 30 Movies of 2017')"
   ]
  },
  {
   "cell_type": "code",
   "execution_count": null,
   "metadata": {},
   "outputs": [],
   "source": [
    "top30_2017.head()"
   ]
  }
 ],
 "metadata": {
  "kernelspec": {
   "name": "python388jvsc74a57bd030ef9eef00867b9a3a5d2257845463f7deb143b000faab7faf9a04eb1a844d1f",
   "display_name": "Python 3.8.8 64-bit ('base': conda)"
  },
  "language_info": {
   "codemirror_mode": {
    "name": "ipython",
    "version": 3
   },
   "file_extension": ".py",
   "mimetype": "text/x-python",
   "name": "python",
   "nbconvert_exporter": "python",
   "pygments_lexer": "ipython3",
   "version": "3.8.8"
  }
 },
 "nbformat": 4,
 "nbformat_minor": 4
}