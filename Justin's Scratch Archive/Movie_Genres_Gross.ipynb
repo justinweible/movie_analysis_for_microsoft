{
 "cells": [
  {
   "cell_type": "code",
   "execution_count": 3,
   "metadata": {},
   "outputs": [],
   "source": [
    "import pandas as pd"
   ]
  },
  {
   "cell_type": "code",
   "execution_count": 4,
   "metadata": {},
   "outputs": [],
   "source": [
    "data_movie_gross = pd.read_csv('zippedData/bom.movie_gross.csv.gz')"
   ]
  },
  {
   "cell_type": "code",
   "execution_count": 5,
   "metadata": {},
   "outputs": [],
   "source": [
    "data_title_ratings = pd.read_csv('zippedData/imdb.title.ratings.csv.gz')"
   ]
  },
  {
   "cell_type": "code",
   "execution_count": 6,
   "metadata": {},
   "outputs": [
    {
     "output_type": "execute_result",
     "data": {
      "text/plain": [
       "       tconst  averagerating  numvotes\n",
       "0  tt10356526            8.3        31\n",
       "1  tt10384606            8.9       559\n",
       "2   tt1042974            6.4        20\n",
       "3   tt1043726            4.2     50352\n",
       "4   tt1060240            6.5        21"
      ],
      "text/html": "<div>\n<style scoped>\n    .dataframe tbody tr th:only-of-type {\n        vertical-align: middle;\n    }\n\n    .dataframe tbody tr th {\n        vertical-align: top;\n    }\n\n    .dataframe thead th {\n        text-align: right;\n    }\n</style>\n<table border=\"1\" class=\"dataframe\">\n  <thead>\n    <tr style=\"text-align: right;\">\n      <th></th>\n      <th>tconst</th>\n      <th>averagerating</th>\n      <th>numvotes</th>\n    </tr>\n  </thead>\n  <tbody>\n    <tr>\n      <th>0</th>\n      <td>tt10356526</td>\n      <td>8.3</td>\n      <td>31</td>\n    </tr>\n    <tr>\n      <th>1</th>\n      <td>tt10384606</td>\n      <td>8.9</td>\n      <td>559</td>\n    </tr>\n    <tr>\n      <th>2</th>\n      <td>tt1042974</td>\n      <td>6.4</td>\n      <td>20</td>\n    </tr>\n    <tr>\n      <th>3</th>\n      <td>tt1043726</td>\n      <td>4.2</td>\n      <td>50352</td>\n    </tr>\n    <tr>\n      <th>4</th>\n      <td>tt1060240</td>\n      <td>6.5</td>\n      <td>21</td>\n    </tr>\n  </tbody>\n</table>\n</div>"
     },
     "metadata": {},
     "execution_count": 6
    }
   ],
   "source": [
    "data_title_ratings.head()"
   ]
  },
  {
   "cell_type": "code",
   "execution_count": 7,
   "metadata": {},
   "outputs": [],
   "source": [
    "data_title_basics = pd.read_csv('zippedData/imdb.title.basics.csv.gz')"
   ]
  },
  {
   "cell_type": "code",
   "execution_count": 8,
   "metadata": {},
   "outputs": [
    {
     "output_type": "execute_result",
     "data": {
      "text/plain": [
       "      tconst                    primary_title              original_title  \\\n",
       "0  tt0063540                        Sunghursh                   Sunghursh   \n",
       "1  tt0066787  One Day Before the Rainy Season             Ashad Ka Ek Din   \n",
       "2  tt0069049       The Other Side of the Wind  The Other Side of the Wind   \n",
       "3  tt0069204                  Sabse Bada Sukh             Sabse Bada Sukh   \n",
       "4  tt0100275         The Wandering Soap Opera       La Telenovela Errante   \n",
       "\n",
       "   start_year  runtime_minutes                genres  \n",
       "0        2013            175.0    Action,Crime,Drama  \n",
       "1        2019            114.0       Biography,Drama  \n",
       "2        2018            122.0                 Drama  \n",
       "3        2018              NaN          Comedy,Drama  \n",
       "4        2017             80.0  Comedy,Drama,Fantasy  "
      ],
      "text/html": "<div>\n<style scoped>\n    .dataframe tbody tr th:only-of-type {\n        vertical-align: middle;\n    }\n\n    .dataframe tbody tr th {\n        vertical-align: top;\n    }\n\n    .dataframe thead th {\n        text-align: right;\n    }\n</style>\n<table border=\"1\" class=\"dataframe\">\n  <thead>\n    <tr style=\"text-align: right;\">\n      <th></th>\n      <th>tconst</th>\n      <th>primary_title</th>\n      <th>original_title</th>\n      <th>start_year</th>\n      <th>runtime_minutes</th>\n      <th>genres</th>\n    </tr>\n  </thead>\n  <tbody>\n    <tr>\n      <th>0</th>\n      <td>tt0063540</td>\n      <td>Sunghursh</td>\n      <td>Sunghursh</td>\n      <td>2013</td>\n      <td>175.0</td>\n      <td>Action,Crime,Drama</td>\n    </tr>\n    <tr>\n      <th>1</th>\n      <td>tt0066787</td>\n      <td>One Day Before the Rainy Season</td>\n      <td>Ashad Ka Ek Din</td>\n      <td>2019</td>\n      <td>114.0</td>\n      <td>Biography,Drama</td>\n    </tr>\n    <tr>\n      <th>2</th>\n      <td>tt0069049</td>\n      <td>The Other Side of the Wind</td>\n      <td>The Other Side of the Wind</td>\n      <td>2018</td>\n      <td>122.0</td>\n      <td>Drama</td>\n    </tr>\n    <tr>\n      <th>3</th>\n      <td>tt0069204</td>\n      <td>Sabse Bada Sukh</td>\n      <td>Sabse Bada Sukh</td>\n      <td>2018</td>\n      <td>NaN</td>\n      <td>Comedy,Drama</td>\n    </tr>\n    <tr>\n      <th>4</th>\n      <td>tt0100275</td>\n      <td>The Wandering Soap Opera</td>\n      <td>La Telenovela Errante</td>\n      <td>2017</td>\n      <td>80.0</td>\n      <td>Comedy,Drama,Fantasy</td>\n    </tr>\n  </tbody>\n</table>\n</div>"
     },
     "metadata": {},
     "execution_count": 8
    }
   ],
   "source": [
    "data_title_basics.head()"
   ]
  },
  {
   "cell_type": "code",
   "execution_count": 9,
   "metadata": {},
   "outputs": [],
   "source": [
    "## Merged imdb.title.basics.csv.gz and imdb.title.ratings.csv.gz on the column 'tconst' with an inner join to eliminate \n",
    "## non-matching items.\n",
    "data_title_overall = pd.merge(data_title_basics, data_title_ratings, on='tconst', how='inner')"
   ]
  },
  {
   "cell_type": "code",
   "execution_count": 10,
   "metadata": {},
   "outputs": [],
   "source": [
    "## Renamed 'primary_title' to 'title' in order to smoothly merge this dataframe with bom.movie_gross.csv.gz.\n",
    "data_title_overall = data_title_overall.rename(columns={'primary_title': 'title'})"
   ]
  },
  {
   "cell_type": "code",
   "execution_count": 11,
   "metadata": {},
   "outputs": [],
   "source": [
    "## Merged IMDB and BOM data into one dataframe\n",
    "movie_titles = pd.merge(data_movie_gross, data_title_overall, on='title', how='inner')"
   ]
  },
  {
   "cell_type": "code",
   "execution_count": 12,
   "metadata": {},
   "outputs": [
    {
     "output_type": "stream",
     "name": "stdout",
     "text": [
      "<class 'pandas.core.frame.DataFrame'>\nInt64Index: 3027 entries, 0 to 3026\nData columns (total 12 columns):\n #   Column           Non-Null Count  Dtype  \n---  ------           --------------  -----  \n 0   title            3027 non-null   object \n 1   studio           3024 non-null   object \n 2   domestic_gross   3005 non-null   float64\n 3   foreign_gross    1832 non-null   object \n 4   year             3027 non-null   int64  \n 5   tconst           3027 non-null   object \n 6   original_title   3027 non-null   object \n 7   start_year       3027 non-null   int64  \n 8   runtime_minutes  2980 non-null   float64\n 9   genres           3020 non-null   object \n 10  averagerating    3027 non-null   float64\n 11  numvotes         3027 non-null   int64  \ndtypes: float64(3), int64(3), object(6)\nmemory usage: 307.4+ KB\n"
     ]
    }
   ],
   "source": [
    "movie_titles.info()"
   ]
  },
  {
   "cell_type": "code",
   "execution_count": 13,
   "metadata": {},
   "outputs": [],
   "source": [
    "movie_titles = movie_titles[['title', 'studio', 'domestic_gross', 'foreign_gross', 'year', 'genres', 'averagerating']]"
   ]
  },
  {
   "cell_type": "code",
   "execution_count": 14,
   "metadata": {},
   "outputs": [],
   "source": [
    "movie_titles.dropna(axis=0, how='any', inplace=True)"
   ]
  },
  {
   "cell_type": "code",
   "execution_count": 15,
   "metadata": {},
   "outputs": [],
   "source": [
    "movie_titles['foreign_gross'] = movie_titles.foreign_gross.str.split(',').str.join('').astype(float)"
   ]
  },
  {
   "cell_type": "code",
   "execution_count": 16,
   "metadata": {},
   "outputs": [],
   "source": [
    "movie_titles['total_gross'] = movie_titles['domestic_gross'] + movie_titles['foreign_gross']"
   ]
  },
  {
   "cell_type": "code",
   "execution_count": 17,
   "metadata": {},
   "outputs": [
    {
     "output_type": "execute_result",
     "data": {
      "text/plain": [
       "                        title studio  domestic_gross  foreign_gross  year  \\\n",
       "0                 Toy Story 3     BV     415000000.0    652000000.0  2010   \n",
       "1                   Inception     WB     292600000.0    535700000.0  2010   \n",
       "2         Shrek Forever After   P/DW     238700000.0    513900000.0  2010   \n",
       "3  The Twilight Saga: Eclipse   Sum.     300500000.0    398000000.0  2010   \n",
       "4                  Iron Man 2   Par.     312400000.0    311500000.0  2010   \n",
       "\n",
       "                       genres  averagerating   total_gross  \n",
       "0  Adventure,Animation,Comedy            8.3  1.067000e+09  \n",
       "1     Action,Adventure,Sci-Fi            8.8  8.283000e+08  \n",
       "2  Adventure,Animation,Comedy            6.3  7.526000e+08  \n",
       "3     Adventure,Drama,Fantasy            5.0  6.985000e+08  \n",
       "4     Action,Adventure,Sci-Fi            7.0  6.239000e+08  "
      ],
      "text/html": "<div>\n<style scoped>\n    .dataframe tbody tr th:only-of-type {\n        vertical-align: middle;\n    }\n\n    .dataframe tbody tr th {\n        vertical-align: top;\n    }\n\n    .dataframe thead th {\n        text-align: right;\n    }\n</style>\n<table border=\"1\" class=\"dataframe\">\n  <thead>\n    <tr style=\"text-align: right;\">\n      <th></th>\n      <th>title</th>\n      <th>studio</th>\n      <th>domestic_gross</th>\n      <th>foreign_gross</th>\n      <th>year</th>\n      <th>genres</th>\n      <th>averagerating</th>\n      <th>total_gross</th>\n    </tr>\n  </thead>\n  <tbody>\n    <tr>\n      <th>0</th>\n      <td>Toy Story 3</td>\n      <td>BV</td>\n      <td>415000000.0</td>\n      <td>652000000.0</td>\n      <td>2010</td>\n      <td>Adventure,Animation,Comedy</td>\n      <td>8.3</td>\n      <td>1.067000e+09</td>\n    </tr>\n    <tr>\n      <th>1</th>\n      <td>Inception</td>\n      <td>WB</td>\n      <td>292600000.0</td>\n      <td>535700000.0</td>\n      <td>2010</td>\n      <td>Action,Adventure,Sci-Fi</td>\n      <td>8.8</td>\n      <td>8.283000e+08</td>\n    </tr>\n    <tr>\n      <th>2</th>\n      <td>Shrek Forever After</td>\n      <td>P/DW</td>\n      <td>238700000.0</td>\n      <td>513900000.0</td>\n      <td>2010</td>\n      <td>Adventure,Animation,Comedy</td>\n      <td>6.3</td>\n      <td>7.526000e+08</td>\n    </tr>\n    <tr>\n      <th>3</th>\n      <td>The Twilight Saga: Eclipse</td>\n      <td>Sum.</td>\n      <td>300500000.0</td>\n      <td>398000000.0</td>\n      <td>2010</td>\n      <td>Adventure,Drama,Fantasy</td>\n      <td>5.0</td>\n      <td>6.985000e+08</td>\n    </tr>\n    <tr>\n      <th>4</th>\n      <td>Iron Man 2</td>\n      <td>Par.</td>\n      <td>312400000.0</td>\n      <td>311500000.0</td>\n      <td>2010</td>\n      <td>Action,Adventure,Sci-Fi</td>\n      <td>7.0</td>\n      <td>6.239000e+08</td>\n    </tr>\n  </tbody>\n</table>\n</div>"
     },
     "metadata": {},
     "execution_count": 17
    }
   ],
   "source": [
    "movie_titles.head()"
   ]
  },
  {
   "cell_type": "code",
   "execution_count": 18,
   "metadata": {},
   "outputs": [],
   "source": [
    "movie_titles_genres = movie_titles[['title', 'studio', 'genres', 'total_gross', 'year']]"
   ]
  },
  {
   "cell_type": "code",
   "execution_count": 19,
   "metadata": {},
   "outputs": [
    {
     "output_type": "stream",
     "name": "stdout",
     "text": [
      "<class 'pandas.core.frame.DataFrame'>\nInt64Index: 1803 entries, 0 to 3001\nData columns (total 5 columns):\n #   Column       Non-Null Count  Dtype  \n---  ------       --------------  -----  \n 0   title        1803 non-null   object \n 1   studio       1803 non-null   object \n 2   genres       1803 non-null   object \n 3   total_gross  1803 non-null   float64\n 4   year         1803 non-null   int64  \ndtypes: float64(1), int64(1), object(3)\nmemory usage: 84.5+ KB\n"
     ]
    }
   ],
   "source": [
    "movie_titles_genres.info()"
   ]
  },
  {
   "cell_type": "code",
   "execution_count": 20,
   "metadata": {},
   "outputs": [
    {
     "output_type": "execute_result",
     "data": {
      "text/plain": [
       "                        title studio                      genres  \\\n",
       "0                 Toy Story 3     BV  Adventure,Animation,Comedy   \n",
       "1                   Inception     WB     Action,Adventure,Sci-Fi   \n",
       "2         Shrek Forever After   P/DW  Adventure,Animation,Comedy   \n",
       "3  The Twilight Saga: Eclipse   Sum.     Adventure,Drama,Fantasy   \n",
       "4                  Iron Man 2   Par.     Action,Adventure,Sci-Fi   \n",
       "\n",
       "    total_gross  year  \n",
       "0  1.067000e+09  2010  \n",
       "1  8.283000e+08  2010  \n",
       "2  7.526000e+08  2010  \n",
       "3  6.985000e+08  2010  \n",
       "4  6.239000e+08  2010  "
      ],
      "text/html": "<div>\n<style scoped>\n    .dataframe tbody tr th:only-of-type {\n        vertical-align: middle;\n    }\n\n    .dataframe tbody tr th {\n        vertical-align: top;\n    }\n\n    .dataframe thead th {\n        text-align: right;\n    }\n</style>\n<table border=\"1\" class=\"dataframe\">\n  <thead>\n    <tr style=\"text-align: right;\">\n      <th></th>\n      <th>title</th>\n      <th>studio</th>\n      <th>genres</th>\n      <th>total_gross</th>\n      <th>year</th>\n    </tr>\n  </thead>\n  <tbody>\n    <tr>\n      <th>0</th>\n      <td>Toy Story 3</td>\n      <td>BV</td>\n      <td>Adventure,Animation,Comedy</td>\n      <td>1.067000e+09</td>\n      <td>2010</td>\n    </tr>\n    <tr>\n      <th>1</th>\n      <td>Inception</td>\n      <td>WB</td>\n      <td>Action,Adventure,Sci-Fi</td>\n      <td>8.283000e+08</td>\n      <td>2010</td>\n    </tr>\n    <tr>\n      <th>2</th>\n      <td>Shrek Forever After</td>\n      <td>P/DW</td>\n      <td>Adventure,Animation,Comedy</td>\n      <td>7.526000e+08</td>\n      <td>2010</td>\n    </tr>\n    <tr>\n      <th>3</th>\n      <td>The Twilight Saga: Eclipse</td>\n      <td>Sum.</td>\n      <td>Adventure,Drama,Fantasy</td>\n      <td>6.985000e+08</td>\n      <td>2010</td>\n    </tr>\n    <tr>\n      <th>4</th>\n      <td>Iron Man 2</td>\n      <td>Par.</td>\n      <td>Action,Adventure,Sci-Fi</td>\n      <td>6.239000e+08</td>\n      <td>2010</td>\n    </tr>\n  </tbody>\n</table>\n</div>"
     },
     "metadata": {},
     "execution_count": 20
    }
   ],
   "source": [
    "movie_titles_genres.head()"
   ]
  },
  {
   "cell_type": "code",
   "execution_count": 21,
   "metadata": {},
   "outputs": [],
   "source": [
    "unique_genres = movie_titles_genres.genres.unique()"
   ]
  },
  {
   "cell_type": "code",
   "execution_count": 23,
   "metadata": {},
   "outputs": [
    {
     "output_type": "stream",
     "name": "stdout",
     "text": [
      "['Adventure,Animation,Comedy' 'Action,Adventure,Sci-Fi'\n 'Adventure,Drama,Fantasy' 'Animation,Comedy,Family'\n 'Action,Adventure,Animation' 'Adventure,Family,Fantasy'\n 'Biography,Drama,History' 'Action,Drama,Family'\n 'Action,Adventure,Fantasy' 'Drama,Thriller' 'Action,Animation,Comedy'\n 'Action,Adventure,Drama' 'Action,Drama' 'Action,Adventure,Thriller'\n 'Action,Adventure,Family' 'Comedy,Romance' 'Action,Adventure,Horror'\n 'Mystery,Thriller' 'Action,Mystery,Thriller' 'Comedy,Drama,Romance'\n 'Comedy' 'Adventure,Drama,Western' 'Adventure,Comedy,Family'\n 'Biography,Drama' 'Adventure,Comedy' 'Drama,Romance' 'Thriller' 'Drama'\n 'Horror' 'Action,Comedy,Crime' 'Action,Thriller' 'Documentary'\n 'Action,Crime' 'Crime,Drama,Thriller' 'Comedy,Crime,Romance'\n 'Drama,Fantasy,Horror' 'Action,Comedy,Romance' 'Biography,Drama,Sport'\n 'Drama,Romance,War' 'Action,Comedy,Family' 'Comedy,Family,Fantasy'\n 'Drama,Fantasy,Romance' 'Crime,Drama,Mystery' 'Action,Crime,Drama'\n 'Action,Comedy' 'Action,Drama,Thriller' 'Adventure,Comedy,Music'\n 'Drama,Music,Musical' 'Drama,Music,Romance' 'Comedy,Family'\n 'Comedy,Horror' 'Adventure,Comedy,Drama' 'Comedy,Drama,Family'\n 'Action,Crime,Thriller' 'Drama,Horror,Thriller' 'Action,Sci-Fi,Thriller'\n 'Comedy,Sci-Fi' 'Horror,Mystery,Thriller' 'Adventure,Biography,Drama'\n 'Biography,Drama,Family' 'Drama,Mystery,Thriller' 'Horror,Thriller'\n 'Action,Comedy,Fantasy' 'Comedy,Family,Romance' 'Action,Adventure,Crime'\n 'Comedy,Romance,Sport' 'Drama,Music' 'Comedy,Drama' 'Action,Crime,Sci-Fi'\n 'Action,Family,Fantasy' 'Drama,Mystery' 'Crime,Drama'\n 'Biography,Comedy,Drama' 'Action,Fantasy,Western' 'Action,Drama,Fantasy'\n 'Crime,Horror,Mystery' 'Biography,Crime,Drama' 'Drama,Romance,Sci-Fi'\n 'Crime,Documentary' 'Biography,Documentary' 'Comedy,Crime,Documentary'\n 'Biography,Drama,Music' 'Adventure' 'Comedy,Crime,Drama'\n 'Drama,Sci-Fi,Thriller' 'Adventure,Fantasy,Horror' 'Crime,Drama,Horror'\n 'Documentary,Drama,Mystery' 'Action,Drama,Romance' 'Drama,Family'\n 'Family,Sport' 'Comedy,Crime' 'Family' 'Comedy,Drama,Musical'\n 'Documentary,War' 'Biography,Drama,Romance' 'Action,Fantasy,Horror'\n 'Biography,Comedy,Crime' 'Comedy,Drama,Music' 'Drama,Romance,Thriller'\n 'Comedy,Drama,Fantasy' 'Thriller,Western' 'Documentary,History'\n 'Crime,Thriller' 'Comedy,Mystery' 'Action,Drama,Sci-Fi'\n 'Mystery,Sci-Fi,Thriller' 'Adventure,Drama,Family' 'Drama,History,War'\n 'Action,Adventure,Comedy' 'Comedy,Fantasy,Romance'\n 'Romance,Sci-Fi,Thriller' 'Adventure,Drama,Thriller' 'Documentary,Music'\n 'Adventure,Comedy,Sci-Fi' 'Horror,Mystery' 'Drama,Horror,Mystery'\n 'Fantasy,Horror,Mystery' 'Action,Comedy,Drama' 'Action,Sci-Fi'\n 'Comedy,Fantasy' 'Documentary,News' 'Drama,Fantasy' 'Drama,History'\n 'Adventure,Drama,Mystery' 'Action' 'Adventure,Animation,Family'\n 'Fantasy,Horror,Thriller' 'Adventure,Documentary'\n 'Action,Fantasy,Thriller' 'Action,Drama,History' 'Horror,Mystery,Sci-Fi'\n 'Adventure,Comedy,Fantasy' 'Drama,Sport' 'Drama,War'\n 'Adventure,Drama,History' 'Documentary,Drama,Family'\n 'Comedy,Crime,Thriller' 'Animation,Comedy,Crime' 'Drama,Sci-Fi'\n 'Drama,Mystery,Romance' 'Crime,Drama,History' 'Horror,Romance'\n 'Comedy,Drama,Sport' 'Adventure,Comedy,Western'\n 'Crime,Documentary,History' 'Biography,Documentary,Sport'\n 'Action,Comedy,Sci-Fi' 'Comedy,Crime,History' 'Crime,Drama,Romance'\n 'Comedy,Drama,Mystery' 'Action,Biography,Crime' 'Comedy,Drama,Horror'\n 'Comedy,Crime,Mystery' 'Animation,Drama' 'Action,Adventure,Western'\n 'Comedy,Mystery,Romance' 'Romance,Thriller' 'Biography,Documentary,Drama'\n 'Drama,Western' 'Adventure,Mystery,Sci-Fi' 'Comedy,Fantasy,Horror'\n 'Action,Horror,Sci-Fi' 'Biography,Drama,Thriller'\n 'Drama,History,Thriller' 'Action,Drama,Mystery' 'Comedy,Music,Romance'\n 'Action,Comedy,Western' 'Action,Comedy,Sport' 'Action,Comedy,Horror'\n 'Fantasy,Romance' 'Action,Crime,Mystery' 'Crime,Mystery,Thriller'\n 'Action,History' 'Adventure,Drama,Romance' 'Drama,History,Romance'\n 'Drama,Fantasy,Thriller' 'Drama,Mystery,Western'\n 'Animation,Comedy,Fantasy' 'Comedy,Mystery,Thriller'\n 'Animation,Crime,Drama' 'Biography,Crime,Documentary' 'Animation,Fantasy'\n 'Fantasy' 'Drama,Thriller,War' 'Action,Horror,Mystery'\n 'Biography,Documentary,History' 'Adventure,Drama,Sport'\n 'Adventure,Fantasy' 'Adventure,Comedy,Crime' 'Action,Biography,Drama'\n 'Comedy,Horror,Romance' 'Animation,Drama,Family' 'Comedy,Documentary'\n 'Horror,Sci-Fi,Thriller' 'Adventure,History' 'Mystery' 'Biography,Comedy'\n 'Drama,Horror' 'Music' 'Drama,Family,Music' 'Action,Fantasy,Romance'\n 'Action,Adventure' 'Adventure,Drama,Sci-Fi' 'Animation'\n 'Action,Mystery,Sci-Fi' 'Action,Adventure,Mystery' 'Comedy,Musical'\n 'Action,Sport,War' 'Comedy,Drama,History' 'Animation,Biography,Drama'\n 'Comedy,Western' 'Drama,Fantasy,Music' 'Action,Animation,Drama'\n 'Adventure,Family,Sci-Fi' 'Drama,Fantasy,Mystery'\n 'Adventure,Animation,Drama' 'Crime,Drama,Fantasy'\n 'Biography,Documentary,Thriller' 'Documentary,Drama,Music'\n 'Drama,Musical,Romance' 'Comedy,Thriller' 'Animation,Drama,Sci-Fi'\n 'Adventure,Crime,Drama' 'Action,Adventure,Biography' 'Comedy,Music'\n 'Adventure,Drama' 'Adventure,Biography,Comedy' 'Drama,Mystery,Sci-Fi'\n 'Drama,Horror,Sci-Fi' 'Comedy,Drama,Thriller' 'Fantasy,Horror'\n 'Comedy,Mystery,Sci-Fi' 'Mystery,Romance,Thriller'\n 'Animation,Comedy,Drama' 'Biography,Documentary,Music'\n 'Crime,Horror,Thriller' 'Action,Horror,Thriller' 'Action,Drama,Sport'\n 'Adventure,Comedy,Romance' 'Animation,Drama,Fantasy' 'Comedy,Drama,War'\n 'Sci-Fi' 'Documentary,Drama,Sport' 'Biography,Drama,Musical' 'Crime'\n 'Action,Comedy,Thriller' 'Action,Biography,Comedy' 'Action,Comedy,War'\n 'Animation,Biography,Crime' 'Drama,History,Sport' 'Documentary,Family'\n 'Action,Sport' 'Action,Comedy,Mystery' 'Comedy,Musical,Romance'\n 'Horror,Romance,Thriller' 'Romance' 'Adventure,Comedy,Horror'\n 'Comedy,Sport' 'Comedy,History' 'Biography,Drama,War' 'Fantasy,Thriller']\n"
     ]
    }
   ],
   "source": [
    "print(unique_genres)"
   ]
  },
  {
   "cell_type": "code",
   "execution_count": 24,
   "metadata": {},
   "outputs": [],
   "source": [
    "movie_genres_list = []\n",
    "\n",
    "for x in unique_genres:\n",
    "    movie_genres_list.extend(x.split(','))"
   ]
  },
  {
   "cell_type": "code",
   "execution_count": 25,
   "metadata": {},
   "outputs": [],
   "source": [
    "movie_genres = (list(set(movie_genres_list)))"
   ]
  },
  {
   "cell_type": "code",
   "execution_count": 26,
   "metadata": {},
   "outputs": [],
   "source": [
    "movie_genres = sorted(movie_genres)"
   ]
  },
  {
   "cell_type": "code",
   "execution_count": 27,
   "metadata": {},
   "outputs": [
    {
     "output_type": "execute_result",
     "data": {
      "text/plain": [
       "['Action',\n",
       " 'Adventure',\n",
       " 'Animation',\n",
       " 'Biography',\n",
       " 'Comedy',\n",
       " 'Crime',\n",
       " 'Documentary',\n",
       " 'Drama',\n",
       " 'Family',\n",
       " 'Fantasy',\n",
       " 'History',\n",
       " 'Horror',\n",
       " 'Music',\n",
       " 'Musical',\n",
       " 'Mystery',\n",
       " 'News',\n",
       " 'Romance',\n",
       " 'Sci-Fi',\n",
       " 'Sport',\n",
       " 'Thriller',\n",
       " 'War',\n",
       " 'Western']"
      ]
     },
     "metadata": {},
     "execution_count": 27
    }
   ],
   "source": [
    "movie_genres"
   ]
  },
  {
   "cell_type": "code",
   "execution_count": null,
   "metadata": {},
   "outputs": [],
   "source": []
  }
 ],
 "metadata": {
  "kernelspec": {
   "name": "python388jvsc74a57bd030ef9eef00867b9a3a5d2257845463f7deb143b000faab7faf9a04eb1a844d1f",
   "display_name": "Python 3.8.8 64-bit ('base': conda)"
  },
  "language_info": {
   "codemirror_mode": {
    "name": "ipython",
    "version": 3
   },
   "file_extension": ".py",
   "mimetype": "text/x-python",
   "name": "python",
   "nbconvert_exporter": "python",
   "pygments_lexer": "ipython3",
   "version": "3.8.8"
  }
 },
 "nbformat": 4,
 "nbformat_minor": 2
}